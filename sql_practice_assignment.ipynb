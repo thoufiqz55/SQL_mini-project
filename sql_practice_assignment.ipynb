{
  "cells": [
    {
      "cell_type": "markdown",
      "id": "formal-investing",
      "metadata": {
        "id": "formal-investing"
      },
      "source": [
        "# Assignment - SQL Querying Practice\n",
        "\n",
        "As you go through this notebook, you will find the symbol **???** in certain places. Your job is to replace the **???** with appropriate code or values, to ensure that the notebook runs properly end-to-end without errors. \n",
        "\n",
        "**Guidelines**\n",
        "\n",
        "1. Make sure to run all the code cells in order. Otherwise, you may get errors like `NameError` for undefined variables.\n",
        "2. Do not change variable names, delete cells, or disturb other existing code. It may cause problems during evaluation.\n",
        "3. In some cases, you may need to add some code cells or new statements before or after the line of code containing the **???**. \n",
        "4. Since you'll be using a temporary online service for code execution, save your work by running `jovian.commit` at regular intervals.\n",
        "5. Review the \"Evaluation Criteria\" for the assignment carefully and make sure your submission meets all the criteria.\n",
        "6. Questions marked **(Optional)** will not be considered for evaluation and can be skipped. They are for your learning.\n",
        "7. It's okay to ask for help & discuss ideas on the [Slack Group](https://zerotodatascience.com), but please don't post full working code, to give everyone an opportunity to solve the assignment on their own.\n"
      ]
    },
    {
      "cell_type": "markdown",
      "id": "moving-trick",
      "metadata": {
        "id": "moving-trick"
      },
      "source": [
        "## How to Run the Code and Save Your Work\n",
        "\n",
        "\n",
        "**Option 1: Running using free online resources (1-click, recommended):** The easiest way to start executing the code is to click the **Run** button at the top of this page and select **Run on Binder**. This will set up a cloud-based Jupyter notebook server and allow you to modify/execute the code.\n",
        "\n",
        "\n",
        "**Option 2: Running on your computer locally:** To run the code on your computer locally, you'll need to set up [Python](https://www.python.org), download the notebook and install the required libraries. Click the **Run** button at the top of this page, select the **Run Locally** option, and follow the instructions.\n",
        "\n",
        "**Saving your work**: You can save a snapshot of the assignment to your [Jovian](https://jovian.ai) profile, so that you can access it later and continue your work. Keep saving your work by running `jovian.commit` from time to time."
      ]
    },
    {
      "cell_type": "code",
      "execution_count": null,
      "id": "other-canadian",
      "metadata": {
        "id": "other-canadian"
      },
      "outputs": [],
      "source": [
        "!pip install jovian --upgrade --quiet"
      ]
    },
    {
      "cell_type": "code",
      "execution_count": null,
      "id": "incredible-briefing",
      "metadata": {
        "id": "incredible-briefing"
      },
      "outputs": [],
      "source": [
        "import jovian"
      ]
    },
    {
      "cell_type": "code",
      "execution_count": null,
      "id": "patient-interface",
      "metadata": {
        "id": "patient-interface",
        "outputId": "0a487838-76a5-4ae7-9e46-95a600b5b932"
      },
      "outputs": [
        {
          "data": {
            "application/javascript": [
              "window.require && require([\"base/js/namespace\"],function(Jupyter){Jupyter.notebook.save_checkpoint()})"
            ],
            "text/plain": [
              "<IPython.core.display.Javascript object>"
            ]
          },
          "metadata": {},
          "output_type": "display_data"
        },
        {
          "name": "stdout",
          "output_type": "stream",
          "text": [
            "[jovian] Updating notebook \"zthoufiqz55/sql-practice-assignment\" on https://jovian.ai\u001b[0m\n",
            "[jovian] Committed successfully! https://jovian.ai/zthoufiqz55/sql-practice-assignment\u001b[0m\n"
          ]
        },
        {
          "data": {
            "text/plain": [
              "'https://jovian.ai/zthoufiqz55/sql-practice-assignment'"
            ]
          },
          "execution_count": 3,
          "metadata": {},
          "output_type": "execute_result"
        }
      ],
      "source": [
        "jovian.commit(project='sql-practice-assignment', privacy='secret')"
      ]
    },
    {
      "cell_type": "markdown",
      "id": "liquid-banana",
      "metadata": {
        "id": "liquid-banana"
      },
      "source": [
        "## SQLite and Initial Setup\n",
        "\n",
        "Relational databases generally have two components:\n",
        "\n",
        "1. **Database Server/Engine**: A software package that manages databases and runs in the background, listening for SQL queries from authorized users E.g. MySQL server, Microsoft SQL server, Postgres etc.\n",
        "2. **Database Client**: A command-line tool or graphical user interface (GUI) to connect to the database server and run SQL queries. E.g. MySQL workbench, PgAdmin etc.\n",
        "\n",
        "The server and client can be on the same computer e.g. both on your laptop, or on different computers e.g. the database server can be running on the cloud and you can connect to it using a client installed on your computer.\n",
        "\n",
        "Most database servers/engines are designed to operate on databases containing large amounts of data (e.g. 100s of GBs) and to handle a very high volume of queries (e.g. thousands of queries per second). They typically require powerful hardware i.e. multi-core CPUs and large amounts of RAM.\n",
        "\n",
        "\n",
        "<img src=\"https://www.sqlite.org/images/sqlite370_banner.gif\" width=\"240\" style=\"margin-left:0\">\n",
        "\n",
        "In this assignment, however, we'll use a lightweight database engine called [SQLite](https://www.sqlite.org/index.html), which is well-suited for databases with small amounts of data and has very limited CPU & RAM requirements. Despite being limited in its capabilities, it is the [most widely used database engine in the world](https://www.sqlite.org/mostdeployed.html). SQLite is used by smartphone apps, web browsers, desktop applications, IoT devices etc. to store and manage data locally on the device. \n",
        "\n",
        "If you're running this assignment locally, you'll need to [download and install `sqlite3`](https://www.servermania.com/kb/articles/install-sqlite/) on your computer. `sqlite3` is already installed on Binder. You can verify that you have `sqlite3` installed by running the following command to show the version of SQLite you have installed:"
      ]
    },
    {
      "cell_type": "code",
      "execution_count": null,
      "id": "strategic-investigation",
      "metadata": {
        "id": "strategic-investigation",
        "outputId": "5996e972-d573-478b-afa2-1ffef7a1841e"
      },
      "outputs": [
        {
          "name": "stdout",
          "output_type": "stream",
          "text": [
            "3.36.0 2021-06-18 18:36:39 5c9a6c06871cb9fe42814af9c039eb6da5427a6ec28f187af7ebfb62eafa66e5\r\n"
          ]
        }
      ],
      "source": [
        "!sqlite3 --version"
      ]
    },
    {
      "cell_type": "markdown",
      "id": "federal-lithuania",
      "metadata": {
        "id": "federal-lithuania"
      },
      "source": [
        "Unlike other relational databases, SQLite doesn't have separate server and client packages. The `sqlite3` command line tool is all your need to create and interact with SQLite databases. The databases themselves are stored as files with the extension `.sqlite`. You can perform CRUD operations on the database simply by passing SQL queries using `sqlite3`.\n",
        "\n",
        "Here's a visual representation of how SQLite differs from other relational database servers ([source](https://devopedia.org/sqlite)):\n",
        "\n",
        "<img src=\"https://i.imgur.com/eC5Ieni.png\" width=\"640\">\n",
        "\n",
        "\n",
        "Note that a `.sqlite` file is different from a `.sql` file, which contains commands for creating tables and inserting data. The `.sqlite` file is the actual database where the data is stored in a binary tabular format for efficient querying and manipulation.\n",
        "\n",
        "In this assignment, we'll use the [Chinook open source database](https://github.com/lerocha/chinook-database). Let's begin by downloading the `.sqlite` file for the database containing all the required tables and the sample data. "
      ]
    },
    {
      "cell_type": "code",
      "execution_count": null,
      "id": "handy-property",
      "metadata": {
        "id": "handy-property"
      },
      "outputs": [],
      "source": [
        "from urllib.request import urlretrieve"
      ]
    },
    {
      "cell_type": "code",
      "execution_count": null,
      "id": "simple-editor",
      "metadata": {
        "id": "simple-editor"
      },
      "outputs": [],
      "source": [
        "db_url = 'https://github.com/lerocha/chinook-database/raw/master/ChinookDatabase/DataSources/Chinook_Sqlite.sqlite'"
      ]
    },
    {
      "cell_type": "code",
      "execution_count": null,
      "id": "patient-college",
      "metadata": {
        "id": "patient-college",
        "outputId": "5ace9772-32ea-4c2b-c9a6-81d8747e051f"
      },
      "outputs": [
        {
          "data": {
            "text/plain": [
              "('chinook.sqlite', <http.client.HTTPMessage at 0x7fe3b81bc130>)"
            ]
          },
          "execution_count": 7,
          "metadata": {},
          "output_type": "execute_result"
        }
      ],
      "source": [
        "urlretrieve(db_url, 'chinook.sqlite')"
      ]
    },
    {
      "cell_type": "markdown",
      "id": "covered-grant",
      "metadata": {
        "id": "covered-grant"
      },
      "source": [
        "The database `chinook.sqlite` is now downloaded. To access and interact with the database by writing SQL queries directly within Jupyter, we'll use the [`ipython-sql`](https://pypi.org/project/ipython-sql/) library that provides the `%%sql` magic commands. It uses the [`sqlalchemy`](https://sqlalchemy.org) library behind the scenes to interact with the database."
      ]
    },
    {
      "cell_type": "code",
      "execution_count": null,
      "id": "explicit-chapter",
      "metadata": {
        "id": "explicit-chapter"
      },
      "outputs": [],
      "source": [
        "!pip install sqlalchemy ipython-sql --quiet --upgrade"
      ]
    },
    {
      "cell_type": "code",
      "execution_count": null,
      "id": "whole-female",
      "metadata": {
        "id": "whole-female"
      },
      "outputs": [],
      "source": [
        "%load_ext sql"
      ]
    },
    {
      "cell_type": "markdown",
      "id": "foster-mouse",
      "metadata": {
        "id": "foster-mouse"
      },
      "source": [
        "We can now connect to the database using a [SQLAlchemy connection string](https://docs.sqlalchemy.org/en/14/core/engines.html). We'll use the `%%sql` Jupyter magic command."
      ]
    },
    {
      "cell_type": "code",
      "execution_count": null,
      "id": "abstract-might",
      "metadata": {
        "id": "abstract-might"
      },
      "outputs": [],
      "source": [
        "%%sql \n",
        "\n",
        "sqlite:///chinook.sqlite"
      ]
    },
    {
      "cell_type": "markdown",
      "id": "frank-concern",
      "metadata": {
        "id": "frank-concern"
      },
      "source": [
        "We are now connected to the database and we can start writing SQL queries."
      ]
    },
    {
      "cell_type": "markdown",
      "id": "deadly-browser",
      "metadata": {
        "id": "deadly-browser"
      },
      "source": [
        "## Chinook Database Structure and Queries\n",
        "\n",
        "The Chinook database represents a digital media store, including tables for artists, albums, media tracks, invoices and customers. Here's an [Entity Relationship Diagram](https://www.guru99.com/er-diagram-tutorial-dbms.html) (ERD) showing the structure of the Chinook database:\n",
        "\n",
        "![](https://i.imgur.com/X1wM142.png)\n",
        "\n",
        "Let's begin by looking at the data from some of the tables in the database. We can write SQL queries directly within Jupyter code cells by including the magic command `%%sql` as the first line of the cell, indicating that contents of cell represent a SQL query."
      ]
    },
    {
      "cell_type": "code",
      "execution_count": null,
      "id": "geological-temperature",
      "metadata": {
        "id": "geological-temperature",
        "outputId": "5ecdad0a-2fab-4de7-cf4f-f3eb01189e43"
      },
      "outputs": [
        {
          "name": "stdout",
          "output_type": "stream",
          "text": [
            " * sqlite:///chinook.sqlite\n",
            "Done.\n"
          ]
        },
        {
          "data": {
            "text/html": [
              "<table>\n",
              "    <tr>\n",
              "        <th>ArtistId</th>\n",
              "        <th>Name</th>\n",
              "    </tr>\n",
              "    <tr>\n",
              "        <td>1</td>\n",
              "        <td>AC/DC</td>\n",
              "    </tr>\n",
              "    <tr>\n",
              "        <td>2</td>\n",
              "        <td>Accept</td>\n",
              "    </tr>\n",
              "    <tr>\n",
              "        <td>3</td>\n",
              "        <td>Aerosmith</td>\n",
              "    </tr>\n",
              "    <tr>\n",
              "        <td>4</td>\n",
              "        <td>Alanis Morissette</td>\n",
              "    </tr>\n",
              "    <tr>\n",
              "        <td>5</td>\n",
              "        <td>Alice In Chains</td>\n",
              "    </tr>\n",
              "</table>"
            ],
            "text/plain": [
              "[(1, 'AC/DC'),\n",
              " (2, 'Accept'),\n",
              " (3, 'Aerosmith'),\n",
              " (4, 'Alanis Morissette'),\n",
              " (5, 'Alice In Chains')]"
            ]
          },
          "execution_count": 11,
          "metadata": {},
          "output_type": "execute_result"
        }
      ],
      "source": [
        "%%sql \n",
        "\n",
        "SELECT * FROM Artist LIMIT 5"
      ]
    },
    {
      "cell_type": "code",
      "execution_count": null,
      "id": "enclosed-amount",
      "metadata": {
        "id": "enclosed-amount",
        "outputId": "95a9d6ec-78e4-4895-e570-e028e16d02c7"
      },
      "outputs": [
        {
          "name": "stdout",
          "output_type": "stream",
          "text": [
            " * sqlite:///chinook.sqlite\n",
            "Done.\n"
          ]
        },
        {
          "data": {
            "text/html": [
              "<table>\n",
              "    <tr>\n",
              "        <th>AlbumId</th>\n",
              "        <th>Title</th>\n",
              "        <th>ArtistId</th>\n",
              "    </tr>\n",
              "    <tr>\n",
              "        <td>1</td>\n",
              "        <td>For Those About To Rock We Salute You</td>\n",
              "        <td>1</td>\n",
              "    </tr>\n",
              "    <tr>\n",
              "        <td>2</td>\n",
              "        <td>Balls to the Wall</td>\n",
              "        <td>2</td>\n",
              "    </tr>\n",
              "    <tr>\n",
              "        <td>3</td>\n",
              "        <td>Restless and Wild</td>\n",
              "        <td>2</td>\n",
              "    </tr>\n",
              "    <tr>\n",
              "        <td>4</td>\n",
              "        <td>Let There Be Rock</td>\n",
              "        <td>1</td>\n",
              "    </tr>\n",
              "    <tr>\n",
              "        <td>5</td>\n",
              "        <td>Big Ones</td>\n",
              "        <td>3</td>\n",
              "    </tr>\n",
              "</table>"
            ],
            "text/plain": [
              "[(1, 'For Those About To Rock We Salute You', 1),\n",
              " (2, 'Balls to the Wall', 2),\n",
              " (3, 'Restless and Wild', 2),\n",
              " (4, 'Let There Be Rock', 1),\n",
              " (5, 'Big Ones', 3)]"
            ]
          },
          "execution_count": 12,
          "metadata": {},
          "output_type": "execute_result"
        }
      ],
      "source": [
        "%%sql \n",
        "\n",
        "SELECT * FROM Album LIMIT 5"
      ]
    },
    {
      "cell_type": "markdown",
      "id": "nuclear-evanescence",
      "metadata": {
        "id": "nuclear-evanescence"
      },
      "source": [
        "## Selection and Ordering\n",
        "\n",
        "> **QUESTION 1**: Write a SQL query to sort the rows from the table `Track` in alphabetical order of Track name and display the first 10 rows. Replace the `???` in the cell below with your answer."
      ]
    },
    {
      "cell_type": "code",
      "execution_count": null,
      "id": "determined-diagnosis",
      "metadata": {
        "id": "determined-diagnosis",
        "outputId": "7b950259-6de8-439d-d530-833f655e2dd8"
      },
      "outputs": [
        {
          "name": "stdout",
          "output_type": "stream",
          "text": [
            " * sqlite:///chinook.sqlite\n",
            "Done.\n"
          ]
        },
        {
          "data": {
            "text/html": [
              "<table>\n",
              "    <tr>\n",
              "        <th>TrackId</th>\n",
              "        <th>Name</th>\n",
              "        <th>AlbumId</th>\n",
              "        <th>MediaTypeId</th>\n",
              "        <th>GenreId</th>\n",
              "        <th>Composer</th>\n",
              "        <th>Milliseconds</th>\n",
              "        <th>Bytes</th>\n",
              "        <th>UnitPrice</th>\n",
              "    </tr>\n",
              "    <tr>\n",
              "        <td>3027</td>\n",
              "        <td>&quot;40&quot;</td>\n",
              "        <td>239</td>\n",
              "        <td>1</td>\n",
              "        <td>1</td>\n",
              "        <td>U2</td>\n",
              "        <td>157962</td>\n",
              "        <td>5251767</td>\n",
              "        <td>0.99</td>\n",
              "    </tr>\n",
              "    <tr>\n",
              "        <td>2918</td>\n",
              "        <td>&quot;?&quot;</td>\n",
              "        <td>231</td>\n",
              "        <td>3</td>\n",
              "        <td>19</td>\n",
              "        <td>None</td>\n",
              "        <td>2782333</td>\n",
              "        <td>528227089</td>\n",
              "        <td>1.99</td>\n",
              "    </tr>\n",
              "    <tr>\n",
              "        <td>3412</td>\n",
              "        <td>&quot;Eine Kleine Nachtmusik&quot; Serenade In G, K. 525: I. Allegro</td>\n",
              "        <td>281</td>\n",
              "        <td>2</td>\n",
              "        <td>24</td>\n",
              "        <td>Wolfgang Amadeus Mozart</td>\n",
              "        <td>348971</td>\n",
              "        <td>5760129</td>\n",
              "        <td>0.99</td>\n",
              "    </tr>\n",
              "    <tr>\n",
              "        <td>109</td>\n",
              "        <td>#1 Zero</td>\n",
              "        <td>11</td>\n",
              "        <td>1</td>\n",
              "        <td>4</td>\n",
              "        <td>Cornell, Commerford, Morello, Wilk</td>\n",
              "        <td>299102</td>\n",
              "        <td>9731988</td>\n",
              "        <td>0.99</td>\n",
              "    </tr>\n",
              "    <tr>\n",
              "        <td>3254</td>\n",
              "        <td>#9 Dream</td>\n",
              "        <td>255</td>\n",
              "        <td>2</td>\n",
              "        <td>9</td>\n",
              "        <td>None</td>\n",
              "        <td>278312</td>\n",
              "        <td>4506425</td>\n",
              "        <td>0.99</td>\n",
              "    </tr>\n",
              "    <tr>\n",
              "        <td>602</td>\n",
              "        <td>&#x27;Round Midnight</td>\n",
              "        <td>48</td>\n",
              "        <td>1</td>\n",
              "        <td>2</td>\n",
              "        <td>Miles Davis</td>\n",
              "        <td>357459</td>\n",
              "        <td>11590284</td>\n",
              "        <td>0.99</td>\n",
              "    </tr>\n",
              "    <tr>\n",
              "        <td>1833</td>\n",
              "        <td>(Anesthesia) Pulling Teeth</td>\n",
              "        <td>150</td>\n",
              "        <td>1</td>\n",
              "        <td>3</td>\n",
              "        <td>Cliff Burton</td>\n",
              "        <td>254955</td>\n",
              "        <td>8234710</td>\n",
              "        <td>0.99</td>\n",
              "    </tr>\n",
              "    <tr>\n",
              "        <td>570</td>\n",
              "        <td>(Da Le) Yaleo</td>\n",
              "        <td>46</td>\n",
              "        <td>1</td>\n",
              "        <td>1</td>\n",
              "        <td>Santana</td>\n",
              "        <td>353488</td>\n",
              "        <td>11769507</td>\n",
              "        <td>0.99</td>\n",
              "    </tr>\n",
              "    <tr>\n",
              "        <td>3045</td>\n",
              "        <td>(I Can&#x27;t Help) Falling In Love With You</td>\n",
              "        <td>241</td>\n",
              "        <td>1</td>\n",
              "        <td>8</td>\n",
              "        <td>None</td>\n",
              "        <td>207568</td>\n",
              "        <td>6905623</td>\n",
              "        <td>0.99</td>\n",
              "    </tr>\n",
              "    <tr>\n",
              "        <td>3057</td>\n",
              "        <td>(Oh) Pretty Woman</td>\n",
              "        <td>242</td>\n",
              "        <td>1</td>\n",
              "        <td>1</td>\n",
              "        <td>Bill Dees/Roy Orbison</td>\n",
              "        <td>174680</td>\n",
              "        <td>5665828</td>\n",
              "        <td>0.99</td>\n",
              "    </tr>\n",
              "</table>"
            ],
            "text/plain": [
              "[(3027, '\"40\"', 239, 1, 1, 'U2', 157962, 5251767, 0.99),\n",
              " (2918, '\"?\"', 231, 3, 19, None, 2782333, 528227089, 1.99),\n",
              " (3412, '\"Eine Kleine Nachtmusik\" Serenade In G, K. 525: I. Allegro', 281, 2, 24, 'Wolfgang Amadeus Mozart', 348971, 5760129, 0.99),\n",
              " (109, '#1 Zero', 11, 1, 4, 'Cornell, Commerford, Morello, Wilk', 299102, 9731988, 0.99),\n",
              " (3254, '#9 Dream', 255, 2, 9, None, 278312, 4506425, 0.99),\n",
              " (602, \"'Round Midnight\", 48, 1, 2, 'Miles Davis', 357459, 11590284, 0.99),\n",
              " (1833, '(Anesthesia) Pulling Teeth', 150, 1, 3, 'Cliff Burton', 254955, 8234710, 0.99),\n",
              " (570, '(Da Le) Yaleo', 46, 1, 1, 'Santana', 353488, 11769507, 0.99),\n",
              " (3045, \"(I Can't Help) Falling In Love With You\", 241, 1, 8, None, 207568, 6905623, 0.99),\n",
              " (3057, '(Oh) Pretty Woman', 242, 1, 1, 'Bill Dees/Roy Orbison', 174680, 5665828, 0.99)]"
            ]
          },
          "execution_count": 13,
          "metadata": {},
          "output_type": "execute_result"
        }
      ],
      "source": [
        "%%sql\n",
        "\n",
        "SELECT * FROM track ORDER BY NAME LIMIT 10"
      ]
    },
    {
      "cell_type": "code",
      "execution_count": null,
      "id": "friendly-piano",
      "metadata": {
        "id": "friendly-piano"
      },
      "outputs": [],
      "source": [
        "# USED FOR EVALUATION. DON'T MODIFY/DELETE/MOVE THIS CELL! \n",
        "ans1 = _"
      ]
    },
    {
      "cell_type": "markdown",
      "id": "pointed-ceiling",
      "metadata": {
        "id": "pointed-ceiling"
      },
      "source": [
        "(OPTIONAL) Write a SQL query to show the _next 10_ rows based on the above criteria."
      ]
    },
    {
      "cell_type": "code",
      "execution_count": null,
      "id": "broadband-subsection",
      "metadata": {
        "id": "broadband-subsection"
      },
      "outputs": [],
      "source": []
    },
    {
      "cell_type": "markdown",
      "id": "tamil-shelter",
      "metadata": {
        "id": "tamil-shelter"
      },
      "source": [
        "(OPTIONAL) Write some SQL queries in the cells below to explore the first few rows of each table in the database."
      ]
    },
    {
      "cell_type": "code",
      "execution_count": null,
      "id": "elementary-paris",
      "metadata": {
        "id": "elementary-paris"
      },
      "outputs": [],
      "source": []
    },
    {
      "cell_type": "code",
      "execution_count": null,
      "id": "respective-passport",
      "metadata": {
        "id": "respective-passport"
      },
      "outputs": [],
      "source": []
    },
    {
      "cell_type": "code",
      "execution_count": null,
      "id": "established-rebate",
      "metadata": {
        "id": "established-rebate"
      },
      "outputs": [],
      "source": []
    },
    {
      "cell_type": "markdown",
      "id": "muslim-listening",
      "metadata": {
        "id": "muslim-listening"
      },
      "source": [
        "Let's save our work before continuing."
      ]
    },
    {
      "cell_type": "code",
      "execution_count": null,
      "id": "cellular-edinburgh",
      "metadata": {
        "id": "cellular-edinburgh",
        "outputId": "0d229176-c7c8-45a6-f51d-39c709a0baf8"
      },
      "outputs": [
        {
          "data": {
            "application/javascript": [
              "window.require && require([\"base/js/namespace\"],function(Jupyter){Jupyter.notebook.save_checkpoint()})"
            ],
            "text/plain": [
              "<IPython.core.display.Javascript object>"
            ]
          },
          "metadata": {},
          "output_type": "display_data"
        },
        {
          "name": "stdout",
          "output_type": "stream",
          "text": [
            "[jovian] Updating notebook \"zthoufiqz55/sql-practice-assignment\" on https://jovian.ai\u001b[0m\n",
            "[jovian] Committed successfully! https://jovian.ai/zthoufiqz55/sql-practice-assignment\u001b[0m\n"
          ]
        },
        {
          "data": {
            "text/plain": [
              "'https://jovian.ai/zthoufiqz55/sql-practice-assignment'"
            ]
          },
          "execution_count": 15,
          "metadata": {},
          "output_type": "execute_result"
        }
      ],
      "source": [
        "jovian.commit()"
      ]
    },
    {
      "cell_type": "markdown",
      "id": "quality-addiction",
      "metadata": {
        "id": "quality-addiction"
      },
      "source": [
        "## Counting\n",
        "\n",
        "> **QUESTION 2**: Write a SQL query to calculate the total number of employees working at Chinook."
      ]
    },
    {
      "cell_type": "code",
      "execution_count": null,
      "id": "asian-burns",
      "metadata": {
        "id": "asian-burns",
        "outputId": "a17d5c0c-de52-42c9-9f33-cfef56af34b4"
      },
      "outputs": [
        {
          "name": "stdout",
          "output_type": "stream",
          "text": [
            " * sqlite:///chinook.sqlite\n",
            "Done.\n"
          ]
        },
        {
          "data": {
            "text/html": [
              "<table>\n",
              "    <tr>\n",
              "        <th>COUNT(EmployeeID)</th>\n",
              "    </tr>\n",
              "    <tr>\n",
              "        <td>8</td>\n",
              "    </tr>\n",
              "</table>"
            ],
            "text/plain": [
              "[(8,)]"
            ]
          },
          "execution_count": 16,
          "metadata": {},
          "output_type": "execute_result"
        }
      ],
      "source": [
        "%%sql\n",
        "\n",
        "select COUNT(EmployeeID) FROM Employee"
      ]
    },
    {
      "cell_type": "code",
      "execution_count": null,
      "id": "superior-thirty",
      "metadata": {
        "id": "superior-thirty"
      },
      "outputs": [],
      "source": [
        "# DON'T MODIFY THIS CELL! IT IS USED FOR EVALUATION.\n",
        "ans2 = _"
      ]
    },
    {
      "cell_type": "markdown",
      "id": "confident-blake",
      "metadata": {
        "id": "confident-blake"
      },
      "source": [
        "(OPTIONAL) Write SQL queries to calculate the total number customers, total number of artists and total number of tracks in the database."
      ]
    },
    {
      "cell_type": "code",
      "execution_count": null,
      "id": "expensive-hamilton",
      "metadata": {
        "id": "expensive-hamilton"
      },
      "outputs": [],
      "source": []
    },
    {
      "cell_type": "code",
      "execution_count": null,
      "id": "egyptian-mountain",
      "metadata": {
        "id": "egyptian-mountain"
      },
      "outputs": [],
      "source": []
    },
    {
      "cell_type": "code",
      "execution_count": null,
      "id": "joined-sculpture",
      "metadata": {
        "id": "joined-sculpture"
      },
      "outputs": [],
      "source": []
    },
    {
      "cell_type": "markdown",
      "id": "contained-friend",
      "metadata": {
        "id": "contained-friend"
      },
      "source": [
        "Let's save our work before continuing."
      ]
    },
    {
      "cell_type": "code",
      "execution_count": null,
      "id": "smoking-romania",
      "metadata": {
        "id": "smoking-romania",
        "outputId": "62e3b53f-0392-442e-b13a-2069f1dfd606"
      },
      "outputs": [
        {
          "data": {
            "application/javascript": [
              "window.require && require([\"base/js/namespace\"],function(Jupyter){Jupyter.notebook.save_checkpoint()})"
            ],
            "text/plain": [
              "<IPython.core.display.Javascript object>"
            ]
          },
          "metadata": {},
          "output_type": "display_data"
        },
        {
          "name": "stdout",
          "output_type": "stream",
          "text": [
            "[jovian] Updating notebook \"zthoufiqz55/sql-practice-assignment\" on https://jovian.ai\u001b[0m\n",
            "[jovian] Committed successfully! https://jovian.ai/zthoufiqz55/sql-practice-assignment\u001b[0m\n"
          ]
        },
        {
          "data": {
            "text/plain": [
              "'https://jovian.ai/zthoufiqz55/sql-practice-assignment'"
            ]
          },
          "execution_count": 18,
          "metadata": {},
          "output_type": "execute_result"
        }
      ],
      "source": [
        "jovian.commit()"
      ]
    },
    {
      "cell_type": "markdown",
      "id": "nonprofit-induction",
      "metadata": {
        "id": "nonprofit-induction"
      },
      "source": [
        "## Aggregation and Grouping\n",
        "\n",
        "> **QUESTION 3**: Write a SQL query to show the top 10 albums with the highest number of tracks. The result should contain 2 columns: album ID and number of tracks in the album (name the column \"Tracks\"). Here are the first few rows of the result:\n",
        "> <img src=\"https://i.imgur.com/0vGhVMZ.png\" width=\"120\">"
      ]
    },
    {
      "cell_type": "code",
      "execution_count": null,
      "id": "breeding-boring",
      "metadata": {
        "id": "breeding-boring",
        "outputId": "1b26ba15-e461-49a8-e03a-ccb0c9f28801"
      },
      "outputs": [
        {
          "name": "stdout",
          "output_type": "stream",
          "text": [
            " * sqlite:///chinook.sqlite\n",
            "Done.\n"
          ]
        },
        {
          "data": {
            "text/html": [
              "<table>\n",
              "    <tr>\n",
              "        <th>AlbumId</th>\n",
              "        <th>Tracks</th>\n",
              "    </tr>\n",
              "    <tr>\n",
              "        <td>141</td>\n",
              "        <td>57</td>\n",
              "    </tr>\n",
              "    <tr>\n",
              "        <td>23</td>\n",
              "        <td>34</td>\n",
              "    </tr>\n",
              "    <tr>\n",
              "        <td>73</td>\n",
              "        <td>30</td>\n",
              "    </tr>\n",
              "    <tr>\n",
              "        <td>229</td>\n",
              "        <td>26</td>\n",
              "    </tr>\n",
              "    <tr>\n",
              "        <td>230</td>\n",
              "        <td>25</td>\n",
              "    </tr>\n",
              "    <tr>\n",
              "        <td>251</td>\n",
              "        <td>25</td>\n",
              "    </tr>\n",
              "    <tr>\n",
              "        <td>83</td>\n",
              "        <td>24</td>\n",
              "    </tr>\n",
              "    <tr>\n",
              "        <td>231</td>\n",
              "        <td>24</td>\n",
              "    </tr>\n",
              "    <tr>\n",
              "        <td>253</td>\n",
              "        <td>24</td>\n",
              "    </tr>\n",
              "    <tr>\n",
              "        <td>24</td>\n",
              "        <td>23</td>\n",
              "    </tr>\n",
              "</table>"
            ],
            "text/plain": [
              "[(141, 57),\n",
              " (23, 34),\n",
              " (73, 30),\n",
              " (229, 26),\n",
              " (230, 25),\n",
              " (251, 25),\n",
              " (83, 24),\n",
              " (231, 24),\n",
              " (253, 24),\n",
              " (24, 23)]"
            ]
          },
          "execution_count": 19,
          "metadata": {},
          "output_type": "execute_result"
        }
      ],
      "source": [
        "%%sql\n",
        "\n",
        "SELECT Album.AlbumId, count(TrackId) AS Tracks FROM Album\n",
        "INNER JOIN TRACK ON Album.AlbumID = Track.AlbumID\n",
        "GROUP BY Track.AlbumID ORDER BY Tracks DESC\n",
        "LIMIT 10"
      ]
    },
    {
      "cell_type": "code",
      "execution_count": null,
      "id": "earned-neighbor",
      "metadata": {
        "id": "earned-neighbor"
      },
      "outputs": [],
      "source": [
        "# DON'T MODIFY THIS CELL! IT IS USED FOR EVALUATION.\n",
        "ans3 = _"
      ]
    },
    {
      "cell_type": "markdown",
      "id": "celtic-grenada",
      "metadata": {
        "id": "celtic-grenada"
      },
      "source": [
        "(OPTIONAL) Improve the above query to also show the album name, artist ID and artist name. Enter the updated query in the empty cell below."
      ]
    },
    {
      "cell_type": "code",
      "execution_count": null,
      "id": "facial-nomination",
      "metadata": {
        "id": "facial-nomination"
      },
      "outputs": [],
      "source": []
    },
    {
      "cell_type": "markdown",
      "id": "incomplete-phone",
      "metadata": {
        "id": "incomplete-phone"
      },
      "source": [
        "(OPTIONAL) List the top 10 albums with the highest number of tracks."
      ]
    },
    {
      "cell_type": "code",
      "execution_count": null,
      "id": "informal-reward",
      "metadata": {
        "id": "informal-reward"
      },
      "outputs": [],
      "source": []
    },
    {
      "cell_type": "markdown",
      "id": "optimum-visitor",
      "metadata": {
        "id": "optimum-visitor"
      },
      "source": [
        "(OPTIONAL) List the top 10 artists with the highest number of tracks."
      ]
    },
    {
      "cell_type": "code",
      "execution_count": null,
      "id": "commercial-apartment",
      "metadata": {
        "id": "commercial-apartment"
      },
      "outputs": [],
      "source": []
    },
    {
      "cell_type": "markdown",
      "id": "advance-trouble",
      "metadata": {
        "id": "advance-trouble"
      },
      "source": [
        "Let's save our work before continuing."
      ]
    },
    {
      "cell_type": "code",
      "execution_count": null,
      "id": "defensive-highway",
      "metadata": {
        "id": "defensive-highway",
        "outputId": "59fe7399-32a4-44c3-f750-3d153358907f"
      },
      "outputs": [
        {
          "data": {
            "application/javascript": [
              "window.require && require([\"base/js/namespace\"],function(Jupyter){Jupyter.notebook.save_checkpoint()})"
            ],
            "text/plain": [
              "<IPython.core.display.Javascript object>"
            ]
          },
          "metadata": {},
          "output_type": "display_data"
        },
        {
          "name": "stdout",
          "output_type": "stream",
          "text": [
            "[jovian] Updating notebook \"zthoufiqz55/sql-practice-assignment\" on https://jovian.ai\u001b[0m\n",
            "[jovian] Committed successfully! https://jovian.ai/zthoufiqz55/sql-practice-assignment\u001b[0m\n"
          ]
        },
        {
          "data": {
            "text/plain": [
              "'https://jovian.ai/zthoufiqz55/sql-practice-assignment'"
            ]
          },
          "execution_count": 21,
          "metadata": {},
          "output_type": "execute_result"
        }
      ],
      "source": [
        "jovian.commit()"
      ]
    },
    {
      "cell_type": "markdown",
      "id": "logical-province",
      "metadata": {
        "id": "logical-province"
      },
      "source": [
        "## Functions and Joins\n",
        "\n",
        "> **QUESTION 4**: Show a list of the top 10 customer with the highest total spend in 2012. Calculate the total amount spent by each customer by adding the totals from all their invoices in the year 2012. Order the list by the invoice total (decreasing order). The result should contain the rows CustomerId, FirstName, LastName and TotalSpend. Here are the first few rows of the result:\n",
        "> <img src=\"https://i.imgur.com/rayPKc3.png\" width=\"480\">\n",
        ">\n",
        ">\n",
        "> *Note*: SQLite doesn't support the `YEAR` function. Instead use `strftime(\"%Y\", Invoice.InvoiceDate)` to extract the year from the column `InvoiceDate` as a string. [Learn more.](https://www.w3resource.com/sqlite/sqlite-strftime.php)\n",
        ">\n",
        "> _Hint_: First try to write down a step-by-step solution to the problem in plain English, and then try to convert it to a SQL query. Use the empty cells below to experiment with intermediate queries."
      ]
    },
    {
      "cell_type": "code",
      "execution_count": null,
      "id": "qualified-trick",
      "metadata": {
        "id": "qualified-trick",
        "outputId": "c44d33cc-3176-41b1-9b88-2b1b018b73b7"
      },
      "outputs": [
        {
          "name": "stdout",
          "output_type": "stream",
          "text": [
            " * sqlite:///chinook.sqlite\n",
            "Done.\n"
          ]
        },
        {
          "data": {
            "text/html": [
              "<table>\n",
              "    <tr>\n",
              "        <th>CustomerId</th>\n",
              "        <th>FirstName</th>\n",
              "        <th>LastName</th>\n",
              "        <th>TotalSpend</th>\n",
              "    </tr>\n",
              "    <tr>\n",
              "        <td>26</td>\n",
              "        <td>Richard</td>\n",
              "        <td>Cunningham</td>\n",
              "        <td>25.84</td>\n",
              "    </tr>\n",
              "    <tr>\n",
              "        <td>34</td>\n",
              "        <td>João</td>\n",
              "        <td>Fernandes</td>\n",
              "        <td>24.77</td>\n",
              "    </tr>\n",
              "    <tr>\n",
              "        <td>13</td>\n",
              "        <td>Fernanda</td>\n",
              "        <td>Ramos</td>\n",
              "        <td>24.75</td>\n",
              "    </tr>\n",
              "    <tr>\n",
              "        <td>51</td>\n",
              "        <td>Joakim</td>\n",
              "        <td>Johansson</td>\n",
              "        <td>24.75</td>\n",
              "    </tr>\n",
              "    <tr>\n",
              "        <td>55</td>\n",
              "        <td>Mark</td>\n",
              "        <td>Taylor</td>\n",
              "        <td>22.77</td>\n",
              "    </tr>\n",
              "    <tr>\n",
              "        <td>5</td>\n",
              "        <td>František</td>\n",
              "        <td>Wichterlová</td>\n",
              "        <td>18.84</td>\n",
              "    </tr>\n",
              "    <tr>\n",
              "        <td>43</td>\n",
              "        <td>Isabelle</td>\n",
              "        <td>Mercier</td>\n",
              "        <td>18.84</td>\n",
              "    </tr>\n",
              "    <tr>\n",
              "        <td>28</td>\n",
              "        <td>Julia</td>\n",
              "        <td>Barnett</td>\n",
              "        <td>17.88</td>\n",
              "    </tr>\n",
              "    <tr>\n",
              "        <td>22</td>\n",
              "        <td>Heather</td>\n",
              "        <td>Leacock</td>\n",
              "        <td>17.84</td>\n",
              "    </tr>\n",
              "    <tr>\n",
              "        <td>24</td>\n",
              "        <td>Frank</td>\n",
              "        <td>Ralston</td>\n",
              "        <td>15.879999999999999</td>\n",
              "    </tr>\n",
              "</table>"
            ],
            "text/plain": [
              "[(26, 'Richard', 'Cunningham', 25.84),\n",
              " (34, 'João', 'Fernandes', 24.77),\n",
              " (13, 'Fernanda', 'Ramos', 24.75),\n",
              " (51, 'Joakim', 'Johansson', 24.75),\n",
              " (55, 'Mark', 'Taylor', 22.77),\n",
              " (5, 'František', 'Wichterlová', 18.84),\n",
              " (43, 'Isabelle', 'Mercier', 18.84),\n",
              " (28, 'Julia', 'Barnett', 17.88),\n",
              " (22, 'Heather', 'Leacock', 17.84),\n",
              " (24, 'Frank', 'Ralston', 15.879999999999999)]"
            ]
          },
          "execution_count": 22,
          "metadata": {},
          "output_type": "execute_result"
        }
      ],
      "source": [
        "%%sql\n",
        "\n",
        "SELECT Customer.CustomerId, Customer.FirstName, Customer.LastName, Sum(Invoice.Total) AS TotalSpend FROM Customer\n",
        "INNER JOIN Invoice ON Customer.CustomerId = Invoice.CustomerId\n",
        "WHERE strftime(\"%Y\", Invoice.InvoiceDate) = '2012'\n",
        "GROUP BY Customer.CustomerId\n",
        "ORDER BY TotalSpend DESC\n",
        "LIMIT 10"
      ]
    },
    {
      "cell_type": "code",
      "execution_count": null,
      "id": "homeless-cursor",
      "metadata": {
        "id": "homeless-cursor"
      },
      "outputs": [],
      "source": [
        "# DON'T MODIFY OR MOVE THIS CELL! IT IS USED FOR EVALUATION.\n",
        "ans4 = _"
      ]
    },
    {
      "cell_type": "code",
      "execution_count": null,
      "id": "distant-planner",
      "metadata": {
        "id": "distant-planner"
      },
      "outputs": [],
      "source": []
    },
    {
      "cell_type": "code",
      "execution_count": null,
      "id": "cooperative-television",
      "metadata": {
        "id": "cooperative-television"
      },
      "outputs": [],
      "source": []
    },
    {
      "cell_type": "markdown",
      "id": "antique-mauritius",
      "metadata": {
        "id": "antique-mauritius"
      },
      "source": [
        "Let's save our work before continuing."
      ]
    },
    {
      "cell_type": "code",
      "execution_count": null,
      "id": "speaking-google",
      "metadata": {
        "id": "speaking-google",
        "outputId": "6bec89e4-d1df-4297-a93c-f1ae52f19bc1"
      },
      "outputs": [
        {
          "data": {
            "application/javascript": [
              "window.require && require([\"base/js/namespace\"],function(Jupyter){Jupyter.notebook.save_checkpoint()})"
            ],
            "text/plain": [
              "<IPython.core.display.Javascript object>"
            ]
          },
          "metadata": {},
          "output_type": "display_data"
        },
        {
          "name": "stdout",
          "output_type": "stream",
          "text": [
            "[jovian] Updating notebook \"zthoufiqz55/sql-practice-assignment\" on https://jovian.ai\u001b[0m\n",
            "[jovian] Committed successfully! https://jovian.ai/zthoufiqz55/sql-practice-assignment\u001b[0m\n"
          ]
        },
        {
          "data": {
            "text/plain": [
              "'https://jovian.ai/zthoufiqz55/sql-practice-assignment'"
            ]
          },
          "execution_count": 26,
          "metadata": {},
          "output_type": "execute_result"
        }
      ],
      "source": [
        "jovian.commit()"
      ]
    },
    {
      "cell_type": "markdown",
      "id": "offensive-disability",
      "metadata": {
        "id": "offensive-disability"
      },
      "source": [
        "## Joins and Arithmetic Operations\n",
        "\n",
        "> **QUESTION 5**: Write a SQL query to show the total number of albums and the average number of tracks per album for every artist. The result should include the artist ID, artist's name, total albums (name the column \"Albums\") and average tracks per album (name the column \"TracksPerAlbum\"). Sort the results in alphabetical order of artist name. Here are the first few rows of the result:\n",
        ">\n",
        "> <img src=\"https://i.imgur.com/WAE7oOx.png\" width=\"640\">\n",
        "> \n",
        "> *Hint*: While dividing two integers, multiply one of the numbers by 1.0 to convert them into floats. [Learn more.](https://stackoverflow.com/questions/8305613/converting-int-to-real-in-sqlite)"
      ]
    },
    {
      "cell_type": "code",
      "execution_count": null,
      "id": "together-final",
      "metadata": {
        "id": "together-final",
        "outputId": "7c08c32c-ca0f-4b72-a133-4cd3e82bbbea"
      },
      "outputs": [
        {
          "name": "stdout",
          "output_type": "stream",
          "text": [
            " * sqlite:///chinook.sqlite\n",
            "Done.\n"
          ]
        },
        {
          "data": {
            "text/html": [
              "<table>\n",
              "    <tr>\n",
              "        <th>ArtistId</th>\n",
              "        <th>Name</th>\n",
              "        <th>Albums</th>\n",
              "        <th>TracksPerAlbum</th>\n",
              "    </tr>\n",
              "    <tr>\n",
              "        <td>1</td>\n",
              "        <td>AC/DC</td>\n",
              "        <td>2</td>\n",
              "        <td>9.0</td>\n",
              "    </tr>\n",
              "    <tr>\n",
              "        <td>230</td>\n",
              "        <td>Aaron Copland &amp; London Symphony Orchestra</td>\n",
              "        <td>1</td>\n",
              "        <td>1.0</td>\n",
              "    </tr>\n",
              "    <tr>\n",
              "        <td>202</td>\n",
              "        <td>Aaron Goldberg</td>\n",
              "        <td>1</td>\n",
              "        <td>1.0</td>\n",
              "    </tr>\n",
              "    <tr>\n",
              "        <td>214</td>\n",
              "        <td>Academy of St. Martin in the Fields &amp; Sir Neville Marriner</td>\n",
              "        <td>1</td>\n",
              "        <td>2.0</td>\n",
              "    </tr>\n",
              "    <tr>\n",
              "        <td>215</td>\n",
              "        <td>Academy of St. Martin in the Fields Chamber Ensemble &amp; Sir Neville Marriner</td>\n",
              "        <td>1</td>\n",
              "        <td>1.0</td>\n",
              "    </tr>\n",
              "    <tr>\n",
              "        <td>222</td>\n",
              "        <td>Academy of St. Martin in the Fields, John Birch, Sir Neville Marriner &amp; Sylvia McNair</td>\n",
              "        <td>1</td>\n",
              "        <td>1.0</td>\n",
              "    </tr>\n",
              "    <tr>\n",
              "        <td>257</td>\n",
              "        <td>Academy of St. Martin in the Fields, Sir Neville Marriner &amp; Thurston Dart</td>\n",
              "        <td>1</td>\n",
              "        <td>1.0</td>\n",
              "    </tr>\n",
              "    <tr>\n",
              "        <td>2</td>\n",
              "        <td>Accept</td>\n",
              "        <td>2</td>\n",
              "        <td>2.0</td>\n",
              "    </tr>\n",
              "    <tr>\n",
              "        <td>260</td>\n",
              "        <td>Adrian Leaper &amp; Doreen de Feis</td>\n",
              "        <td>1</td>\n",
              "        <td>1.0</td>\n",
              "    </tr>\n",
              "    <tr>\n",
              "        <td>3</td>\n",
              "        <td>Aerosmith</td>\n",
              "        <td>1</td>\n",
              "        <td>15.0</td>\n",
              "    </tr>\n",
              "    <tr>\n",
              "        <td>197</td>\n",
              "        <td>Aisha Duo</td>\n",
              "        <td>1</td>\n",
              "        <td>2.0</td>\n",
              "    </tr>\n",
              "    <tr>\n",
              "        <td>4</td>\n",
              "        <td>Alanis Morissette</td>\n",
              "        <td>1</td>\n",
              "        <td>13.0</td>\n",
              "    </tr>\n",
              "    <tr>\n",
              "        <td>206</td>\n",
              "        <td>Alberto Turco &amp; Nova Schola Gregoriana</td>\n",
              "        <td>1</td>\n",
              "        <td>1.0</td>\n",
              "    </tr>\n",
              "    <tr>\n",
              "        <td>5</td>\n",
              "        <td>Alice In Chains</td>\n",
              "        <td>1</td>\n",
              "        <td>12.0</td>\n",
              "    </tr>\n",
              "    <tr>\n",
              "        <td>252</td>\n",
              "        <td>Amy Winehouse</td>\n",
              "        <td>2</td>\n",
              "        <td>11.0</td>\n",
              "    </tr>\n",
              "    <tr>\n",
              "        <td>209</td>\n",
              "        <td>Anne-Sophie Mutter, Herbert Von Karajan &amp; Wiener Philharmoniker</td>\n",
              "        <td>1</td>\n",
              "        <td>1.0</td>\n",
              "    </tr>\n",
              "    <tr>\n",
              "        <td>243</td>\n",
              "        <td>Antal Doráti &amp; London Symphony Orchestra</td>\n",
              "        <td>1</td>\n",
              "        <td>1.0</td>\n",
              "    </tr>\n",
              "    <tr>\n",
              "        <td>6</td>\n",
              "        <td>Antônio Carlos Jobim</td>\n",
              "        <td>2</td>\n",
              "        <td>15.0</td>\n",
              "    </tr>\n",
              "    <tr>\n",
              "        <td>7</td>\n",
              "        <td>Apocalyptica</td>\n",
              "        <td>1</td>\n",
              "        <td>8.0</td>\n",
              "    </tr>\n",
              "    <tr>\n",
              "        <td>159</td>\n",
              "        <td>Aquaman</td>\n",
              "        <td>1</td>\n",
              "        <td>1.0</td>\n",
              "    </tr>\n",
              "    <tr>\n",
              "        <td>8</td>\n",
              "        <td>Audioslave</td>\n",
              "        <td>3</td>\n",
              "        <td>13.0</td>\n",
              "    </tr>\n",
              "    <tr>\n",
              "        <td>9</td>\n",
              "        <td>BackBeat</td>\n",
              "        <td>1</td>\n",
              "        <td>12.0</td>\n",
              "    </tr>\n",
              "    <tr>\n",
              "        <td>224</td>\n",
              "        <td>Barry Wordsworth &amp; BBC Concert Orchestra</td>\n",
              "        <td>1</td>\n",
              "        <td>1.0</td>\n",
              "    </tr>\n",
              "    <tr>\n",
              "        <td>147</td>\n",
              "        <td>Battlestar Galactica</td>\n",
              "        <td>2</td>\n",
              "        <td>10.0</td>\n",
              "    </tr>\n",
              "    <tr>\n",
              "        <td>158</td>\n",
              "        <td>Battlestar Galactica (Classic)</td>\n",
              "        <td>1</td>\n",
              "        <td>24.0</td>\n",
              "    </tr>\n",
              "    <tr>\n",
              "        <td>237</td>\n",
              "        <td>Berliner Philharmoniker &amp; Hans Rosbaud</td>\n",
              "        <td>1</td>\n",
              "        <td>1.0</td>\n",
              "    </tr>\n",
              "    <tr>\n",
              "        <td>248</td>\n",
              "        <td>Berliner Philharmoniker &amp; Herbert Von Karajan</td>\n",
              "        <td>3</td>\n",
              "        <td>1.0</td>\n",
              "    </tr>\n",
              "    <tr>\n",
              "        <td>216</td>\n",
              "        <td>Berliner Philharmoniker, Claudio Abbado &amp; Sabine Meyer</td>\n",
              "        <td>1</td>\n",
              "        <td>1.0</td>\n",
              "    </tr>\n",
              "    <tr>\n",
              "        <td>10</td>\n",
              "        <td>Billy Cobham</td>\n",
              "        <td>1</td>\n",
              "        <td>8.0</td>\n",
              "    </tr>\n",
              "    <tr>\n",
              "        <td>11</td>\n",
              "        <td>Black Label Society</td>\n",
              "        <td>2</td>\n",
              "        <td>9.0</td>\n",
              "    </tr>\n",
              "    <tr>\n",
              "        <td>12</td>\n",
              "        <td>Black Sabbath</td>\n",
              "        <td>2</td>\n",
              "        <td>8.0</td>\n",
              "    </tr>\n",
              "    <tr>\n",
              "        <td>13</td>\n",
              "        <td>Body Count</td>\n",
              "        <td>1</td>\n",
              "        <td>17.0</td>\n",
              "    </tr>\n",
              "    <tr>\n",
              "        <td>229</td>\n",
              "        <td>Boston Symphony Orchestra &amp; Seiji Ozawa</td>\n",
              "        <td>1</td>\n",
              "        <td>1.0</td>\n",
              "    </tr>\n",
              "    <tr>\n",
              "        <td>219</td>\n",
              "        <td>Britten Sinfonia, Ivor Bolton &amp; Lesley Garrett</td>\n",
              "        <td>1</td>\n",
              "        <td>1.0</td>\n",
              "    </tr>\n",
              "    <tr>\n",
              "        <td>14</td>\n",
              "        <td>Bruce Dickinson</td>\n",
              "        <td>1</td>\n",
              "        <td>11.0</td>\n",
              "    </tr>\n",
              "    <tr>\n",
              "        <td>15</td>\n",
              "        <td>Buddy Guy</td>\n",
              "        <td>1</td>\n",
              "        <td>11.0</td>\n",
              "    </tr>\n",
              "    <tr>\n",
              "        <td>273</td>\n",
              "        <td>C. Monteverdi, Nigel Rogers - Chiaroscuro; London Baroque; London Cornett &amp; Sackbu</td>\n",
              "        <td>1</td>\n",
              "        <td>1.0</td>\n",
              "    </tr>\n",
              "    <tr>\n",
              "        <td>16</td>\n",
              "        <td>Caetano Veloso</td>\n",
              "        <td>2</td>\n",
              "        <td>10.0</td>\n",
              "    </tr>\n",
              "    <tr>\n",
              "        <td>196</td>\n",
              "        <td>Cake</td>\n",
              "        <td>1</td>\n",
              "        <td>1.0</td>\n",
              "    </tr>\n",
              "    <tr>\n",
              "        <td>253</td>\n",
              "        <td>Calexico</td>\n",
              "        <td>1</td>\n",
              "        <td>1.0</td>\n",
              "    </tr>\n",
              "    <tr>\n",
              "        <td>262</td>\n",
              "        <td>Charles Dutoit &amp; L&#x27;Orchestre Symphonique de Montréal</td>\n",
              "        <td>1</td>\n",
              "        <td>1.0</td>\n",
              "    </tr>\n",
              "    <tr>\n",
              "        <td>220</td>\n",
              "        <td>Chicago Symphony Chorus, Chicago Symphony Orchestra &amp; Sir Georg Solti</td>\n",
              "        <td>1</td>\n",
              "        <td>1.0</td>\n",
              "    </tr>\n",
              "    <tr>\n",
              "        <td>233</td>\n",
              "        <td>Chicago Symphony Orchestra &amp; Fritz Reiner</td>\n",
              "        <td>1</td>\n",
              "        <td>1.0</td>\n",
              "    </tr>\n",
              "    <tr>\n",
              "        <td>17</td>\n",
              "        <td>Chico Buarque</td>\n",
              "        <td>1</td>\n",
              "        <td>34.0</td>\n",
              "    </tr>\n",
              "    <tr>\n",
              "        <td>18</td>\n",
              "        <td>Chico Science &amp; Nação Zumbi</td>\n",
              "        <td>2</td>\n",
              "        <td>18.0</td>\n",
              "    </tr>\n",
              "    <tr>\n",
              "        <td>244</td>\n",
              "        <td>Choir Of Westminster Abbey &amp; Simon Preston</td>\n",
              "        <td>1</td>\n",
              "        <td>1.0</td>\n",
              "    </tr>\n",
              "    <tr>\n",
              "        <td>246</td>\n",
              "        <td>Chor der Wiener Staatsoper, Herbert Von Karajan &amp; Wiener Philharmoniker</td>\n",
              "        <td>1</td>\n",
              "        <td>1.0</td>\n",
              "    </tr>\n",
              "    <tr>\n",
              "        <td>205</td>\n",
              "        <td>Chris Cornell</td>\n",
              "        <td>1</td>\n",
              "        <td>14.0</td>\n",
              "    </tr>\n",
              "    <tr>\n",
              "        <td>250</td>\n",
              "        <td>Christopher O&#x27;Riley</td>\n",
              "        <td>1</td>\n",
              "        <td>1.0</td>\n",
              "    </tr>\n",
              "    <tr>\n",
              "        <td>19</td>\n",
              "        <td>Cidade Negra</td>\n",
              "        <td>2</td>\n",
              "        <td>15.0</td>\n",
              "    </tr>\n",
              "    <tr>\n",
              "        <td>20</td>\n",
              "        <td>Cláudio Zoli</td>\n",
              "        <td>1</td>\n",
              "        <td>10.0</td>\n",
              "    </tr>\n",
              "    <tr>\n",
              "        <td>76</td>\n",
              "        <td>Creedence Clearwater Revival</td>\n",
              "        <td>2</td>\n",
              "        <td>20.0</td>\n",
              "    </tr>\n",
              "    <tr>\n",
              "        <td>77</td>\n",
              "        <td>Cássia Eller</td>\n",
              "        <td>2</td>\n",
              "        <td>15.0</td>\n",
              "    </tr>\n",
              "    <tr>\n",
              "        <td>55</td>\n",
              "        <td>David Coverdale</td>\n",
              "        <td>1</td>\n",
              "        <td>12.0</td>\n",
              "    </tr>\n",
              "    <tr>\n",
              "        <td>58</td>\n",
              "        <td>Deep Purple</td>\n",
              "        <td>11</td>\n",
              "        <td>8.0</td>\n",
              "    </tr>\n",
              "    <tr>\n",
              "        <td>78</td>\n",
              "        <td>Def Leppard</td>\n",
              "        <td>1</td>\n",
              "        <td>16.0</td>\n",
              "    </tr>\n",
              "    <tr>\n",
              "        <td>79</td>\n",
              "        <td>Dennis Chambers</td>\n",
              "        <td>1</td>\n",
              "        <td>9.0</td>\n",
              "    </tr>\n",
              "    <tr>\n",
              "        <td>80</td>\n",
              "        <td>Djavan</td>\n",
              "        <td>2</td>\n",
              "        <td>13.0</td>\n",
              "    </tr>\n",
              "    <tr>\n",
              "        <td>157</td>\n",
              "        <td>Dread Zeppelin</td>\n",
              "        <td>1</td>\n",
              "        <td>1.0</td>\n",
              "    </tr>\n",
              "    <tr>\n",
              "        <td>37</td>\n",
              "        <td>Ed Motta</td>\n",
              "        <td>1</td>\n",
              "        <td>14.0</td>\n",
              "    </tr>\n",
              "    <tr>\n",
              "        <td>242</td>\n",
              "        <td>Edo de Waart &amp; San Francisco Symphony</td>\n",
              "        <td>1</td>\n",
              "        <td>1.0</td>\n",
              "    </tr>\n",
              "    <tr>\n",
              "        <td>41</td>\n",
              "        <td>Elis Regina</td>\n",
              "        <td>1</td>\n",
              "        <td>14.0</td>\n",
              "    </tr>\n",
              "    <tr>\n",
              "        <td>235</td>\n",
              "        <td>Emanuel Ax, Eugene Ormandy &amp; Philadelphia Orchestra</td>\n",
              "        <td>1</td>\n",
              "        <td>1.0</td>\n",
              "    </tr>\n",
              "    <tr>\n",
              "        <td>272</td>\n",
              "        <td>Emerson String Quartet</td>\n",
              "        <td>1</td>\n",
              "        <td>1.0</td>\n",
              "    </tr>\n",
              "    <tr>\n",
              "        <td>208</td>\n",
              "        <td>English Concert &amp; Trevor Pinnock</td>\n",
              "        <td>2</td>\n",
              "        <td>1.0</td>\n",
              "    </tr>\n",
              "    <tr>\n",
              "        <td>263</td>\n",
              "        <td>Equale Brass Ensemble, John Eliot Gardiner &amp; Munich Monteverdi Orchestra and Choir</td>\n",
              "        <td>1</td>\n",
              "        <td>1.0</td>\n",
              "    </tr>\n",
              "    <tr>\n",
              "        <td>81</td>\n",
              "        <td>Eric Clapton</td>\n",
              "        <td>2</td>\n",
              "        <td>24.0</td>\n",
              "    </tr>\n",
              "    <tr>\n",
              "        <td>226</td>\n",
              "        <td>Eugene Ormandy</td>\n",
              "        <td>3</td>\n",
              "        <td>1.0</td>\n",
              "    </tr>\n",
              "    <tr>\n",
              "        <td>82</td>\n",
              "        <td>Faith No More</td>\n",
              "        <td>4</td>\n",
              "        <td>13.0</td>\n",
              "    </tr>\n",
              "    <tr>\n",
              "        <td>83</td>\n",
              "        <td>Falamansa</td>\n",
              "        <td>1</td>\n",
              "        <td>14.0</td>\n",
              "    </tr>\n",
              "    <tr>\n",
              "        <td>241</td>\n",
              "        <td>Felix Schmidt, London Symphony Orchestra &amp; Rafael Frühbeck de Burgos</td>\n",
              "        <td>1</td>\n",
              "        <td>1.0</td>\n",
              "    </tr>\n",
              "    <tr>\n",
              "        <td>84</td>\n",
              "        <td>Foo Fighters</td>\n",
              "        <td>4</td>\n",
              "        <td>11.0</td>\n",
              "    </tr>\n",
              "    <tr>\n",
              "        <td>85</td>\n",
              "        <td>Frank Sinatra</td>\n",
              "        <td>1</td>\n",
              "        <td>24.0</td>\n",
              "    </tr>\n",
              "    <tr>\n",
              "        <td>23</td>\n",
              "        <td>Frank Zappa &amp; Captain Beefheart</td>\n",
              "        <td>1</td>\n",
              "        <td>9.0</td>\n",
              "    </tr>\n",
              "    <tr>\n",
              "        <td>251</td>\n",
              "        <td>Fretwork</td>\n",
              "        <td>1</td>\n",
              "        <td>1.0</td>\n",
              "    </tr>\n",
              "    <tr>\n",
              "        <td>86</td>\n",
              "        <td>Funk Como Le Gusta</td>\n",
              "        <td>1</td>\n",
              "        <td>16.0</td>\n",
              "    </tr>\n",
              "    <tr>\n",
              "        <td>69</td>\n",
              "        <td>Gene Krupa</td>\n",
              "        <td>1</td>\n",
              "        <td>22.0</td>\n",
              "    </tr>\n",
              "    <tr>\n",
              "        <td>270</td>\n",
              "        <td>Gerald Moore</td>\n",
              "        <td>1</td>\n",
              "        <td>1.0</td>\n",
              "    </tr>\n",
              "    <tr>\n",
              "        <td>27</td>\n",
              "        <td>Gilberto Gil</td>\n",
              "        <td>3</td>\n",
              "        <td>10.0</td>\n",
              "    </tr>\n",
              "    <tr>\n",
              "        <td>87</td>\n",
              "        <td>Godsmack</td>\n",
              "        <td>1</td>\n",
              "        <td>12.0</td>\n",
              "    </tr>\n",
              "    <tr>\n",
              "        <td>56</td>\n",
              "        <td>Gonzaguinha</td>\n",
              "        <td>1</td>\n",
              "        <td>14.0</td>\n",
              "    </tr>\n",
              "    <tr>\n",
              "        <td>54</td>\n",
              "        <td>Green Day</td>\n",
              "        <td>2</td>\n",
              "        <td>17.0</td>\n",
              "    </tr>\n",
              "    <tr>\n",
              "        <td>88</td>\n",
              "        <td>Guns N&#x27; Roses</td>\n",
              "        <td>3</td>\n",
              "        <td>14.0</td>\n",
              "    </tr>\n",
              "    <tr>\n",
              "        <td>240</td>\n",
              "        <td>Gustav Mahler</td>\n",
              "        <td>1</td>\n",
              "        <td>1.0</td>\n",
              "    </tr>\n",
              "    <tr>\n",
              "        <td>267</td>\n",
              "        <td>Göteborgs Symfoniker &amp; Neeme Järvi</td>\n",
              "        <td>1</td>\n",
              "        <td>1.0</td>\n",
              "    </tr>\n",
              "    <tr>\n",
              "        <td>198</td>\n",
              "        <td>Habib Koité and Bamada</td>\n",
              "        <td>1</td>\n",
              "        <td>2.0</td>\n",
              "    </tr>\n",
              "    <tr>\n",
              "        <td>225</td>\n",
              "        <td>Herbert Von Karajan, Mirella Freni &amp; Wiener Philharmoniker</td>\n",
              "        <td>1</td>\n",
              "        <td>1.0</td>\n",
              "    </tr>\n",
              "    <tr>\n",
              "        <td>148</td>\n",
              "        <td>Heroes</td>\n",
              "        <td>1</td>\n",
              "        <td>23.0</td>\n",
              "    </tr>\n",
              "    <tr>\n",
              "        <td>210</td>\n",
              "        <td>Hilary Hahn, Jeffrey Kahane, Los Angeles Chamber Orchestra &amp; Margaret Batjer</td>\n",
              "        <td>1</td>\n",
              "        <td>1.0</td>\n",
              "    </tr>\n",
              "    <tr>\n",
              "        <td>180</td>\n",
              "        <td>House Of Pain</td>\n",
              "        <td>1</td>\n",
              "        <td>19.0</td>\n",
              "    </tr>\n",
              "    <tr>\n",
              "        <td>89</td>\n",
              "        <td>Incognito</td>\n",
              "        <td>1</td>\n",
              "        <td>13.0</td>\n",
              "    </tr>\n",
              "    <tr>\n",
              "        <td>90</td>\n",
              "        <td>Iron Maiden</td>\n",
              "        <td>21</td>\n",
              "        <td>10.0</td>\n",
              "    </tr>\n",
              "    <tr>\n",
              "        <td>268</td>\n",
              "        <td>Itzhak Perlman</td>\n",
              "        <td>1</td>\n",
              "        <td>1.0</td>\n",
              "    </tr>\n",
              "    <tr>\n",
              "        <td>93</td>\n",
              "        <td>JET</td>\n",
              "        <td>1</td>\n",
              "        <td>13.0</td>\n",
              "    </tr>\n",
              "    <tr>\n",
              "        <td>91</td>\n",
              "        <td>James Brown</td>\n",
              "        <td>1</td>\n",
              "        <td>20.0</td>\n",
              "    </tr>\n",
              "    <tr>\n",
              "        <td>236</td>\n",
              "        <td>James Levine</td>\n",
              "        <td>1</td>\n",
              "        <td>1.0</td>\n",
              "    </tr>\n",
              "    <tr>\n",
              "        <td>92</td>\n",
              "        <td>Jamiroquai</td>\n",
              "        <td>3</td>\n",
              "        <td>10.0</td>\n",
              "    </tr>\n",
              "    <tr>\n",
              "        <td>94</td>\n",
              "        <td>Jimi Hendrix</td>\n",
              "        <td>1</td>\n",
              "        <td>17.0</td>\n",
              "    </tr>\n",
              "    <tr>\n",
              "        <td>95</td>\n",
              "        <td>Joe Satriani</td>\n",
              "        <td>1</td>\n",
              "        <td>10.0</td>\n",
              "    </tr>\n",
              "    <tr>\n",
              "        <td>46</td>\n",
              "        <td>Jorge Ben</td>\n",
              "        <td>1</td>\n",
              "        <td>14.0</td>\n",
              "    </tr>\n",
              "    <tr>\n",
              "        <td>96</td>\n",
              "        <td>Jota Quest</td>\n",
              "        <td>1</td>\n",
              "        <td>12.0</td>\n",
              "    </tr>\n",
              "    <tr>\n",
              "        <td>97</td>\n",
              "        <td>João Suplicy</td>\n",
              "        <td>1</td>\n",
              "        <td>14.0</td>\n",
              "    </tr>\n",
              "    <tr>\n",
              "        <td>98</td>\n",
              "        <td>Judas Priest</td>\n",
              "        <td>1</td>\n",
              "        <td>16.0</td>\n",
              "    </tr>\n",
              "    <tr>\n",
              "        <td>265</td>\n",
              "        <td>Julian Bream</td>\n",
              "        <td>1</td>\n",
              "        <td>1.0</td>\n",
              "    </tr>\n",
              "    <tr>\n",
              "        <td>199</td>\n",
              "        <td>Karsh Kale</td>\n",
              "        <td>1</td>\n",
              "        <td>2.0</td>\n",
              "    </tr>\n",
              "    <tr>\n",
              "        <td>264</td>\n",
              "        <td>Kent Nagano and Orchestre de l&#x27;Opéra de Lyon</td>\n",
              "        <td>1</td>\n",
              "        <td>1.0</td>\n",
              "    </tr>\n",
              "    <tr>\n",
              "        <td>52</td>\n",
              "        <td>Kiss</td>\n",
              "        <td>2</td>\n",
              "        <td>17.0</td>\n",
              "    </tr>\n",
              "    <tr>\n",
              "        <td>22</td>\n",
              "        <td>Led Zeppelin</td>\n",
              "        <td>14</td>\n",
              "        <td>8.0</td>\n",
              "    </tr>\n",
              "    <tr>\n",
              "        <td>99</td>\n",
              "        <td>Legião Urbana</td>\n",
              "        <td>2</td>\n",
              "        <td>15.0</td>\n",
              "    </tr>\n",
              "    <tr>\n",
              "        <td>100</td>\n",
              "        <td>Lenny Kravitz</td>\n",
              "        <td>1</td>\n",
              "        <td>57.0</td>\n",
              "    </tr>\n",
              "    <tr>\n",
              "        <td>228</td>\n",
              "        <td>Leonard Bernstein &amp; New York Philharmonic</td>\n",
              "        <td>1</td>\n",
              "        <td>1.0</td>\n",
              "    </tr>\n",
              "    <tr>\n",
              "        <td>258</td>\n",
              "        <td>Les Arts Florissants &amp; William Christie</td>\n",
              "        <td>1</td>\n",
              "        <td>1.0</td>\n",
              "    </tr>\n",
              "    <tr>\n",
              "        <td>223</td>\n",
              "        <td>London Symphony Orchestra &amp; Sir Charles Mackerras</td>\n",
              "        <td>1</td>\n",
              "        <td>1.0</td>\n",
              "    </tr>\n",
              "    <tr>\n",
              "        <td>149</td>\n",
              "        <td>Lost</td>\n",
              "        <td>4</td>\n",
              "        <td>23.0</td>\n",
              "    </tr>\n",
              "    <tr>\n",
              "        <td>201</td>\n",
              "        <td>Luciana Souza/Romero Lubambo</td>\n",
              "        <td>1</td>\n",
              "        <td>1.0</td>\n",
              "    </tr>\n",
              "    <tr>\n",
              "        <td>227</td>\n",
              "        <td>Luciano Pavarotti</td>\n",
              "        <td>1</td>\n",
              "        <td>1.0</td>\n",
              "    </tr>\n",
              "    <tr>\n",
              "        <td>101</td>\n",
              "        <td>Lulu Santos</td>\n",
              "        <td>2</td>\n",
              "        <td>14.0</td>\n",
              "    </tr>\n",
              "    <tr>\n",
              "        <td>24</td>\n",
              "        <td>Marcos Valle</td>\n",
              "        <td>1</td>\n",
              "        <td>17.0</td>\n",
              "    </tr>\n",
              "    <tr>\n",
              "        <td>102</td>\n",
              "        <td>Marillion</td>\n",
              "        <td>1</td>\n",
              "        <td>10.0</td>\n",
              "    </tr>\n",
              "    <tr>\n",
              "        <td>103</td>\n",
              "        <td>Marisa Monte</td>\n",
              "        <td>1</td>\n",
              "        <td>18.0</td>\n",
              "    </tr>\n",
              "    <tr>\n",
              "        <td>266</td>\n",
              "        <td>Martin Roscoe</td>\n",
              "        <td>1</td>\n",
              "        <td>1.0</td>\n",
              "    </tr>\n",
              "    <tr>\n",
              "        <td>104</td>\n",
              "        <td>Marvin Gaye</td>\n",
              "        <td>1</td>\n",
              "        <td>18.0</td>\n",
              "    </tr>\n",
              "    <tr>\n",
              "        <td>238</td>\n",
              "        <td>Maurizio Pollini</td>\n",
              "        <td>1</td>\n",
              "        <td>1.0</td>\n",
              "    </tr>\n",
              "    <tr>\n",
              "        <td>271</td>\n",
              "        <td>Mela Tenenbaum, Pro Musica Prague &amp; Richard Kapp</td>\n",
              "        <td>1</td>\n",
              "        <td>1.0</td>\n",
              "    </tr>\n",
              "    <tr>\n",
              "        <td>105</td>\n",
              "        <td>Men At Work</td>\n",
              "        <td>1</td>\n",
              "        <td>10.0</td>\n",
              "    </tr>\n",
              "    <tr>\n",
              "        <td>50</td>\n",
              "        <td>Metallica</td>\n",
              "        <td>10</td>\n",
              "        <td>11.0</td>\n",
              "    </tr>\n",
              "    <tr>\n",
              "        <td>245</td>\n",
              "        <td>Michael Tilson Thomas &amp; San Francisco Symphony</td>\n",
              "        <td>2</td>\n",
              "        <td>1.0</td>\n",
              "    </tr>\n",
              "    <tr>\n",
              "        <td>269</td>\n",
              "        <td>Michele Campanella</td>\n",
              "        <td>1</td>\n",
              "        <td>1.0</td>\n",
              "    </tr>\n",
              "    <tr>\n",
              "        <td>68</td>\n",
              "        <td>Miles Davis</td>\n",
              "        <td>3</td>\n",
              "        <td>12.0</td>\n",
              "    </tr>\n",
              "    <tr>\n",
              "        <td>42</td>\n",
              "        <td>Milton Nascimento</td>\n",
              "        <td>2</td>\n",
              "        <td>13.0</td>\n",
              "    </tr>\n",
              "    <tr>\n",
              "        <td>106</td>\n",
              "        <td>Motörhead</td>\n",
              "        <td>1</td>\n",
              "        <td>15.0</td>\n",
              "    </tr>\n",
              "    <tr>\n",
              "        <td>108</td>\n",
              "        <td>Mônica Marianno</td>\n",
              "        <td>1</td>\n",
              "        <td>12.0</td>\n",
              "    </tr>\n",
              "    <tr>\n",
              "        <td>109</td>\n",
              "        <td>Mötley Crüe</td>\n",
              "        <td>1</td>\n",
              "        <td>17.0</td>\n",
              "    </tr>\n",
              "    <tr>\n",
              "        <td>274</td>\n",
              "        <td>Nash Ensemble</td>\n",
              "        <td>1</td>\n",
              "        <td>1.0</td>\n",
              "    </tr>\n",
              "    <tr>\n",
              "        <td>203</td>\n",
              "        <td>Nicolaus Esterhazy Sinfonia</td>\n",
              "        <td>1</td>\n",
              "        <td>1.0</td>\n",
              "    </tr>\n",
              "    <tr>\n",
              "        <td>110</td>\n",
              "        <td>Nirvana</td>\n",
              "        <td>2</td>\n",
              "        <td>14.0</td>\n",
              "    </tr>\n",
              "    <tr>\n",
              "        <td>36</td>\n",
              "        <td>O Rappa</td>\n",
              "        <td>1</td>\n",
              "        <td>17.0</td>\n",
              "    </tr>\n",
              "    <tr>\n",
              "        <td>111</td>\n",
              "        <td>O Terço</td>\n",
              "        <td>1</td>\n",
              "        <td>15.0</td>\n",
              "    </tr>\n",
              "    <tr>\n",
              "        <td>112</td>\n",
              "        <td>Olodum</td>\n",
              "        <td>1</td>\n",
              "        <td>14.0</td>\n",
              "    </tr>\n",
              "    <tr>\n",
              "        <td>234</td>\n",
              "        <td>Orchestra of The Age of Enlightenment</td>\n",
              "        <td>1</td>\n",
              "        <td>1.0</td>\n",
              "    </tr>\n",
              "    <tr>\n",
              "        <td>218</td>\n",
              "        <td>Orchestre Révolutionnaire et Romantique &amp; John Eliot Gardiner</td>\n",
              "        <td>1</td>\n",
              "        <td>1.0</td>\n",
              "    </tr>\n",
              "    <tr>\n",
              "        <td>57</td>\n",
              "        <td>Os Mutantes</td>\n",
              "        <td>1</td>\n",
              "        <td>14.0</td>\n",
              "    </tr>\n",
              "    <tr>\n",
              "        <td>113</td>\n",
              "        <td>Os Paralamas Do Sucesso</td>\n",
              "        <td>3</td>\n",
              "        <td>16.0</td>\n",
              "    </tr>\n",
              "    <tr>\n",
              "        <td>254</td>\n",
              "        <td>Otto Klemperer &amp; Philharmonia Orchestra</td>\n",
              "        <td>1</td>\n",
              "        <td>1.0</td>\n",
              "    </tr>\n",
              "    <tr>\n",
              "        <td>114</td>\n",
              "        <td>Ozzy Osbourne</td>\n",
              "        <td>6</td>\n",
              "        <td>5.0</td>\n",
              "    </tr>\n",
              "    <tr>\n",
              "        <td>115</td>\n",
              "        <td>Page &amp; Plant</td>\n",
              "        <td>1</td>\n",
              "        <td>12.0</td>\n",
              "    </tr>\n",
              "    <tr>\n",
              "        <td>116</td>\n",
              "        <td>Passengers</td>\n",
              "        <td>1</td>\n",
              "        <td>14.0</td>\n",
              "    </tr>\n",
              "    <tr>\n",
              "        <td>117</td>\n",
              "        <td>Paul D&#x27;Ianno</td>\n",
              "        <td>1</td>\n",
              "        <td>10.0</td>\n",
              "    </tr>\n",
              "    <tr>\n",
              "        <td>118</td>\n",
              "        <td>Pearl Jam</td>\n",
              "        <td>5</td>\n",
              "        <td>13.0</td>\n",
              "    </tr>\n",
              "    <tr>\n",
              "        <td>256</td>\n",
              "        <td>Philharmonia Orchestra &amp; Sir Neville Marriner</td>\n",
              "        <td>1</td>\n",
              "        <td>1.0</td>\n",
              "    </tr>\n",
              "    <tr>\n",
              "        <td>275</td>\n",
              "        <td>Philip Glass Ensemble</td>\n",
              "        <td>1</td>\n",
              "        <td>1.0</td>\n",
              "    </tr>\n",
              "    <tr>\n",
              "        <td>120</td>\n",
              "        <td>Pink Floyd</td>\n",
              "        <td>1</td>\n",
              "        <td>9.0</td>\n",
              "    </tr>\n",
              "    <tr>\n",
              "        <td>121</td>\n",
              "        <td>Planet Hemp</td>\n",
              "        <td>1</td>\n",
              "        <td>16.0</td>\n",
              "    </tr>\n",
              "    <tr>\n",
              "        <td>51</td>\n",
              "        <td>Queen</td>\n",
              "        <td>3</td>\n",
              "        <td>15.0</td>\n",
              "    </tr>\n",
              "    <tr>\n",
              "        <td>124</td>\n",
              "        <td>R.E.M.</td>\n",
              "        <td>3</td>\n",
              "        <td>13.0</td>\n",
              "    </tr>\n",
              "    <tr>\n",
              "        <td>122</td>\n",
              "        <td>R.E.M. Feat. Kate Pearson</td>\n",
              "        <td>1</td>\n",
              "        <td>11.0</td>\n",
              "    </tr>\n",
              "    <tr>\n",
              "        <td>125</td>\n",
              "        <td>Raimundos</td>\n",
              "        <td>1</td>\n",
              "        <td>10.0</td>\n",
              "    </tr>\n",
              "    <tr>\n",
              "        <td>126</td>\n",
              "        <td>Raul Seixas</td>\n",
              "        <td>1</td>\n",
              "        <td>14.0</td>\n",
              "    </tr>\n",
              "    <tr>\n",
              "        <td>127</td>\n",
              "        <td>Red Hot Chili Peppers</td>\n",
              "        <td>3</td>\n",
              "        <td>16.0</td>\n",
              "    </tr>\n",
              "    <tr>\n",
              "        <td>207</td>\n",
              "        <td>Richard Marlow &amp; The Choir of Trinity College, Cambridge</td>\n",
              "        <td>1</td>\n",
              "        <td>1.0</td>\n",
              "    </tr>\n",
              "    <tr>\n",
              "        <td>261</td>\n",
              "        <td>Roger Norrington, London Classical Players</td>\n",
              "        <td>1</td>\n",
              "        <td>1.0</td>\n",
              "    </tr>\n",
              "    <tr>\n",
              "        <td>217</td>\n",
              "        <td>Royal Philharmonic Orchestra &amp; Sir Thomas Beecham</td>\n",
              "        <td>1</td>\n",
              "        <td>1.0</td>\n",
              "    </tr>\n",
              "    <tr>\n",
              "        <td>128</td>\n",
              "        <td>Rush</td>\n",
              "        <td>1</td>\n",
              "        <td>14.0</td>\n",
              "    </tr>\n",
              "    <tr>\n",
              "        <td>59</td>\n",
              "        <td>Santana</td>\n",
              "        <td>3</td>\n",
              "        <td>9.0</td>\n",
              "    </tr>\n",
              "    <tr>\n",
              "        <td>213</td>\n",
              "        <td>Scholars Baroque Ensemble</td>\n",
              "        <td>1</td>\n",
              "        <td>1.0</td>\n",
              "    </tr>\n",
              "    <tr>\n",
              "        <td>179</td>\n",
              "        <td>Scorpions</td>\n",
              "        <td>1</td>\n",
              "        <td>12.0</td>\n",
              "    </tr>\n",
              "    <tr>\n",
              "        <td>232</td>\n",
              "        <td>Sergei Prokofiev &amp; Yuri Temirkanov</td>\n",
              "        <td>1</td>\n",
              "        <td>1.0</td>\n",
              "    </tr>\n",
              "    <tr>\n",
              "        <td>221</td>\n",
              "        <td>Sir Georg Solti &amp; Wiener Philharmoniker</td>\n",
              "        <td>1</td>\n",
              "        <td>1.0</td>\n",
              "    </tr>\n",
              "    <tr>\n",
              "        <td>249</td>\n",
              "        <td>Sir Georg Solti, Sumi Jo &amp; Wiener Philharmoniker</td>\n",
              "        <td>1</td>\n",
              "        <td>1.0</td>\n",
              "    </tr>\n",
              "    <tr>\n",
              "        <td>130</td>\n",
              "        <td>Skank</td>\n",
              "        <td>2</td>\n",
              "        <td>11.0</td>\n",
              "    </tr>\n",
              "    <tr>\n",
              "        <td>131</td>\n",
              "        <td>Smashing Pumpkins</td>\n",
              "        <td>2</td>\n",
              "        <td>17.0</td>\n",
              "    </tr>\n",
              "    <tr>\n",
              "        <td>132</td>\n",
              "        <td>Soundgarden</td>\n",
              "        <td>1</td>\n",
              "        <td>17.0</td>\n",
              "    </tr>\n",
              "    <tr>\n",
              "        <td>53</td>\n",
              "        <td>Spyro Gyra</td>\n",
              "        <td>2</td>\n",
              "        <td>10.0</td>\n",
              "    </tr>\n",
              "    <tr>\n",
              "        <td>133</td>\n",
              "        <td>Stevie Ray Vaughan &amp; Double Trouble</td>\n",
              "        <td>1</td>\n",
              "        <td>10.0</td>\n",
              "    </tr>\n",
              "    <tr>\n",
              "        <td>134</td>\n",
              "        <td>Stone Temple Pilots</td>\n",
              "        <td>1</td>\n",
              "        <td>12.0</td>\n",
              "    </tr>\n",
              "    <tr>\n",
              "        <td>135</td>\n",
              "        <td>System Of A Down</td>\n",
              "        <td>1</td>\n",
              "        <td>11.0</td>\n",
              "    </tr>\n",
              "    <tr>\n",
              "        <td>204</td>\n",
              "        <td>Temple of the Dog</td>\n",
              "        <td>1</td>\n",
              "        <td>10.0</td>\n",
              "    </tr>\n",
              "    <tr>\n",
              "        <td>136</td>\n",
              "        <td>Terry Bozzio, Tony Levin &amp; Steve Stevens</td>\n",
              "        <td>1</td>\n",
              "        <td>7.0</td>\n",
              "    </tr>\n",
              "    <tr>\n",
              "        <td>259</td>\n",
              "        <td>The 12 Cellists of The Berlin Philharmonic</td>\n",
              "        <td>1</td>\n",
              "        <td>1.0</td>\n",
              "    </tr>\n",
              "    <tr>\n",
              "        <td>137</td>\n",
              "        <td>The Black Crowes</td>\n",
              "        <td>2</td>\n",
              "        <td>9.0</td>\n",
              "    </tr>\n",
              "    <tr>\n",
              "        <td>138</td>\n",
              "        <td>The Clash</td>\n",
              "        <td>1</td>\n",
              "        <td>18.0</td>\n",
              "    </tr>\n",
              "    <tr>\n",
              "        <td>139</td>\n",
              "        <td>The Cult</td>\n",
              "        <td>2</td>\n",
              "        <td>15.0</td>\n",
              "    </tr>\n",
              "    <tr>\n",
              "        <td>140</td>\n",
              "        <td>The Doors</td>\n",
              "        <td>1</td>\n",
              "        <td>11.0</td>\n",
              "    </tr>\n",
              "    <tr>\n",
              "        <td>247</td>\n",
              "        <td>The King&#x27;s Singers</td>\n",
              "        <td>1</td>\n",
              "        <td>2.0</td>\n",
              "    </tr>\n",
              "    <tr>\n",
              "        <td>156</td>\n",
              "        <td>The Office</td>\n",
              "        <td>3</td>\n",
              "        <td>17.0</td>\n",
              "    </tr>\n",
              "    <tr>\n",
              "        <td>141</td>\n",
              "        <td>The Police</td>\n",
              "        <td>1</td>\n",
              "        <td>14.0</td>\n",
              "    </tr>\n",
              "    <tr>\n",
              "        <td>200</td>\n",
              "        <td>The Posies</td>\n",
              "        <td>1</td>\n",
              "        <td>2.0</td>\n",
              "    </tr>\n",
              "    <tr>\n",
              "        <td>142</td>\n",
              "        <td>The Rolling Stones</td>\n",
              "        <td>3</td>\n",
              "        <td>13.0</td>\n",
              "    </tr>\n",
              "    <tr>\n",
              "        <td>143</td>\n",
              "        <td>The Tea Party</td>\n",
              "        <td>2</td>\n",
              "        <td>13.0</td>\n",
              "    </tr>\n",
              "    <tr>\n",
              "        <td>144</td>\n",
              "        <td>The Who</td>\n",
              "        <td>1</td>\n",
              "        <td>20.0</td>\n",
              "    </tr>\n",
              "    <tr>\n",
              "        <td>145</td>\n",
              "        <td>Tim Maia</td>\n",
              "        <td>2</td>\n",
              "        <td>15.0</td>\n",
              "    </tr>\n",
              "    <tr>\n",
              "        <td>146</td>\n",
              "        <td>Titãs</td>\n",
              "        <td>2</td>\n",
              "        <td>19.0</td>\n",
              "    </tr>\n",
              "    <tr>\n",
              "        <td>231</td>\n",
              "        <td>Ton Koopman</td>\n",
              "        <td>1</td>\n",
              "        <td>1.0</td>\n",
              "    </tr>\n",
              "    <tr>\n",
              "        <td>70</td>\n",
              "        <td>Toquinho &amp; Vinícius</td>\n",
              "        <td>1</td>\n",
              "        <td>15.0</td>\n",
              "    </tr>\n",
              "    <tr>\n",
              "        <td>150</td>\n",
              "        <td>U2</td>\n",
              "        <td>10</td>\n",
              "        <td>13.0</td>\n",
              "    </tr>\n",
              "    <tr>\n",
              "        <td>151</td>\n",
              "        <td>UB40</td>\n",
              "        <td>1</td>\n",
              "        <td>14.0</td>\n",
              "    </tr>\n",
              "    <tr>\n",
              "        <td>152</td>\n",
              "        <td>Van Halen</td>\n",
              "        <td>4</td>\n",
              "        <td>13.0</td>\n",
              "    </tr>\n",
              "    <tr>\n",
              "        <td>21</td>\n",
              "        <td>Various Artists</td>\n",
              "        <td>4</td>\n",
              "        <td>14.0</td>\n",
              "    </tr>\n",
              "    <tr>\n",
              "        <td>153</td>\n",
              "        <td>Velvet Revolver</td>\n",
              "        <td>1</td>\n",
              "        <td>13.0</td>\n",
              "    </tr>\n",
              "    <tr>\n",
              "        <td>72</td>\n",
              "        <td>Vinícius De Moraes</td>\n",
              "        <td>1</td>\n",
              "        <td>15.0</td>\n",
              "    </tr>\n",
              "    <tr>\n",
              "        <td>211</td>\n",
              "        <td>Wilhelm Kempff</td>\n",
              "        <td>1</td>\n",
              "        <td>1.0</td>\n",
              "    </tr>\n",
              "    <tr>\n",
              "        <td>255</td>\n",
              "        <td>Yehudi Menuhin</td>\n",
              "        <td>1</td>\n",
              "        <td>1.0</td>\n",
              "    </tr>\n",
              "    <tr>\n",
              "        <td>212</td>\n",
              "        <td>Yo-Yo Ma</td>\n",
              "        <td>1</td>\n",
              "        <td>1.0</td>\n",
              "    </tr>\n",
              "    <tr>\n",
              "        <td>155</td>\n",
              "        <td>Zeca Pagodinho</td>\n",
              "        <td>1</td>\n",
              "        <td>19.0</td>\n",
              "    </tr>\n",
              "</table>"
            ],
            "text/plain": [
              "[(1, 'AC/DC', 2, 9.0),\n",
              " (230, 'Aaron Copland & London Symphony Orchestra', 1, 1.0),\n",
              " (202, 'Aaron Goldberg', 1, 1.0),\n",
              " (214, 'Academy of St. Martin in the Fields & Sir Neville Marriner', 1, 2.0),\n",
              " (215, 'Academy of St. Martin in the Fields Chamber Ensemble & Sir Neville Marriner', 1, 1.0),\n",
              " (222, 'Academy of St. Martin in the Fields, John Birch, Sir Neville Marriner & Sylvia McNair', 1, 1.0),\n",
              " (257, 'Academy of St. Martin in the Fields, Sir Neville Marriner & Thurston Dart', 1, 1.0),\n",
              " (2, 'Accept', 2, 2.0),\n",
              " (260, 'Adrian Leaper & Doreen de Feis', 1, 1.0),\n",
              " (3, 'Aerosmith', 1, 15.0),\n",
              " (197, 'Aisha Duo', 1, 2.0),\n",
              " (4, 'Alanis Morissette', 1, 13.0),\n",
              " (206, 'Alberto Turco & Nova Schola Gregoriana', 1, 1.0),\n",
              " (5, 'Alice In Chains', 1, 12.0),\n",
              " (252, 'Amy Winehouse', 2, 11.0),\n",
              " (209, 'Anne-Sophie Mutter, Herbert Von Karajan & Wiener Philharmoniker', 1, 1.0),\n",
              " (243, 'Antal Doráti & London Symphony Orchestra', 1, 1.0),\n",
              " (6, 'Antônio Carlos Jobim', 2, 15.0),\n",
              " (7, 'Apocalyptica', 1, 8.0),\n",
              " (159, 'Aquaman', 1, 1.0),\n",
              " (8, 'Audioslave', 3, 13.0),\n",
              " (9, 'BackBeat', 1, 12.0),\n",
              " (224, 'Barry Wordsworth & BBC Concert Orchestra', 1, 1.0),\n",
              " (147, 'Battlestar Galactica', 2, 10.0),\n",
              " (158, 'Battlestar Galactica (Classic)', 1, 24.0),\n",
              " (237, 'Berliner Philharmoniker & Hans Rosbaud', 1, 1.0),\n",
              " (248, 'Berliner Philharmoniker & Herbert Von Karajan', 3, 1.0),\n",
              " (216, 'Berliner Philharmoniker, Claudio Abbado & Sabine Meyer', 1, 1.0),\n",
              " (10, 'Billy Cobham', 1, 8.0),\n",
              " (11, 'Black Label Society', 2, 9.0),\n",
              " (12, 'Black Sabbath', 2, 8.0),\n",
              " (13, 'Body Count', 1, 17.0),\n",
              " (229, 'Boston Symphony Orchestra & Seiji Ozawa', 1, 1.0),\n",
              " (219, 'Britten Sinfonia, Ivor Bolton & Lesley Garrett', 1, 1.0),\n",
              " (14, 'Bruce Dickinson', 1, 11.0),\n",
              " (15, 'Buddy Guy', 1, 11.0),\n",
              " (273, 'C. Monteverdi, Nigel Rogers - Chiaroscuro; London Baroque; London Cornett & Sackbu', 1, 1.0),\n",
              " (16, 'Caetano Veloso', 2, 10.0),\n",
              " (196, 'Cake', 1, 1.0),\n",
              " (253, 'Calexico', 1, 1.0),\n",
              " (262, \"Charles Dutoit & L'Orchestre Symphonique de Montréal\", 1, 1.0),\n",
              " (220, 'Chicago Symphony Chorus, Chicago Symphony Orchestra & Sir Georg Solti', 1, 1.0),\n",
              " (233, 'Chicago Symphony Orchestra & Fritz Reiner', 1, 1.0),\n",
              " (17, 'Chico Buarque', 1, 34.0),\n",
              " (18, 'Chico Science & Nação Zumbi', 2, 18.0),\n",
              " (244, 'Choir Of Westminster Abbey & Simon Preston', 1, 1.0),\n",
              " (246, 'Chor der Wiener Staatsoper, Herbert Von Karajan & Wiener Philharmoniker', 1, 1.0),\n",
              " (205, 'Chris Cornell', 1, 14.0),\n",
              " (250, \"Christopher O'Riley\", 1, 1.0),\n",
              " (19, 'Cidade Negra', 2, 15.0),\n",
              " (20, 'Cláudio Zoli', 1, 10.0),\n",
              " (76, 'Creedence Clearwater Revival', 2, 20.0),\n",
              " (77, 'Cássia Eller', 2, 15.0),\n",
              " (55, 'David Coverdale', 1, 12.0),\n",
              " (58, 'Deep Purple', 11, 8.0),\n",
              " (78, 'Def Leppard', 1, 16.0),\n",
              " (79, 'Dennis Chambers', 1, 9.0),\n",
              " (80, 'Djavan', 2, 13.0),\n",
              " (157, 'Dread Zeppelin', 1, 1.0),\n",
              " (37, 'Ed Motta', 1, 14.0),\n",
              " (242, 'Edo de Waart & San Francisco Symphony', 1, 1.0),\n",
              " (41, 'Elis Regina', 1, 14.0),\n",
              " (235, 'Emanuel Ax, Eugene Ormandy & Philadelphia Orchestra', 1, 1.0),\n",
              " (272, 'Emerson String Quartet', 1, 1.0),\n",
              " (208, 'English Concert & Trevor Pinnock', 2, 1.0),\n",
              " (263, 'Equale Brass Ensemble, John Eliot Gardiner & Munich Monteverdi Orchestra and Choir', 1, 1.0),\n",
              " (81, 'Eric Clapton', 2, 24.0),\n",
              " (226, 'Eugene Ormandy', 3, 1.0),\n",
              " (82, 'Faith No More', 4, 13.0),\n",
              " (83, 'Falamansa', 1, 14.0),\n",
              " (241, 'Felix Schmidt, London Symphony Orchestra & Rafael Frühbeck de Burgos', 1, 1.0),\n",
              " (84, 'Foo Fighters', 4, 11.0),\n",
              " (85, 'Frank Sinatra', 1, 24.0),\n",
              " (23, 'Frank Zappa & Captain Beefheart', 1, 9.0),\n",
              " (251, 'Fretwork', 1, 1.0),\n",
              " (86, 'Funk Como Le Gusta', 1, 16.0),\n",
              " (69, 'Gene Krupa', 1, 22.0),\n",
              " (270, 'Gerald Moore', 1, 1.0),\n",
              " (27, 'Gilberto Gil', 3, 10.0),\n",
              " (87, 'Godsmack', 1, 12.0),\n",
              " (56, 'Gonzaguinha', 1, 14.0),\n",
              " (54, 'Green Day', 2, 17.0),\n",
              " (88, \"Guns N' Roses\", 3, 14.0),\n",
              " (240, 'Gustav Mahler', 1, 1.0),\n",
              " (267, 'Göteborgs Symfoniker & Neeme Järvi', 1, 1.0),\n",
              " (198, 'Habib Koité and Bamada', 1, 2.0),\n",
              " (225, 'Herbert Von Karajan, Mirella Freni & Wiener Philharmoniker', 1, 1.0),\n",
              " (148, 'Heroes', 1, 23.0),\n",
              " (210, 'Hilary Hahn, Jeffrey Kahane, Los Angeles Chamber Orchestra & Margaret Batjer', 1, 1.0),\n",
              " (180, 'House Of Pain', 1, 19.0),\n",
              " (89, 'Incognito', 1, 13.0),\n",
              " (90, 'Iron Maiden', 21, 10.0),\n",
              " (268, 'Itzhak Perlman', 1, 1.0),\n",
              " (93, 'JET', 1, 13.0),\n",
              " (91, 'James Brown', 1, 20.0),\n",
              " (236, 'James Levine', 1, 1.0),\n",
              " (92, 'Jamiroquai', 3, 10.0),\n",
              " (94, 'Jimi Hendrix', 1, 17.0),\n",
              " (95, 'Joe Satriani', 1, 10.0),\n",
              " (46, 'Jorge Ben', 1, 14.0),\n",
              " (96, 'Jota Quest', 1, 12.0),\n",
              " (97, 'João Suplicy', 1, 14.0),\n",
              " (98, 'Judas Priest', 1, 16.0),\n",
              " (265, 'Julian Bream', 1, 1.0),\n",
              " (199, 'Karsh Kale', 1, 2.0),\n",
              " (264, \"Kent Nagano and Orchestre de l'Opéra de Lyon\", 1, 1.0),\n",
              " (52, 'Kiss', 2, 17.0),\n",
              " (22, 'Led Zeppelin', 14, 8.0),\n",
              " (99, 'Legião Urbana', 2, 15.0),\n",
              " (100, 'Lenny Kravitz', 1, 57.0),\n",
              " (228, 'Leonard Bernstein & New York Philharmonic', 1, 1.0),\n",
              " (258, 'Les Arts Florissants & William Christie', 1, 1.0),\n",
              " (223, 'London Symphony Orchestra & Sir Charles Mackerras', 1, 1.0),\n",
              " (149, 'Lost', 4, 23.0),\n",
              " (201, 'Luciana Souza/Romero Lubambo', 1, 1.0),\n",
              " (227, 'Luciano Pavarotti', 1, 1.0),\n",
              " (101, 'Lulu Santos', 2, 14.0),\n",
              " (24, 'Marcos Valle', 1, 17.0),\n",
              " (102, 'Marillion', 1, 10.0),\n",
              " (103, 'Marisa Monte', 1, 18.0),\n",
              " (266, 'Martin Roscoe', 1, 1.0),\n",
              " (104, 'Marvin Gaye', 1, 18.0),\n",
              " (238, 'Maurizio Pollini', 1, 1.0),\n",
              " (271, 'Mela Tenenbaum, Pro Musica Prague & Richard Kapp', 1, 1.0),\n",
              " (105, 'Men At Work', 1, 10.0),\n",
              " (50, 'Metallica', 10, 11.0),\n",
              " (245, 'Michael Tilson Thomas & San Francisco Symphony', 2, 1.0),\n",
              " (269, 'Michele Campanella', 1, 1.0),\n",
              " (68, 'Miles Davis', 3, 12.0),\n",
              " (42, 'Milton Nascimento', 2, 13.0),\n",
              " (106, 'Motörhead', 1, 15.0),\n",
              " (108, 'Mônica Marianno', 1, 12.0),\n",
              " (109, 'Mötley Crüe', 1, 17.0),\n",
              " (274, 'Nash Ensemble', 1, 1.0),\n",
              " (203, 'Nicolaus Esterhazy Sinfonia', 1, 1.0),\n",
              " (110, 'Nirvana', 2, 14.0),\n",
              " (36, 'O Rappa', 1, 17.0),\n",
              " (111, 'O Terço', 1, 15.0),\n",
              " (112, 'Olodum', 1, 14.0),\n",
              " (234, 'Orchestra of The Age of Enlightenment', 1, 1.0),\n",
              " (218, 'Orchestre Révolutionnaire et Romantique & John Eliot Gardiner', 1, 1.0),\n",
              " (57, 'Os Mutantes', 1, 14.0),\n",
              " (113, 'Os Paralamas Do Sucesso', 3, 16.0),\n",
              " (254, 'Otto Klemperer & Philharmonia Orchestra', 1, 1.0),\n",
              " (114, 'Ozzy Osbourne', 6, 5.0),\n",
              " (115, 'Page & Plant', 1, 12.0),\n",
              " (116, 'Passengers', 1, 14.0),\n",
              " (117, \"Paul D'Ianno\", 1, 10.0),\n",
              " (118, 'Pearl Jam', 5, 13.0),\n",
              " (256, 'Philharmonia Orchestra & Sir Neville Marriner', 1, 1.0),\n",
              " (275, 'Philip Glass Ensemble', 1, 1.0),\n",
              " (120, 'Pink Floyd', 1, 9.0),\n",
              " (121, 'Planet Hemp', 1, 16.0),\n",
              " (51, 'Queen', 3, 15.0),\n",
              " (124, 'R.E.M.', 3, 13.0),\n",
              " (122, 'R.E.M. Feat. Kate Pearson', 1, 11.0),\n",
              " (125, 'Raimundos', 1, 10.0),\n",
              " (126, 'Raul Seixas', 1, 14.0),\n",
              " (127, 'Red Hot Chili Peppers', 3, 16.0),\n",
              " (207, 'Richard Marlow & The Choir of Trinity College, Cambridge', 1, 1.0),\n",
              " (261, 'Roger Norrington, London Classical Players', 1, 1.0),\n",
              " (217, 'Royal Philharmonic Orchestra & Sir Thomas Beecham', 1, 1.0),\n",
              " (128, 'Rush', 1, 14.0),\n",
              " (59, 'Santana', 3, 9.0),\n",
              " (213, 'Scholars Baroque Ensemble', 1, 1.0),\n",
              " (179, 'Scorpions', 1, 12.0),\n",
              " (232, 'Sergei Prokofiev & Yuri Temirkanov', 1, 1.0),\n",
              " (221, 'Sir Georg Solti & Wiener Philharmoniker', 1, 1.0),\n",
              " (249, 'Sir Georg Solti, Sumi Jo & Wiener Philharmoniker', 1, 1.0),\n",
              " (130, 'Skank', 2, 11.0),\n",
              " (131, 'Smashing Pumpkins', 2, 17.0),\n",
              " (132, 'Soundgarden', 1, 17.0),\n",
              " (53, 'Spyro Gyra', 2, 10.0),\n",
              " (133, 'Stevie Ray Vaughan & Double Trouble', 1, 10.0),\n",
              " (134, 'Stone Temple Pilots', 1, 12.0),\n",
              " (135, 'System Of A Down', 1, 11.0),\n",
              " (204, 'Temple of the Dog', 1, 10.0),\n",
              " (136, 'Terry Bozzio, Tony Levin & Steve Stevens', 1, 7.0),\n",
              " (259, 'The 12 Cellists of The Berlin Philharmonic', 1, 1.0),\n",
              " (137, 'The Black Crowes', 2, 9.0),\n",
              " (138, 'The Clash', 1, 18.0),\n",
              " (139, 'The Cult', 2, 15.0),\n",
              " (140, 'The Doors', 1, 11.0),\n",
              " (247, \"The King's Singers\", 1, 2.0),\n",
              " (156, 'The Office', 3, 17.0),\n",
              " (141, 'The Police', 1, 14.0),\n",
              " (200, 'The Posies', 1, 2.0),\n",
              " (142, 'The Rolling Stones', 3, 13.0),\n",
              " (143, 'The Tea Party', 2, 13.0),\n",
              " (144, 'The Who', 1, 20.0),\n",
              " (145, 'Tim Maia', 2, 15.0),\n",
              " (146, 'Titãs', 2, 19.0),\n",
              " (231, 'Ton Koopman', 1, 1.0),\n",
              " (70, 'Toquinho & Vinícius', 1, 15.0),\n",
              " (150, 'U2', 10, 13.0),\n",
              " (151, 'UB40', 1, 14.0),\n",
              " (152, 'Van Halen', 4, 13.0),\n",
              " (21, 'Various Artists', 4, 14.0),\n",
              " (153, 'Velvet Revolver', 1, 13.0),\n",
              " (72, 'Vinícius De Moraes', 1, 15.0),\n",
              " (211, 'Wilhelm Kempff', 1, 1.0),\n",
              " (255, 'Yehudi Menuhin', 1, 1.0),\n",
              " (212, 'Yo-Yo Ma', 1, 1.0),\n",
              " (155, 'Zeca Pagodinho', 1, 19.0)]"
            ]
          },
          "execution_count": 27,
          "metadata": {},
          "output_type": "execute_result"
        }
      ],
      "source": [
        "%%sql\n",
        "\n",
        "SELECT Artist.ArtistId, Artist.Name, COUNT(DISTINCT(Track.AlbumId)) AS Albums, ((COUNT(Track.TrackId)/COUNT(DISTINCT(Album.AlbumId))))/1.0 AS TracksPerAlbum FROM Artist\n",
        "INNER JOIN Album ON Artist.ArtistId = ALbum.ArtistId\n",
        "INNER JOIN Track ON Album.AlbumId = Track.AlbumId\n",
        "GROUP BY Artist.ArtistId\n",
        "ORDER BY Artist.Name;"
      ]
    },
    {
      "cell_type": "code",
      "execution_count": null,
      "id": "silent-lyric",
      "metadata": {
        "id": "silent-lyric"
      },
      "outputs": [],
      "source": [
        "# DON'T MODIFY OR MOVE THIS CELL! IT IS USED FOR EVALUATION.\n",
        "ans5 = _"
      ]
    },
    {
      "cell_type": "code",
      "execution_count": null,
      "id": "christian-liechtenstein",
      "metadata": {
        "id": "christian-liechtenstein"
      },
      "outputs": [],
      "source": []
    },
    {
      "cell_type": "code",
      "execution_count": null,
      "id": "aware-credit",
      "metadata": {
        "id": "aware-credit"
      },
      "outputs": [],
      "source": []
    },
    {
      "cell_type": "markdown",
      "id": "deadly-calculation",
      "metadata": {
        "id": "deadly-calculation"
      },
      "source": [
        "Let's save our work before continuing."
      ]
    },
    {
      "cell_type": "code",
      "execution_count": null,
      "id": "acoustic-apollo",
      "metadata": {
        "id": "acoustic-apollo",
        "outputId": "112d4fdb-99a7-4712-97aa-c87e89322f07"
      },
      "outputs": [
        {
          "data": {
            "application/javascript": [
              "window.require && require([\"base/js/namespace\"],function(Jupyter){Jupyter.notebook.save_checkpoint()})"
            ],
            "text/plain": [
              "<IPython.core.display.Javascript object>"
            ]
          },
          "metadata": {},
          "output_type": "display_data"
        },
        {
          "name": "stdout",
          "output_type": "stream",
          "text": [
            "[jovian] Updating notebook \"zthoufiqz55/sql-practice-assignment\" on https://jovian.ai\u001b[0m\n",
            "[jovian] Committed successfully! https://jovian.ai/zthoufiqz55/sql-practice-assignment\u001b[0m\n"
          ]
        },
        {
          "data": {
            "text/plain": [
              "'https://jovian.ai/zthoufiqz55/sql-practice-assignment'"
            ]
          },
          "execution_count": 29,
          "metadata": {},
          "output_type": "execute_result"
        }
      ],
      "source": [
        "jovian.commit()"
      ]
    },
    {
      "cell_type": "markdown",
      "id": "welsh-opinion",
      "metadata": {
        "id": "welsh-opinion"
      },
      "source": [
        "(OPTIONAL) Write a SQL query to display the top 10 highest grossing tracks in 2012. The result should contain the track ID, track name, number of units sold, and the total revenue from the track in 2012. *Hint*: Use the `InvoiceLine` table."
      ]
    },
    {
      "cell_type": "code",
      "execution_count": null,
      "id": "induced-leisure",
      "metadata": {
        "id": "induced-leisure"
      },
      "outputs": [],
      "source": []
    },
    {
      "cell_type": "code",
      "execution_count": null,
      "id": "governing-affair",
      "metadata": {
        "id": "governing-affair"
      },
      "outputs": [],
      "source": []
    },
    {
      "cell_type": "code",
      "execution_count": null,
      "id": "pretty-greensboro",
      "metadata": {
        "id": "pretty-greensboro"
      },
      "outputs": [],
      "source": []
    },
    {
      "cell_type": "markdown",
      "id": "bearing-semester",
      "metadata": {
        "id": "bearing-semester"
      },
      "source": [
        "Let's save our work before continuing."
      ]
    },
    {
      "cell_type": "code",
      "execution_count": null,
      "id": "strong-devices",
      "metadata": {
        "id": "strong-devices"
      },
      "outputs": [],
      "source": [
        "jovian.commit()"
      ]
    },
    {
      "cell_type": "markdown",
      "id": "derived-shape",
      "metadata": {
        "id": "derived-shape"
      },
      "source": [
        "## Joining Multiple Tables\n",
        "\n",
        "> **QUESTION 6:** Show the following information for all the tracks by the Artist \"Metallica\": Track ID, Track Name, Album Title, Artist Name, Composer, Media Type, Genre and track length in milliseconds. Order the tracks in alphabetical order of album names.\n",
        "> \n",
        "> Here are the first few rows of the expected result:\n",
        ">\n",
        "> <img src=\"https://i.imgur.com/Ovhm9Nh.png\" width=\"640\">"
      ]
    },
    {
      "cell_type": "code",
      "execution_count": null,
      "id": "suited-tender",
      "metadata": {
        "id": "suited-tender",
        "outputId": "7d012981-e2a3-477e-a7a8-ff064fbd5d29"
      },
      "outputs": [
        {
          "name": "stdout",
          "output_type": "stream",
          "text": [
            " * sqlite:///chinook.sqlite\n",
            "Done.\n"
          ]
        },
        {
          "data": {
            "text/html": [
              "<table>\n",
              "    <tr>\n",
              "        <th>TrackId</th>\n",
              "        <th>Track</th>\n",
              "        <th>Album</th>\n",
              "        <th>Artist</th>\n",
              "        <th>Composer</th>\n",
              "        <th>MediaType</th>\n",
              "        <th>Genre</th>\n",
              "        <th>Milliseconds</th>\n",
              "    </tr>\n",
              "    <tr>\n",
              "        <td>1893</td>\n",
              "        <td>Blackened</td>\n",
              "        <td>...And Justice For All</td>\n",
              "        <td>Metallica</td>\n",
              "        <td>James Hetfield, Lars Ulrich &amp; Jason Newsted</td>\n",
              "        <td>MPEG audio file</td>\n",
              "        <td>Metal</td>\n",
              "        <td>403382</td>\n",
              "    </tr>\n",
              "    <tr>\n",
              "        <td>1894</td>\n",
              "        <td>...And Justice For All</td>\n",
              "        <td>...And Justice For All</td>\n",
              "        <td>Metallica</td>\n",
              "        <td>James Hetfield, Lars Ulrich &amp; Kirk Hammett</td>\n",
              "        <td>MPEG audio file</td>\n",
              "        <td>Metal</td>\n",
              "        <td>585769</td>\n",
              "    </tr>\n",
              "    <tr>\n",
              "        <td>1895</td>\n",
              "        <td>Eye Of The Beholder</td>\n",
              "        <td>...And Justice For All</td>\n",
              "        <td>Metallica</td>\n",
              "        <td>James Hetfield, Lars Ulrich &amp; Kirk Hammett</td>\n",
              "        <td>MPEG audio file</td>\n",
              "        <td>Metal</td>\n",
              "        <td>385828</td>\n",
              "    </tr>\n",
              "    <tr>\n",
              "        <td>1896</td>\n",
              "        <td>One</td>\n",
              "        <td>...And Justice For All</td>\n",
              "        <td>Metallica</td>\n",
              "        <td>James Hetfield &amp; Lars Ulrich</td>\n",
              "        <td>MPEG audio file</td>\n",
              "        <td>Metal</td>\n",
              "        <td>446484</td>\n",
              "    </tr>\n",
              "    <tr>\n",
              "        <td>1897</td>\n",
              "        <td>The Shortest Straw</td>\n",
              "        <td>...And Justice For All</td>\n",
              "        <td>Metallica</td>\n",
              "        <td>James Hetfield and Lars Ulrich</td>\n",
              "        <td>MPEG audio file</td>\n",
              "        <td>Metal</td>\n",
              "        <td>395389</td>\n",
              "    </tr>\n",
              "    <tr>\n",
              "        <td>1898</td>\n",
              "        <td>Harvester Of Sorrow</td>\n",
              "        <td>...And Justice For All</td>\n",
              "        <td>Metallica</td>\n",
              "        <td>James Hetfield and Lars Ulrich</td>\n",
              "        <td>MPEG audio file</td>\n",
              "        <td>Metal</td>\n",
              "        <td>345547</td>\n",
              "    </tr>\n",
              "    <tr>\n",
              "        <td>1899</td>\n",
              "        <td>The Frayed Ends Of Sanity</td>\n",
              "        <td>...And Justice For All</td>\n",
              "        <td>Metallica</td>\n",
              "        <td>James Hetfield, Lars Ulrich and Kirk Hammett</td>\n",
              "        <td>MPEG audio file</td>\n",
              "        <td>Metal</td>\n",
              "        <td>464039</td>\n",
              "    </tr>\n",
              "    <tr>\n",
              "        <td>1900</td>\n",
              "        <td>To Live Is To Die</td>\n",
              "        <td>...And Justice For All</td>\n",
              "        <td>Metallica</td>\n",
              "        <td>James Hetfield, Lars Ulrich and Cliff Burton</td>\n",
              "        <td>MPEG audio file</td>\n",
              "        <td>Metal</td>\n",
              "        <td>588564</td>\n",
              "    </tr>\n",
              "    <tr>\n",
              "        <td>1901</td>\n",
              "        <td>Dyers Eve</td>\n",
              "        <td>...And Justice For All</td>\n",
              "        <td>Metallica</td>\n",
              "        <td>James Hetfield, Lars Ulrich and Kirk Hammett</td>\n",
              "        <td>MPEG audio file</td>\n",
              "        <td>Metal</td>\n",
              "        <td>313991</td>\n",
              "    </tr>\n",
              "    <tr>\n",
              "        <td>1801</td>\n",
              "        <td>Enter Sandman</td>\n",
              "        <td>Black Album</td>\n",
              "        <td>Metallica</td>\n",
              "        <td>James Hetfield, Lars Ulrich and Kirk Hammett</td>\n",
              "        <td>MPEG audio file</td>\n",
              "        <td>Metal</td>\n",
              "        <td>332251</td>\n",
              "    </tr>\n",
              "    <tr>\n",
              "        <td>1802</td>\n",
              "        <td>Sad But True</td>\n",
              "        <td>Black Album</td>\n",
              "        <td>Metallica</td>\n",
              "        <td>Ulrich</td>\n",
              "        <td>MPEG audio file</td>\n",
              "        <td>Metal</td>\n",
              "        <td>324754</td>\n",
              "    </tr>\n",
              "    <tr>\n",
              "        <td>1803</td>\n",
              "        <td>Holier Than Thou</td>\n",
              "        <td>Black Album</td>\n",
              "        <td>Metallica</td>\n",
              "        <td>Ulrich</td>\n",
              "        <td>MPEG audio file</td>\n",
              "        <td>Metal</td>\n",
              "        <td>227892</td>\n",
              "    </tr>\n",
              "    <tr>\n",
              "        <td>1804</td>\n",
              "        <td>The Unforgiven</td>\n",
              "        <td>Black Album</td>\n",
              "        <td>Metallica</td>\n",
              "        <td>James Hetfield, Lars Ulrich and Kirk Hammett</td>\n",
              "        <td>MPEG audio file</td>\n",
              "        <td>Metal</td>\n",
              "        <td>387082</td>\n",
              "    </tr>\n",
              "    <tr>\n",
              "        <td>1805</td>\n",
              "        <td>Wherever I May Roam</td>\n",
              "        <td>Black Album</td>\n",
              "        <td>Metallica</td>\n",
              "        <td>Ulrich</td>\n",
              "        <td>MPEG audio file</td>\n",
              "        <td>Metal</td>\n",
              "        <td>404323</td>\n",
              "    </tr>\n",
              "    <tr>\n",
              "        <td>1806</td>\n",
              "        <td>Don&#x27;t Tread On Me</td>\n",
              "        <td>Black Album</td>\n",
              "        <td>Metallica</td>\n",
              "        <td>Ulrich</td>\n",
              "        <td>MPEG audio file</td>\n",
              "        <td>Metal</td>\n",
              "        <td>240483</td>\n",
              "    </tr>\n",
              "    <tr>\n",
              "        <td>1807</td>\n",
              "        <td>Through The Never</td>\n",
              "        <td>Black Album</td>\n",
              "        <td>Metallica</td>\n",
              "        <td>James Hetfield, Lars Ulrich and Kirk Hammett</td>\n",
              "        <td>MPEG audio file</td>\n",
              "        <td>Metal</td>\n",
              "        <td>244375</td>\n",
              "    </tr>\n",
              "    <tr>\n",
              "        <td>1808</td>\n",
              "        <td>Nothing Else Matters</td>\n",
              "        <td>Black Album</td>\n",
              "        <td>Metallica</td>\n",
              "        <td>Ulrich</td>\n",
              "        <td>MPEG audio file</td>\n",
              "        <td>Metal</td>\n",
              "        <td>388832</td>\n",
              "    </tr>\n",
              "    <tr>\n",
              "        <td>1809</td>\n",
              "        <td>Of Wolf And Man</td>\n",
              "        <td>Black Album</td>\n",
              "        <td>Metallica</td>\n",
              "        <td>James Hetfield, Lars Ulrich and Kirk Hammett</td>\n",
              "        <td>MPEG audio file</td>\n",
              "        <td>Metal</td>\n",
              "        <td>256835</td>\n",
              "    </tr>\n",
              "    <tr>\n",
              "        <td>1810</td>\n",
              "        <td>The God That Failed</td>\n",
              "        <td>Black Album</td>\n",
              "        <td>Metallica</td>\n",
              "        <td>Ulrich</td>\n",
              "        <td>MPEG audio file</td>\n",
              "        <td>Metal</td>\n",
              "        <td>308610</td>\n",
              "    </tr>\n",
              "    <tr>\n",
              "        <td>1811</td>\n",
              "        <td>My Friend Of Misery</td>\n",
              "        <td>Black Album</td>\n",
              "        <td>Metallica</td>\n",
              "        <td>James Hetfield, Lars Ulrich and Jason Newsted</td>\n",
              "        <td>MPEG audio file</td>\n",
              "        <td>Metal</td>\n",
              "        <td>409547</td>\n",
              "    </tr>\n",
              "    <tr>\n",
              "        <td>1812</td>\n",
              "        <td>The Struggle Within</td>\n",
              "        <td>Black Album</td>\n",
              "        <td>Metallica</td>\n",
              "        <td>Ulrich</td>\n",
              "        <td>MPEG audio file</td>\n",
              "        <td>Metal</td>\n",
              "        <td>234240</td>\n",
              "    </tr>\n",
              "    <tr>\n",
              "        <td>408</td>\n",
              "        <td>Free Speech For The Dumb</td>\n",
              "        <td>Garage Inc. (Disc 1)</td>\n",
              "        <td>Metallica</td>\n",
              "        <td>Molaney/Morris/Roberts/Wainwright</td>\n",
              "        <td>MPEG audio file</td>\n",
              "        <td>Metal</td>\n",
              "        <td>155428</td>\n",
              "    </tr>\n",
              "    <tr>\n",
              "        <td>409</td>\n",
              "        <td>It&#x27;s Electric</td>\n",
              "        <td>Garage Inc. (Disc 1)</td>\n",
              "        <td>Metallica</td>\n",
              "        <td>Harris/Tatler</td>\n",
              "        <td>MPEG audio file</td>\n",
              "        <td>Metal</td>\n",
              "        <td>213995</td>\n",
              "    </tr>\n",
              "    <tr>\n",
              "        <td>410</td>\n",
              "        <td>Sabbra Cadabra</td>\n",
              "        <td>Garage Inc. (Disc 1)</td>\n",
              "        <td>Metallica</td>\n",
              "        <td>Black Sabbath</td>\n",
              "        <td>MPEG audio file</td>\n",
              "        <td>Metal</td>\n",
              "        <td>380342</td>\n",
              "    </tr>\n",
              "    <tr>\n",
              "        <td>411</td>\n",
              "        <td>Turn The Page</td>\n",
              "        <td>Garage Inc. (Disc 1)</td>\n",
              "        <td>Metallica</td>\n",
              "        <td>Seger</td>\n",
              "        <td>MPEG audio file</td>\n",
              "        <td>Metal</td>\n",
              "        <td>366524</td>\n",
              "    </tr>\n",
              "    <tr>\n",
              "        <td>412</td>\n",
              "        <td>Die Die My Darling</td>\n",
              "        <td>Garage Inc. (Disc 1)</td>\n",
              "        <td>Metallica</td>\n",
              "        <td>Danzig</td>\n",
              "        <td>MPEG audio file</td>\n",
              "        <td>Metal</td>\n",
              "        <td>149315</td>\n",
              "    </tr>\n",
              "    <tr>\n",
              "        <td>413</td>\n",
              "        <td>Loverman</td>\n",
              "        <td>Garage Inc. (Disc 1)</td>\n",
              "        <td>Metallica</td>\n",
              "        <td>Cave</td>\n",
              "        <td>MPEG audio file</td>\n",
              "        <td>Metal</td>\n",
              "        <td>472764</td>\n",
              "    </tr>\n",
              "    <tr>\n",
              "        <td>414</td>\n",
              "        <td>Mercyful Fate</td>\n",
              "        <td>Garage Inc. (Disc 1)</td>\n",
              "        <td>Metallica</td>\n",
              "        <td>Diamond/Shermann</td>\n",
              "        <td>MPEG audio file</td>\n",
              "        <td>Metal</td>\n",
              "        <td>671712</td>\n",
              "    </tr>\n",
              "    <tr>\n",
              "        <td>415</td>\n",
              "        <td>Astronomy</td>\n",
              "        <td>Garage Inc. (Disc 1)</td>\n",
              "        <td>Metallica</td>\n",
              "        <td>A.Bouchard/J.Bouchard/S.Pearlman</td>\n",
              "        <td>MPEG audio file</td>\n",
              "        <td>Metal</td>\n",
              "        <td>397531</td>\n",
              "    </tr>\n",
              "    <tr>\n",
              "        <td>416</td>\n",
              "        <td>Whiskey In The Jar</td>\n",
              "        <td>Garage Inc. (Disc 1)</td>\n",
              "        <td>Metallica</td>\n",
              "        <td>Traditional</td>\n",
              "        <td>MPEG audio file</td>\n",
              "        <td>Metal</td>\n",
              "        <td>305005</td>\n",
              "    </tr>\n",
              "    <tr>\n",
              "        <td>417</td>\n",
              "        <td>Tuesday&#x27;s Gone</td>\n",
              "        <td>Garage Inc. (Disc 1)</td>\n",
              "        <td>Metallica</td>\n",
              "        <td>Collins/Van Zandt</td>\n",
              "        <td>MPEG audio file</td>\n",
              "        <td>Metal</td>\n",
              "        <td>545750</td>\n",
              "    </tr>\n",
              "    <tr>\n",
              "        <td>418</td>\n",
              "        <td>The More I See</td>\n",
              "        <td>Garage Inc. (Disc 1)</td>\n",
              "        <td>Metallica</td>\n",
              "        <td>Molaney/Morris/Roberts/Wainwright</td>\n",
              "        <td>MPEG audio file</td>\n",
              "        <td>Metal</td>\n",
              "        <td>287973</td>\n",
              "    </tr>\n",
              "    <tr>\n",
              "        <td>1813</td>\n",
              "        <td>Helpless</td>\n",
              "        <td>Garage Inc. (Disc 2)</td>\n",
              "        <td>Metallica</td>\n",
              "        <td>Harris/Tatler</td>\n",
              "        <td>MPEG audio file</td>\n",
              "        <td>Metal</td>\n",
              "        <td>398315</td>\n",
              "    </tr>\n",
              "    <tr>\n",
              "        <td>1814</td>\n",
              "        <td>The Small Hours</td>\n",
              "        <td>Garage Inc. (Disc 2)</td>\n",
              "        <td>Metallica</td>\n",
              "        <td>Holocaust</td>\n",
              "        <td>MPEG audio file</td>\n",
              "        <td>Metal</td>\n",
              "        <td>403435</td>\n",
              "    </tr>\n",
              "    <tr>\n",
              "        <td>1815</td>\n",
              "        <td>The Wait</td>\n",
              "        <td>Garage Inc. (Disc 2)</td>\n",
              "        <td>Metallica</td>\n",
              "        <td>Killing Joke</td>\n",
              "        <td>MPEG audio file</td>\n",
              "        <td>Metal</td>\n",
              "        <td>295418</td>\n",
              "    </tr>\n",
              "    <tr>\n",
              "        <td>1816</td>\n",
              "        <td>Crash Course In Brain Surgery</td>\n",
              "        <td>Garage Inc. (Disc 2)</td>\n",
              "        <td>Metallica</td>\n",
              "        <td>Bourge/Phillips/Shelley</td>\n",
              "        <td>MPEG audio file</td>\n",
              "        <td>Metal</td>\n",
              "        <td>190406</td>\n",
              "    </tr>\n",
              "    <tr>\n",
              "        <td>1817</td>\n",
              "        <td>Last Caress/Green Hell</td>\n",
              "        <td>Garage Inc. (Disc 2)</td>\n",
              "        <td>Metallica</td>\n",
              "        <td>Danzig</td>\n",
              "        <td>MPEG audio file</td>\n",
              "        <td>Metal</td>\n",
              "        <td>209972</td>\n",
              "    </tr>\n",
              "    <tr>\n",
              "        <td>1818</td>\n",
              "        <td>Am I Evil?</td>\n",
              "        <td>Garage Inc. (Disc 2)</td>\n",
              "        <td>Metallica</td>\n",
              "        <td>Harris/Tatler</td>\n",
              "        <td>MPEG audio file</td>\n",
              "        <td>Metal</td>\n",
              "        <td>470256</td>\n",
              "    </tr>\n",
              "    <tr>\n",
              "        <td>1819</td>\n",
              "        <td>Blitzkrieg</td>\n",
              "        <td>Garage Inc. (Disc 2)</td>\n",
              "        <td>Metallica</td>\n",
              "        <td>Jones/Sirotto/Smith</td>\n",
              "        <td>MPEG audio file</td>\n",
              "        <td>Metal</td>\n",
              "        <td>216685</td>\n",
              "    </tr>\n",
              "    <tr>\n",
              "        <td>1820</td>\n",
              "        <td>Breadfan</td>\n",
              "        <td>Garage Inc. (Disc 2)</td>\n",
              "        <td>Metallica</td>\n",
              "        <td>Bourge/Phillips/Shelley</td>\n",
              "        <td>MPEG audio file</td>\n",
              "        <td>Metal</td>\n",
              "        <td>341551</td>\n",
              "    </tr>\n",
              "    <tr>\n",
              "        <td>1821</td>\n",
              "        <td>The Prince</td>\n",
              "        <td>Garage Inc. (Disc 2)</td>\n",
              "        <td>Metallica</td>\n",
              "        <td>Harris/Tatler</td>\n",
              "        <td>MPEG audio file</td>\n",
              "        <td>Metal</td>\n",
              "        <td>265769</td>\n",
              "    </tr>\n",
              "    <tr>\n",
              "        <td>1822</td>\n",
              "        <td>Stone Cold Crazy</td>\n",
              "        <td>Garage Inc. (Disc 2)</td>\n",
              "        <td>Metallica</td>\n",
              "        <td>Deacon/May/Mercury/Taylor</td>\n",
              "        <td>MPEG audio file</td>\n",
              "        <td>Metal</td>\n",
              "        <td>137717</td>\n",
              "    </tr>\n",
              "    <tr>\n",
              "        <td>1823</td>\n",
              "        <td>So What</td>\n",
              "        <td>Garage Inc. (Disc 2)</td>\n",
              "        <td>Metallica</td>\n",
              "        <td>Culmer/Exalt</td>\n",
              "        <td>MPEG audio file</td>\n",
              "        <td>Metal</td>\n",
              "        <td>189152</td>\n",
              "    </tr>\n",
              "    <tr>\n",
              "        <td>1824</td>\n",
              "        <td>Killing Time</td>\n",
              "        <td>Garage Inc. (Disc 2)</td>\n",
              "        <td>Metallica</td>\n",
              "        <td>Sweet Savage</td>\n",
              "        <td>MPEG audio file</td>\n",
              "        <td>Metal</td>\n",
              "        <td>183693</td>\n",
              "    </tr>\n",
              "    <tr>\n",
              "        <td>1825</td>\n",
              "        <td>Overkill</td>\n",
              "        <td>Garage Inc. (Disc 2)</td>\n",
              "        <td>Metallica</td>\n",
              "        <td>Clarke/Kilmister/Tayler</td>\n",
              "        <td>MPEG audio file</td>\n",
              "        <td>Metal</td>\n",
              "        <td>245133</td>\n",
              "    </tr>\n",
              "    <tr>\n",
              "        <td>1826</td>\n",
              "        <td>Damage Case</td>\n",
              "        <td>Garage Inc. (Disc 2)</td>\n",
              "        <td>Metallica</td>\n",
              "        <td>Clarke/Farren/Kilmister/Tayler</td>\n",
              "        <td>MPEG audio file</td>\n",
              "        <td>Metal</td>\n",
              "        <td>220212</td>\n",
              "    </tr>\n",
              "    <tr>\n",
              "        <td>1827</td>\n",
              "        <td>Stone Dead Forever</td>\n",
              "        <td>Garage Inc. (Disc 2)</td>\n",
              "        <td>Metallica</td>\n",
              "        <td>Clarke/Kilmister/Tayler</td>\n",
              "        <td>MPEG audio file</td>\n",
              "        <td>Metal</td>\n",
              "        <td>292127</td>\n",
              "    </tr>\n",
              "    <tr>\n",
              "        <td>1828</td>\n",
              "        <td>Too Late Too Late</td>\n",
              "        <td>Garage Inc. (Disc 2)</td>\n",
              "        <td>Metallica</td>\n",
              "        <td>Clarke/Kilmister/Tayler</td>\n",
              "        <td>MPEG audio file</td>\n",
              "        <td>Metal</td>\n",
              "        <td>192052</td>\n",
              "    </tr>\n",
              "    <tr>\n",
              "        <td>1829</td>\n",
              "        <td>Hit The Lights</td>\n",
              "        <td>Kill &#x27;Em All</td>\n",
              "        <td>Metallica</td>\n",
              "        <td>James Hetfield, Lars Ulrich</td>\n",
              "        <td>MPEG audio file</td>\n",
              "        <td>Metal</td>\n",
              "        <td>257541</td>\n",
              "    </tr>\n",
              "    <tr>\n",
              "        <td>1830</td>\n",
              "        <td>The Four Horsemen</td>\n",
              "        <td>Kill &#x27;Em All</td>\n",
              "        <td>Metallica</td>\n",
              "        <td>James Hetfield, Lars Ulrich, Dave Mustaine</td>\n",
              "        <td>MPEG audio file</td>\n",
              "        <td>Metal</td>\n",
              "        <td>433188</td>\n",
              "    </tr>\n",
              "    <tr>\n",
              "        <td>1831</td>\n",
              "        <td>Motorbreath</td>\n",
              "        <td>Kill &#x27;Em All</td>\n",
              "        <td>Metallica</td>\n",
              "        <td>James Hetfield</td>\n",
              "        <td>MPEG audio file</td>\n",
              "        <td>Metal</td>\n",
              "        <td>188395</td>\n",
              "    </tr>\n",
              "    <tr>\n",
              "        <td>1832</td>\n",
              "        <td>Jump In The Fire</td>\n",
              "        <td>Kill &#x27;Em All</td>\n",
              "        <td>Metallica</td>\n",
              "        <td>James Hetfield, Lars Ulrich, Dave Mustaine</td>\n",
              "        <td>MPEG audio file</td>\n",
              "        <td>Metal</td>\n",
              "        <td>281573</td>\n",
              "    </tr>\n",
              "    <tr>\n",
              "        <td>1833</td>\n",
              "        <td>(Anesthesia) Pulling Teeth</td>\n",
              "        <td>Kill &#x27;Em All</td>\n",
              "        <td>Metallica</td>\n",
              "        <td>Cliff Burton</td>\n",
              "        <td>MPEG audio file</td>\n",
              "        <td>Metal</td>\n",
              "        <td>254955</td>\n",
              "    </tr>\n",
              "    <tr>\n",
              "        <td>1834</td>\n",
              "        <td>Whiplash</td>\n",
              "        <td>Kill &#x27;Em All</td>\n",
              "        <td>Metallica</td>\n",
              "        <td>James Hetfield, Lars Ulrich</td>\n",
              "        <td>MPEG audio file</td>\n",
              "        <td>Metal</td>\n",
              "        <td>249208</td>\n",
              "    </tr>\n",
              "    <tr>\n",
              "        <td>1835</td>\n",
              "        <td>Phantom Lord</td>\n",
              "        <td>Kill &#x27;Em All</td>\n",
              "        <td>Metallica</td>\n",
              "        <td>James Hetfield, Lars Ulrich, Dave Mustaine</td>\n",
              "        <td>MPEG audio file</td>\n",
              "        <td>Metal</td>\n",
              "        <td>302053</td>\n",
              "    </tr>\n",
              "    <tr>\n",
              "        <td>1836</td>\n",
              "        <td>No Remorse</td>\n",
              "        <td>Kill &#x27;Em All</td>\n",
              "        <td>Metallica</td>\n",
              "        <td>James Hetfield, Lars Ulrich</td>\n",
              "        <td>MPEG audio file</td>\n",
              "        <td>Metal</td>\n",
              "        <td>386795</td>\n",
              "    </tr>\n",
              "    <tr>\n",
              "        <td>1837</td>\n",
              "        <td>Seek &amp; Destroy</td>\n",
              "        <td>Kill &#x27;Em All</td>\n",
              "        <td>Metallica</td>\n",
              "        <td>James Hetfield, Lars Ulrich</td>\n",
              "        <td>MPEG audio file</td>\n",
              "        <td>Metal</td>\n",
              "        <td>415817</td>\n",
              "    </tr>\n",
              "    <tr>\n",
              "        <td>1838</td>\n",
              "        <td>Metal Militia</td>\n",
              "        <td>Kill &#x27;Em All</td>\n",
              "        <td>Metallica</td>\n",
              "        <td>James Hetfield, Lars Ulrich, Dave Mustaine</td>\n",
              "        <td>MPEG audio file</td>\n",
              "        <td>Metal</td>\n",
              "        <td>311327</td>\n",
              "    </tr>\n",
              "    <tr>\n",
              "        <td>1839</td>\n",
              "        <td>Ain&#x27;t My Bitch</td>\n",
              "        <td>Load</td>\n",
              "        <td>Metallica</td>\n",
              "        <td>James Hetfield, Lars Ulrich</td>\n",
              "        <td>MPEG audio file</td>\n",
              "        <td>Metal</td>\n",
              "        <td>304457</td>\n",
              "    </tr>\n",
              "    <tr>\n",
              "        <td>1840</td>\n",
              "        <td>2 X 4</td>\n",
              "        <td>Load</td>\n",
              "        <td>Metallica</td>\n",
              "        <td>James Hetfield, Lars Ulrich, Kirk Hammett</td>\n",
              "        <td>MPEG audio file</td>\n",
              "        <td>Metal</td>\n",
              "        <td>328254</td>\n",
              "    </tr>\n",
              "    <tr>\n",
              "        <td>1841</td>\n",
              "        <td>The House Jack Built</td>\n",
              "        <td>Load</td>\n",
              "        <td>Metallica</td>\n",
              "        <td>James Hetfield, Lars Ulrich, Kirk Hammett</td>\n",
              "        <td>MPEG audio file</td>\n",
              "        <td>Metal</td>\n",
              "        <td>398942</td>\n",
              "    </tr>\n",
              "    <tr>\n",
              "        <td>1842</td>\n",
              "        <td>Until It Sleeps</td>\n",
              "        <td>Load</td>\n",
              "        <td>Metallica</td>\n",
              "        <td>James Hetfield, Lars Ulrich</td>\n",
              "        <td>MPEG audio file</td>\n",
              "        <td>Metal</td>\n",
              "        <td>269740</td>\n",
              "    </tr>\n",
              "    <tr>\n",
              "        <td>1843</td>\n",
              "        <td>King Nothing</td>\n",
              "        <td>Load</td>\n",
              "        <td>Metallica</td>\n",
              "        <td>James Hetfield, Lars Ulrich, Kirk Hammett</td>\n",
              "        <td>MPEG audio file</td>\n",
              "        <td>Metal</td>\n",
              "        <td>328097</td>\n",
              "    </tr>\n",
              "    <tr>\n",
              "        <td>1844</td>\n",
              "        <td>Hero Of The Day</td>\n",
              "        <td>Load</td>\n",
              "        <td>Metallica</td>\n",
              "        <td>James Hetfield, Lars Ulrich, Kirk Hammett</td>\n",
              "        <td>MPEG audio file</td>\n",
              "        <td>Metal</td>\n",
              "        <td>261982</td>\n",
              "    </tr>\n",
              "    <tr>\n",
              "        <td>1845</td>\n",
              "        <td>Bleeding Me</td>\n",
              "        <td>Load</td>\n",
              "        <td>Metallica</td>\n",
              "        <td>James Hetfield, Lars Ulrich, Kirk Hammett</td>\n",
              "        <td>MPEG audio file</td>\n",
              "        <td>Metal</td>\n",
              "        <td>497998</td>\n",
              "    </tr>\n",
              "    <tr>\n",
              "        <td>1846</td>\n",
              "        <td>Cure</td>\n",
              "        <td>Load</td>\n",
              "        <td>Metallica</td>\n",
              "        <td>James Hetfield, Lars Ulrich</td>\n",
              "        <td>MPEG audio file</td>\n",
              "        <td>Metal</td>\n",
              "        <td>294347</td>\n",
              "    </tr>\n",
              "    <tr>\n",
              "        <td>1847</td>\n",
              "        <td>Poor Twisted Me</td>\n",
              "        <td>Load</td>\n",
              "        <td>Metallica</td>\n",
              "        <td>James Hetfield, Lars Ulrich</td>\n",
              "        <td>MPEG audio file</td>\n",
              "        <td>Metal</td>\n",
              "        <td>240065</td>\n",
              "    </tr>\n",
              "    <tr>\n",
              "        <td>1848</td>\n",
              "        <td>Wasted My Hate</td>\n",
              "        <td>Load</td>\n",
              "        <td>Metallica</td>\n",
              "        <td>James Hetfield, Lars Ulrich, Kirk Hammett</td>\n",
              "        <td>MPEG audio file</td>\n",
              "        <td>Metal</td>\n",
              "        <td>237296</td>\n",
              "    </tr>\n",
              "    <tr>\n",
              "        <td>1849</td>\n",
              "        <td>Mama Said</td>\n",
              "        <td>Load</td>\n",
              "        <td>Metallica</td>\n",
              "        <td>James Hetfield, Lars Ulrich</td>\n",
              "        <td>MPEG audio file</td>\n",
              "        <td>Metal</td>\n",
              "        <td>319764</td>\n",
              "    </tr>\n",
              "    <tr>\n",
              "        <td>1850</td>\n",
              "        <td>Thorn Within</td>\n",
              "        <td>Load</td>\n",
              "        <td>Metallica</td>\n",
              "        <td>James Hetfield, Lars Ulrich, Kirk Hammett</td>\n",
              "        <td>MPEG audio file</td>\n",
              "        <td>Metal</td>\n",
              "        <td>351738</td>\n",
              "    </tr>\n",
              "    <tr>\n",
              "        <td>1851</td>\n",
              "        <td>Ronnie</td>\n",
              "        <td>Load</td>\n",
              "        <td>Metallica</td>\n",
              "        <td>James Hetfield, Lars Ulrich</td>\n",
              "        <td>MPEG audio file</td>\n",
              "        <td>Metal</td>\n",
              "        <td>317204</td>\n",
              "    </tr>\n",
              "    <tr>\n",
              "        <td>1852</td>\n",
              "        <td>The Outlaw Torn</td>\n",
              "        <td>Load</td>\n",
              "        <td>Metallica</td>\n",
              "        <td>James Hetfield, Lars Ulrich</td>\n",
              "        <td>MPEG audio file</td>\n",
              "        <td>Metal</td>\n",
              "        <td>588721</td>\n",
              "    </tr>\n",
              "    <tr>\n",
              "        <td>1853</td>\n",
              "        <td>Battery</td>\n",
              "        <td>Master Of Puppets</td>\n",
              "        <td>Metallica</td>\n",
              "        <td>J.Hetfield/L.Ulrich</td>\n",
              "        <td>MPEG audio file</td>\n",
              "        <td>Metal</td>\n",
              "        <td>312424</td>\n",
              "    </tr>\n",
              "    <tr>\n",
              "        <td>1854</td>\n",
              "        <td>Master Of Puppets</td>\n",
              "        <td>Master Of Puppets</td>\n",
              "        <td>Metallica</td>\n",
              "        <td>K.Hammett</td>\n",
              "        <td>MPEG audio file</td>\n",
              "        <td>Metal</td>\n",
              "        <td>515239</td>\n",
              "    </tr>\n",
              "    <tr>\n",
              "        <td>1855</td>\n",
              "        <td>The Thing That Should Not Be</td>\n",
              "        <td>Master Of Puppets</td>\n",
              "        <td>Metallica</td>\n",
              "        <td>K.Hammett</td>\n",
              "        <td>MPEG audio file</td>\n",
              "        <td>Metal</td>\n",
              "        <td>396199</td>\n",
              "    </tr>\n",
              "    <tr>\n",
              "        <td>1856</td>\n",
              "        <td>Welcome Home (Sanitarium)</td>\n",
              "        <td>Master Of Puppets</td>\n",
              "        <td>Metallica</td>\n",
              "        <td>K.Hammett</td>\n",
              "        <td>MPEG audio file</td>\n",
              "        <td>Metal</td>\n",
              "        <td>387186</td>\n",
              "    </tr>\n",
              "    <tr>\n",
              "        <td>1857</td>\n",
              "        <td>Disposable Heroes</td>\n",
              "        <td>Master Of Puppets</td>\n",
              "        <td>Metallica</td>\n",
              "        <td>J.Hetfield/L.Ulrich</td>\n",
              "        <td>MPEG audio file</td>\n",
              "        <td>Metal</td>\n",
              "        <td>496718</td>\n",
              "    </tr>\n",
              "    <tr>\n",
              "        <td>1858</td>\n",
              "        <td>Leper Messiah</td>\n",
              "        <td>Master Of Puppets</td>\n",
              "        <td>Metallica</td>\n",
              "        <td>C.Burton</td>\n",
              "        <td>MPEG audio file</td>\n",
              "        <td>Metal</td>\n",
              "        <td>347428</td>\n",
              "    </tr>\n",
              "    <tr>\n",
              "        <td>1859</td>\n",
              "        <td>Orion</td>\n",
              "        <td>Master Of Puppets</td>\n",
              "        <td>Metallica</td>\n",
              "        <td>K.Hammett</td>\n",
              "        <td>MPEG audio file</td>\n",
              "        <td>Metal</td>\n",
              "        <td>500062</td>\n",
              "    </tr>\n",
              "    <tr>\n",
              "        <td>1860</td>\n",
              "        <td>Damage Inc.</td>\n",
              "        <td>Master Of Puppets</td>\n",
              "        <td>Metallica</td>\n",
              "        <td>K.Hammett</td>\n",
              "        <td>MPEG audio file</td>\n",
              "        <td>Metal</td>\n",
              "        <td>330919</td>\n",
              "    </tr>\n",
              "    <tr>\n",
              "        <td>1861</td>\n",
              "        <td>Fuel</td>\n",
              "        <td>ReLoad</td>\n",
              "        <td>Metallica</td>\n",
              "        <td>Hetfield, Ulrich, Hammett</td>\n",
              "        <td>MPEG audio file</td>\n",
              "        <td>Metal</td>\n",
              "        <td>269557</td>\n",
              "    </tr>\n",
              "    <tr>\n",
              "        <td>1862</td>\n",
              "        <td>The Memory Remains</td>\n",
              "        <td>ReLoad</td>\n",
              "        <td>Metallica</td>\n",
              "        <td>Hetfield, Ulrich</td>\n",
              "        <td>MPEG audio file</td>\n",
              "        <td>Metal</td>\n",
              "        <td>279353</td>\n",
              "    </tr>\n",
              "    <tr>\n",
              "        <td>1863</td>\n",
              "        <td>Devil&#x27;s Dance</td>\n",
              "        <td>ReLoad</td>\n",
              "        <td>Metallica</td>\n",
              "        <td>Hetfield, Ulrich</td>\n",
              "        <td>MPEG audio file</td>\n",
              "        <td>Metal</td>\n",
              "        <td>318955</td>\n",
              "    </tr>\n",
              "    <tr>\n",
              "        <td>1864</td>\n",
              "        <td>The Unforgiven II</td>\n",
              "        <td>ReLoad</td>\n",
              "        <td>Metallica</td>\n",
              "        <td>Hetfield, Ulrich, Hammett</td>\n",
              "        <td>MPEG audio file</td>\n",
              "        <td>Metal</td>\n",
              "        <td>395520</td>\n",
              "    </tr>\n",
              "    <tr>\n",
              "        <td>1865</td>\n",
              "        <td>Better Than You</td>\n",
              "        <td>ReLoad</td>\n",
              "        <td>Metallica</td>\n",
              "        <td>Hetfield, Ulrich</td>\n",
              "        <td>MPEG audio file</td>\n",
              "        <td>Metal</td>\n",
              "        <td>322899</td>\n",
              "    </tr>\n",
              "    <tr>\n",
              "        <td>1866</td>\n",
              "        <td>Slither</td>\n",
              "        <td>ReLoad</td>\n",
              "        <td>Metallica</td>\n",
              "        <td>Hetfield, Ulrich, Hammett</td>\n",
              "        <td>MPEG audio file</td>\n",
              "        <td>Metal</td>\n",
              "        <td>313103</td>\n",
              "    </tr>\n",
              "    <tr>\n",
              "        <td>1867</td>\n",
              "        <td>Carpe Diem Baby</td>\n",
              "        <td>ReLoad</td>\n",
              "        <td>Metallica</td>\n",
              "        <td>Hetfield, Ulrich, Hammett</td>\n",
              "        <td>MPEG audio file</td>\n",
              "        <td>Metal</td>\n",
              "        <td>372480</td>\n",
              "    </tr>\n",
              "    <tr>\n",
              "        <td>1868</td>\n",
              "        <td>Bad Seed</td>\n",
              "        <td>ReLoad</td>\n",
              "        <td>Metallica</td>\n",
              "        <td>Hetfield, Ulrich, Hammett</td>\n",
              "        <td>MPEG audio file</td>\n",
              "        <td>Metal</td>\n",
              "        <td>245394</td>\n",
              "    </tr>\n",
              "    <tr>\n",
              "        <td>1869</td>\n",
              "        <td>Where The Wild Things Are</td>\n",
              "        <td>ReLoad</td>\n",
              "        <td>Metallica</td>\n",
              "        <td>Hetfield, Ulrich, Newsted</td>\n",
              "        <td>MPEG audio file</td>\n",
              "        <td>Metal</td>\n",
              "        <td>414380</td>\n",
              "    </tr>\n",
              "    <tr>\n",
              "        <td>1870</td>\n",
              "        <td>Prince Charming</td>\n",
              "        <td>ReLoad</td>\n",
              "        <td>Metallica</td>\n",
              "        <td>Hetfield, Ulrich</td>\n",
              "        <td>MPEG audio file</td>\n",
              "        <td>Metal</td>\n",
              "        <td>365061</td>\n",
              "    </tr>\n",
              "    <tr>\n",
              "        <td>1871</td>\n",
              "        <td>Low Man&#x27;s Lyric</td>\n",
              "        <td>ReLoad</td>\n",
              "        <td>Metallica</td>\n",
              "        <td>Hetfield, Ulrich</td>\n",
              "        <td>MPEG audio file</td>\n",
              "        <td>Metal</td>\n",
              "        <td>457639</td>\n",
              "    </tr>\n",
              "    <tr>\n",
              "        <td>1872</td>\n",
              "        <td>Attitude</td>\n",
              "        <td>ReLoad</td>\n",
              "        <td>Metallica</td>\n",
              "        <td>Hetfield, Ulrich</td>\n",
              "        <td>MPEG audio file</td>\n",
              "        <td>Metal</td>\n",
              "        <td>315898</td>\n",
              "    </tr>\n",
              "    <tr>\n",
              "        <td>1873</td>\n",
              "        <td>Fixxxer</td>\n",
              "        <td>ReLoad</td>\n",
              "        <td>Metallica</td>\n",
              "        <td>Hetfield, Ulrich, Hammett</td>\n",
              "        <td>MPEG audio file</td>\n",
              "        <td>Metal</td>\n",
              "        <td>496065</td>\n",
              "    </tr>\n",
              "    <tr>\n",
              "        <td>1874</td>\n",
              "        <td>Fight Fire With Fire</td>\n",
              "        <td>Ride The Lightning</td>\n",
              "        <td>Metallica</td>\n",
              "        <td>Metallica</td>\n",
              "        <td>MPEG audio file</td>\n",
              "        <td>Metal</td>\n",
              "        <td>285753</td>\n",
              "    </tr>\n",
              "    <tr>\n",
              "        <td>1875</td>\n",
              "        <td>Ride The Lightning</td>\n",
              "        <td>Ride The Lightning</td>\n",
              "        <td>Metallica</td>\n",
              "        <td>Metallica</td>\n",
              "        <td>MPEG audio file</td>\n",
              "        <td>Metal</td>\n",
              "        <td>397740</td>\n",
              "    </tr>\n",
              "    <tr>\n",
              "        <td>1876</td>\n",
              "        <td>For Whom The Bell Tolls</td>\n",
              "        <td>Ride The Lightning</td>\n",
              "        <td>Metallica</td>\n",
              "        <td>Metallica</td>\n",
              "        <td>MPEG audio file</td>\n",
              "        <td>Metal</td>\n",
              "        <td>311719</td>\n",
              "    </tr>\n",
              "    <tr>\n",
              "        <td>1877</td>\n",
              "        <td>Fade To Black</td>\n",
              "        <td>Ride The Lightning</td>\n",
              "        <td>Metallica</td>\n",
              "        <td>Metallica</td>\n",
              "        <td>MPEG audio file</td>\n",
              "        <td>Metal</td>\n",
              "        <td>414824</td>\n",
              "    </tr>\n",
              "    <tr>\n",
              "        <td>1878</td>\n",
              "        <td>Trapped Under Ice</td>\n",
              "        <td>Ride The Lightning</td>\n",
              "        <td>Metallica</td>\n",
              "        <td>Metallica</td>\n",
              "        <td>MPEG audio file</td>\n",
              "        <td>Metal</td>\n",
              "        <td>244532</td>\n",
              "    </tr>\n",
              "    <tr>\n",
              "        <td>1879</td>\n",
              "        <td>Escape</td>\n",
              "        <td>Ride The Lightning</td>\n",
              "        <td>Metallica</td>\n",
              "        <td>Metallica</td>\n",
              "        <td>MPEG audio file</td>\n",
              "        <td>Metal</td>\n",
              "        <td>264359</td>\n",
              "    </tr>\n",
              "    <tr>\n",
              "        <td>1880</td>\n",
              "        <td>Creeping Death</td>\n",
              "        <td>Ride The Lightning</td>\n",
              "        <td>Metallica</td>\n",
              "        <td>Metallica</td>\n",
              "        <td>MPEG audio file</td>\n",
              "        <td>Metal</td>\n",
              "        <td>396878</td>\n",
              "    </tr>\n",
              "    <tr>\n",
              "        <td>1881</td>\n",
              "        <td>The Call Of Ktulu</td>\n",
              "        <td>Ride The Lightning</td>\n",
              "        <td>Metallica</td>\n",
              "        <td>Metallica</td>\n",
              "        <td>MPEG audio file</td>\n",
              "        <td>Metal</td>\n",
              "        <td>534883</td>\n",
              "    </tr>\n",
              "    <tr>\n",
              "        <td>1882</td>\n",
              "        <td>Frantic</td>\n",
              "        <td>St. Anger</td>\n",
              "        <td>Metallica</td>\n",
              "        <td>Bob Rock/James Hetfield/Kirk Hammett/Lars Ulrich</td>\n",
              "        <td>MPEG audio file</td>\n",
              "        <td>Metal</td>\n",
              "        <td>350458</td>\n",
              "    </tr>\n",
              "    <tr>\n",
              "        <td>1883</td>\n",
              "        <td>St. Anger</td>\n",
              "        <td>St. Anger</td>\n",
              "        <td>Metallica</td>\n",
              "        <td>Bob Rock/James Hetfield/Kirk Hammett/Lars Ulrich</td>\n",
              "        <td>MPEG audio file</td>\n",
              "        <td>Metal</td>\n",
              "        <td>441234</td>\n",
              "    </tr>\n",
              "    <tr>\n",
              "        <td>1884</td>\n",
              "        <td>Some Kind Of Monster</td>\n",
              "        <td>St. Anger</td>\n",
              "        <td>Metallica</td>\n",
              "        <td>Bob Rock/James Hetfield/Kirk Hammett/Lars Ulrich</td>\n",
              "        <td>MPEG audio file</td>\n",
              "        <td>Metal</td>\n",
              "        <td>505626</td>\n",
              "    </tr>\n",
              "    <tr>\n",
              "        <td>1885</td>\n",
              "        <td>Dirty Window</td>\n",
              "        <td>St. Anger</td>\n",
              "        <td>Metallica</td>\n",
              "        <td>Bob Rock/James Hetfield/Kirk Hammett/Lars Ulrich</td>\n",
              "        <td>MPEG audio file</td>\n",
              "        <td>Metal</td>\n",
              "        <td>324989</td>\n",
              "    </tr>\n",
              "    <tr>\n",
              "        <td>1886</td>\n",
              "        <td>Invisible Kid</td>\n",
              "        <td>St. Anger</td>\n",
              "        <td>Metallica</td>\n",
              "        <td>Bob Rock/James Hetfield/Kirk Hammett/Lars Ulrich</td>\n",
              "        <td>MPEG audio file</td>\n",
              "        <td>Metal</td>\n",
              "        <td>510197</td>\n",
              "    </tr>\n",
              "    <tr>\n",
              "        <td>1887</td>\n",
              "        <td>My World</td>\n",
              "        <td>St. Anger</td>\n",
              "        <td>Metallica</td>\n",
              "        <td>Bob Rock/James Hetfield/Kirk Hammett/Lars Ulrich</td>\n",
              "        <td>MPEG audio file</td>\n",
              "        <td>Metal</td>\n",
              "        <td>345626</td>\n",
              "    </tr>\n",
              "    <tr>\n",
              "        <td>1888</td>\n",
              "        <td>Shoot Me Again</td>\n",
              "        <td>St. Anger</td>\n",
              "        <td>Metallica</td>\n",
              "        <td>Bob Rock/James Hetfield/Kirk Hammett/Lars Ulrich</td>\n",
              "        <td>MPEG audio file</td>\n",
              "        <td>Metal</td>\n",
              "        <td>430210</td>\n",
              "    </tr>\n",
              "    <tr>\n",
              "        <td>1889</td>\n",
              "        <td>Sweet Amber</td>\n",
              "        <td>St. Anger</td>\n",
              "        <td>Metallica</td>\n",
              "        <td>Bob Rock/James Hetfield/Kirk Hammett/Lars Ulrich</td>\n",
              "        <td>MPEG audio file</td>\n",
              "        <td>Metal</td>\n",
              "        <td>327235</td>\n",
              "    </tr>\n",
              "    <tr>\n",
              "        <td>1890</td>\n",
              "        <td>The Unnamed Feeling</td>\n",
              "        <td>St. Anger</td>\n",
              "        <td>Metallica</td>\n",
              "        <td>Bob Rock/James Hetfield/Kirk Hammett/Lars Ulrich</td>\n",
              "        <td>MPEG audio file</td>\n",
              "        <td>Metal</td>\n",
              "        <td>429479</td>\n",
              "    </tr>\n",
              "    <tr>\n",
              "        <td>1891</td>\n",
              "        <td>Purify</td>\n",
              "        <td>St. Anger</td>\n",
              "        <td>Metallica</td>\n",
              "        <td>Bob Rock/James Hetfield/Kirk Hammett/Lars Ulrich</td>\n",
              "        <td>MPEG audio file</td>\n",
              "        <td>Metal</td>\n",
              "        <td>314017</td>\n",
              "    </tr>\n",
              "    <tr>\n",
              "        <td>1892</td>\n",
              "        <td>All Within My Hands</td>\n",
              "        <td>St. Anger</td>\n",
              "        <td>Metallica</td>\n",
              "        <td>Bob Rock/James Hetfield/Kirk Hammett/Lars Ulrich</td>\n",
              "        <td>MPEG audio file</td>\n",
              "        <td>Metal</td>\n",
              "        <td>527986</td>\n",
              "    </tr>\n",
              "</table>"
            ],
            "text/plain": [
              "[(1893, 'Blackened', '...And Justice For All', 'Metallica', 'James Hetfield, Lars Ulrich & Jason Newsted', 'MPEG audio file', 'Metal', 403382),\n",
              " (1894, '...And Justice For All', '...And Justice For All', 'Metallica', 'James Hetfield, Lars Ulrich & Kirk Hammett', 'MPEG audio file', 'Metal', 585769),\n",
              " (1895, 'Eye Of The Beholder', '...And Justice For All', 'Metallica', 'James Hetfield, Lars Ulrich & Kirk Hammett', 'MPEG audio file', 'Metal', 385828),\n",
              " (1896, 'One', '...And Justice For All', 'Metallica', 'James Hetfield & Lars Ulrich', 'MPEG audio file', 'Metal', 446484),\n",
              " (1897, 'The Shortest Straw', '...And Justice For All', 'Metallica', 'James Hetfield and Lars Ulrich', 'MPEG audio file', 'Metal', 395389),\n",
              " (1898, 'Harvester Of Sorrow', '...And Justice For All', 'Metallica', 'James Hetfield and Lars Ulrich', 'MPEG audio file', 'Metal', 345547),\n",
              " (1899, 'The Frayed Ends Of Sanity', '...And Justice For All', 'Metallica', 'James Hetfield, Lars Ulrich and Kirk Hammett', 'MPEG audio file', 'Metal', 464039),\n",
              " (1900, 'To Live Is To Die', '...And Justice For All', 'Metallica', 'James Hetfield, Lars Ulrich and Cliff Burton', 'MPEG audio file', 'Metal', 588564),\n",
              " (1901, 'Dyers Eve', '...And Justice For All', 'Metallica', 'James Hetfield, Lars Ulrich and Kirk Hammett', 'MPEG audio file', 'Metal', 313991),\n",
              " (1801, 'Enter Sandman', 'Black Album', 'Metallica', 'James Hetfield, Lars Ulrich and Kirk Hammett', 'MPEG audio file', 'Metal', 332251),\n",
              " (1802, 'Sad But True', 'Black Album', 'Metallica', 'Ulrich', 'MPEG audio file', 'Metal', 324754),\n",
              " (1803, 'Holier Than Thou', 'Black Album', 'Metallica', 'Ulrich', 'MPEG audio file', 'Metal', 227892),\n",
              " (1804, 'The Unforgiven', 'Black Album', 'Metallica', 'James Hetfield, Lars Ulrich and Kirk Hammett', 'MPEG audio file', 'Metal', 387082),\n",
              " (1805, 'Wherever I May Roam', 'Black Album', 'Metallica', 'Ulrich', 'MPEG audio file', 'Metal', 404323),\n",
              " (1806, \"Don't Tread On Me\", 'Black Album', 'Metallica', 'Ulrich', 'MPEG audio file', 'Metal', 240483),\n",
              " (1807, 'Through The Never', 'Black Album', 'Metallica', 'James Hetfield, Lars Ulrich and Kirk Hammett', 'MPEG audio file', 'Metal', 244375),\n",
              " (1808, 'Nothing Else Matters', 'Black Album', 'Metallica', 'Ulrich', 'MPEG audio file', 'Metal', 388832),\n",
              " (1809, 'Of Wolf And Man', 'Black Album', 'Metallica', 'James Hetfield, Lars Ulrich and Kirk Hammett', 'MPEG audio file', 'Metal', 256835),\n",
              " (1810, 'The God That Failed', 'Black Album', 'Metallica', 'Ulrich', 'MPEG audio file', 'Metal', 308610),\n",
              " (1811, 'My Friend Of Misery', 'Black Album', 'Metallica', 'James Hetfield, Lars Ulrich and Jason Newsted', 'MPEG audio file', 'Metal', 409547),\n",
              " (1812, 'The Struggle Within', 'Black Album', 'Metallica', 'Ulrich', 'MPEG audio file', 'Metal', 234240),\n",
              " (408, 'Free Speech For The Dumb', 'Garage Inc. (Disc 1)', 'Metallica', 'Molaney/Morris/Roberts/Wainwright', 'MPEG audio file', 'Metal', 155428),\n",
              " (409, \"It's Electric\", 'Garage Inc. (Disc 1)', 'Metallica', 'Harris/Tatler', 'MPEG audio file', 'Metal', 213995),\n",
              " (410, 'Sabbra Cadabra', 'Garage Inc. (Disc 1)', 'Metallica', 'Black Sabbath', 'MPEG audio file', 'Metal', 380342),\n",
              " (411, 'Turn The Page', 'Garage Inc. (Disc 1)', 'Metallica', 'Seger', 'MPEG audio file', 'Metal', 366524),\n",
              " (412, 'Die Die My Darling', 'Garage Inc. (Disc 1)', 'Metallica', 'Danzig', 'MPEG audio file', 'Metal', 149315),\n",
              " (413, 'Loverman', 'Garage Inc. (Disc 1)', 'Metallica', 'Cave', 'MPEG audio file', 'Metal', 472764),\n",
              " (414, 'Mercyful Fate', 'Garage Inc. (Disc 1)', 'Metallica', 'Diamond/Shermann', 'MPEG audio file', 'Metal', 671712),\n",
              " (415, 'Astronomy', 'Garage Inc. (Disc 1)', 'Metallica', 'A.Bouchard/J.Bouchard/S.Pearlman', 'MPEG audio file', 'Metal', 397531),\n",
              " (416, 'Whiskey In The Jar', 'Garage Inc. (Disc 1)', 'Metallica', 'Traditional', 'MPEG audio file', 'Metal', 305005),\n",
              " (417, \"Tuesday's Gone\", 'Garage Inc. (Disc 1)', 'Metallica', 'Collins/Van Zandt', 'MPEG audio file', 'Metal', 545750),\n",
              " (418, 'The More I See', 'Garage Inc. (Disc 1)', 'Metallica', 'Molaney/Morris/Roberts/Wainwright', 'MPEG audio file', 'Metal', 287973),\n",
              " (1813, 'Helpless', 'Garage Inc. (Disc 2)', 'Metallica', 'Harris/Tatler', 'MPEG audio file', 'Metal', 398315),\n",
              " (1814, 'The Small Hours', 'Garage Inc. (Disc 2)', 'Metallica', 'Holocaust', 'MPEG audio file', 'Metal', 403435),\n",
              " (1815, 'The Wait', 'Garage Inc. (Disc 2)', 'Metallica', 'Killing Joke', 'MPEG audio file', 'Metal', 295418),\n",
              " (1816, 'Crash Course In Brain Surgery', 'Garage Inc. (Disc 2)', 'Metallica', 'Bourge/Phillips/Shelley', 'MPEG audio file', 'Metal', 190406),\n",
              " (1817, 'Last Caress/Green Hell', 'Garage Inc. (Disc 2)', 'Metallica', 'Danzig', 'MPEG audio file', 'Metal', 209972),\n",
              " (1818, 'Am I Evil?', 'Garage Inc. (Disc 2)', 'Metallica', 'Harris/Tatler', 'MPEG audio file', 'Metal', 470256),\n",
              " (1819, 'Blitzkrieg', 'Garage Inc. (Disc 2)', 'Metallica', 'Jones/Sirotto/Smith', 'MPEG audio file', 'Metal', 216685),\n",
              " (1820, 'Breadfan', 'Garage Inc. (Disc 2)', 'Metallica', 'Bourge/Phillips/Shelley', 'MPEG audio file', 'Metal', 341551),\n",
              " (1821, 'The Prince', 'Garage Inc. (Disc 2)', 'Metallica', 'Harris/Tatler', 'MPEG audio file', 'Metal', 265769),\n",
              " (1822, 'Stone Cold Crazy', 'Garage Inc. (Disc 2)', 'Metallica', 'Deacon/May/Mercury/Taylor', 'MPEG audio file', 'Metal', 137717),\n",
              " (1823, 'So What', 'Garage Inc. (Disc 2)', 'Metallica', 'Culmer/Exalt', 'MPEG audio file', 'Metal', 189152),\n",
              " (1824, 'Killing Time', 'Garage Inc. (Disc 2)', 'Metallica', 'Sweet Savage', 'MPEG audio file', 'Metal', 183693),\n",
              " (1825, 'Overkill', 'Garage Inc. (Disc 2)', 'Metallica', 'Clarke/Kilmister/Tayler', 'MPEG audio file', 'Metal', 245133),\n",
              " (1826, 'Damage Case', 'Garage Inc. (Disc 2)', 'Metallica', 'Clarke/Farren/Kilmister/Tayler', 'MPEG audio file', 'Metal', 220212),\n",
              " (1827, 'Stone Dead Forever', 'Garage Inc. (Disc 2)', 'Metallica', 'Clarke/Kilmister/Tayler', 'MPEG audio file', 'Metal', 292127),\n",
              " (1828, 'Too Late Too Late', 'Garage Inc. (Disc 2)', 'Metallica', 'Clarke/Kilmister/Tayler', 'MPEG audio file', 'Metal', 192052),\n",
              " (1829, 'Hit The Lights', \"Kill 'Em All\", 'Metallica', 'James Hetfield, Lars Ulrich', 'MPEG audio file', 'Metal', 257541),\n",
              " (1830, 'The Four Horsemen', \"Kill 'Em All\", 'Metallica', 'James Hetfield, Lars Ulrich, Dave Mustaine', 'MPEG audio file', 'Metal', 433188),\n",
              " (1831, 'Motorbreath', \"Kill 'Em All\", 'Metallica', 'James Hetfield', 'MPEG audio file', 'Metal', 188395),\n",
              " (1832, 'Jump In The Fire', \"Kill 'Em All\", 'Metallica', 'James Hetfield, Lars Ulrich, Dave Mustaine', 'MPEG audio file', 'Metal', 281573),\n",
              " (1833, '(Anesthesia) Pulling Teeth', \"Kill 'Em All\", 'Metallica', 'Cliff Burton', 'MPEG audio file', 'Metal', 254955),\n",
              " (1834, 'Whiplash', \"Kill 'Em All\", 'Metallica', 'James Hetfield, Lars Ulrich', 'MPEG audio file', 'Metal', 249208),\n",
              " (1835, 'Phantom Lord', \"Kill 'Em All\", 'Metallica', 'James Hetfield, Lars Ulrich, Dave Mustaine', 'MPEG audio file', 'Metal', 302053),\n",
              " (1836, 'No Remorse', \"Kill 'Em All\", 'Metallica', 'James Hetfield, Lars Ulrich', 'MPEG audio file', 'Metal', 386795),\n",
              " (1837, 'Seek & Destroy', \"Kill 'Em All\", 'Metallica', 'James Hetfield, Lars Ulrich', 'MPEG audio file', 'Metal', 415817),\n",
              " (1838, 'Metal Militia', \"Kill 'Em All\", 'Metallica', 'James Hetfield, Lars Ulrich, Dave Mustaine', 'MPEG audio file', 'Metal', 311327),\n",
              " (1839, \"Ain't My Bitch\", 'Load', 'Metallica', 'James Hetfield, Lars Ulrich', 'MPEG audio file', 'Metal', 304457),\n",
              " (1840, '2 X 4', 'Load', 'Metallica', 'James Hetfield, Lars Ulrich, Kirk Hammett', 'MPEG audio file', 'Metal', 328254),\n",
              " (1841, 'The House Jack Built', 'Load', 'Metallica', 'James Hetfield, Lars Ulrich, Kirk Hammett', 'MPEG audio file', 'Metal', 398942),\n",
              " (1842, 'Until It Sleeps', 'Load', 'Metallica', 'James Hetfield, Lars Ulrich', 'MPEG audio file', 'Metal', 269740),\n",
              " (1843, 'King Nothing', 'Load', 'Metallica', 'James Hetfield, Lars Ulrich, Kirk Hammett', 'MPEG audio file', 'Metal', 328097),\n",
              " (1844, 'Hero Of The Day', 'Load', 'Metallica', 'James Hetfield, Lars Ulrich, Kirk Hammett', 'MPEG audio file', 'Metal', 261982),\n",
              " (1845, 'Bleeding Me', 'Load', 'Metallica', 'James Hetfield, Lars Ulrich, Kirk Hammett', 'MPEG audio file', 'Metal', 497998),\n",
              " (1846, 'Cure', 'Load', 'Metallica', 'James Hetfield, Lars Ulrich', 'MPEG audio file', 'Metal', 294347),\n",
              " (1847, 'Poor Twisted Me', 'Load', 'Metallica', 'James Hetfield, Lars Ulrich', 'MPEG audio file', 'Metal', 240065),\n",
              " (1848, 'Wasted My Hate', 'Load', 'Metallica', 'James Hetfield, Lars Ulrich, Kirk Hammett', 'MPEG audio file', 'Metal', 237296),\n",
              " (1849, 'Mama Said', 'Load', 'Metallica', 'James Hetfield, Lars Ulrich', 'MPEG audio file', 'Metal', 319764),\n",
              " (1850, 'Thorn Within', 'Load', 'Metallica', 'James Hetfield, Lars Ulrich, Kirk Hammett', 'MPEG audio file', 'Metal', 351738),\n",
              " (1851, 'Ronnie', 'Load', 'Metallica', 'James Hetfield, Lars Ulrich', 'MPEG audio file', 'Metal', 317204),\n",
              " (1852, 'The Outlaw Torn', 'Load', 'Metallica', 'James Hetfield, Lars Ulrich', 'MPEG audio file', 'Metal', 588721),\n",
              " (1853, 'Battery', 'Master Of Puppets', 'Metallica', 'J.Hetfield/L.Ulrich', 'MPEG audio file', 'Metal', 312424),\n",
              " (1854, 'Master Of Puppets', 'Master Of Puppets', 'Metallica', 'K.Hammett', 'MPEG audio file', 'Metal', 515239),\n",
              " (1855, 'The Thing That Should Not Be', 'Master Of Puppets', 'Metallica', 'K.Hammett', 'MPEG audio file', 'Metal', 396199),\n",
              " (1856, 'Welcome Home (Sanitarium)', 'Master Of Puppets', 'Metallica', 'K.Hammett', 'MPEG audio file', 'Metal', 387186),\n",
              " (1857, 'Disposable Heroes', 'Master Of Puppets', 'Metallica', 'J.Hetfield/L.Ulrich', 'MPEG audio file', 'Metal', 496718),\n",
              " (1858, 'Leper Messiah', 'Master Of Puppets', 'Metallica', 'C.Burton', 'MPEG audio file', 'Metal', 347428),\n",
              " (1859, 'Orion', 'Master Of Puppets', 'Metallica', 'K.Hammett', 'MPEG audio file', 'Metal', 500062),\n",
              " (1860, 'Damage Inc.', 'Master Of Puppets', 'Metallica', 'K.Hammett', 'MPEG audio file', 'Metal', 330919),\n",
              " (1861, 'Fuel', 'ReLoad', 'Metallica', 'Hetfield, Ulrich, Hammett', 'MPEG audio file', 'Metal', 269557),\n",
              " (1862, 'The Memory Remains', 'ReLoad', 'Metallica', 'Hetfield, Ulrich', 'MPEG audio file', 'Metal', 279353),\n",
              " (1863, \"Devil's Dance\", 'ReLoad', 'Metallica', 'Hetfield, Ulrich', 'MPEG audio file', 'Metal', 318955),\n",
              " (1864, 'The Unforgiven II', 'ReLoad', 'Metallica', 'Hetfield, Ulrich, Hammett', 'MPEG audio file', 'Metal', 395520),\n",
              " (1865, 'Better Than You', 'ReLoad', 'Metallica', 'Hetfield, Ulrich', 'MPEG audio file', 'Metal', 322899),\n",
              " (1866, 'Slither', 'ReLoad', 'Metallica', 'Hetfield, Ulrich, Hammett', 'MPEG audio file', 'Metal', 313103),\n",
              " (1867, 'Carpe Diem Baby', 'ReLoad', 'Metallica', 'Hetfield, Ulrich, Hammett', 'MPEG audio file', 'Metal', 372480),\n",
              " (1868, 'Bad Seed', 'ReLoad', 'Metallica', 'Hetfield, Ulrich, Hammett', 'MPEG audio file', 'Metal', 245394),\n",
              " (1869, 'Where The Wild Things Are', 'ReLoad', 'Metallica', 'Hetfield, Ulrich, Newsted', 'MPEG audio file', 'Metal', 414380),\n",
              " (1870, 'Prince Charming', 'ReLoad', 'Metallica', 'Hetfield, Ulrich', 'MPEG audio file', 'Metal', 365061),\n",
              " (1871, \"Low Man's Lyric\", 'ReLoad', 'Metallica', 'Hetfield, Ulrich', 'MPEG audio file', 'Metal', 457639),\n",
              " (1872, 'Attitude', 'ReLoad', 'Metallica', 'Hetfield, Ulrich', 'MPEG audio file', 'Metal', 315898),\n",
              " (1873, 'Fixxxer', 'ReLoad', 'Metallica', 'Hetfield, Ulrich, Hammett', 'MPEG audio file', 'Metal', 496065),\n",
              " (1874, 'Fight Fire With Fire', 'Ride The Lightning', 'Metallica', 'Metallica', 'MPEG audio file', 'Metal', 285753),\n",
              " (1875, 'Ride The Lightning', 'Ride The Lightning', 'Metallica', 'Metallica', 'MPEG audio file', 'Metal', 397740),\n",
              " (1876, 'For Whom The Bell Tolls', 'Ride The Lightning', 'Metallica', 'Metallica', 'MPEG audio file', 'Metal', 311719),\n",
              " (1877, 'Fade To Black', 'Ride The Lightning', 'Metallica', 'Metallica', 'MPEG audio file', 'Metal', 414824),\n",
              " (1878, 'Trapped Under Ice', 'Ride The Lightning', 'Metallica', 'Metallica', 'MPEG audio file', 'Metal', 244532),\n",
              " (1879, 'Escape', 'Ride The Lightning', 'Metallica', 'Metallica', 'MPEG audio file', 'Metal', 264359),\n",
              " (1880, 'Creeping Death', 'Ride The Lightning', 'Metallica', 'Metallica', 'MPEG audio file', 'Metal', 396878),\n",
              " (1881, 'The Call Of Ktulu', 'Ride The Lightning', 'Metallica', 'Metallica', 'MPEG audio file', 'Metal', 534883),\n",
              " (1882, 'Frantic', 'St. Anger', 'Metallica', 'Bob Rock/James Hetfield/Kirk Hammett/Lars Ulrich', 'MPEG audio file', 'Metal', 350458),\n",
              " (1883, 'St. Anger', 'St. Anger', 'Metallica', 'Bob Rock/James Hetfield/Kirk Hammett/Lars Ulrich', 'MPEG audio file', 'Metal', 441234),\n",
              " (1884, 'Some Kind Of Monster', 'St. Anger', 'Metallica', 'Bob Rock/James Hetfield/Kirk Hammett/Lars Ulrich', 'MPEG audio file', 'Metal', 505626),\n",
              " (1885, 'Dirty Window', 'St. Anger', 'Metallica', 'Bob Rock/James Hetfield/Kirk Hammett/Lars Ulrich', 'MPEG audio file', 'Metal', 324989),\n",
              " (1886, 'Invisible Kid', 'St. Anger', 'Metallica', 'Bob Rock/James Hetfield/Kirk Hammett/Lars Ulrich', 'MPEG audio file', 'Metal', 510197),\n",
              " (1887, 'My World', 'St. Anger', 'Metallica', 'Bob Rock/James Hetfield/Kirk Hammett/Lars Ulrich', 'MPEG audio file', 'Metal', 345626),\n",
              " (1888, 'Shoot Me Again', 'St. Anger', 'Metallica', 'Bob Rock/James Hetfield/Kirk Hammett/Lars Ulrich', 'MPEG audio file', 'Metal', 430210),\n",
              " (1889, 'Sweet Amber', 'St. Anger', 'Metallica', 'Bob Rock/James Hetfield/Kirk Hammett/Lars Ulrich', 'MPEG audio file', 'Metal', 327235),\n",
              " (1890, 'The Unnamed Feeling', 'St. Anger', 'Metallica', 'Bob Rock/James Hetfield/Kirk Hammett/Lars Ulrich', 'MPEG audio file', 'Metal', 429479),\n",
              " (1891, 'Purify', 'St. Anger', 'Metallica', 'Bob Rock/James Hetfield/Kirk Hammett/Lars Ulrich', 'MPEG audio file', 'Metal', 314017),\n",
              " (1892, 'All Within My Hands', 'St. Anger', 'Metallica', 'Bob Rock/James Hetfield/Kirk Hammett/Lars Ulrich', 'MPEG audio file', 'Metal', 527986)]"
            ]
          },
          "execution_count": 30,
          "metadata": {},
          "output_type": "execute_result"
        }
      ],
      "source": [
        "%%sql\n",
        "\n",
        "SELECT Track.TrackId, Track.Name AS Track, Album.Title AS Album, Artist.Name AS Artist, Track.Composer, MediaType.Name AS MediaType, Genre.Name AS Genre, Track.Milliseconds FROM Track\n",
        "INNER JOIN Album ON Track.AlbumId = Album.AlbumId\n",
        "INNER JOIN Artist ON Album.ArtistId = Artist.ArtistId\n",
        "INNER JOIN MediaType ON Track.MediaTypeId = MediaType.MediaTypeId\n",
        "INNER JOIN Genre ON Track.GenreId = Genre.GenreId\n",
        "WHERE Artist.Name = 'Metallica'\n",
        "ORDER BY Album.Title"
      ]
    },
    {
      "cell_type": "code",
      "execution_count": null,
      "id": "meaningful-surgeon",
      "metadata": {
        "id": "meaningful-surgeon"
      },
      "outputs": [],
      "source": [
        "# DON'T MODIFY OR MOVE THIS CELL! IT IS USED FOR EVALUATION.\n",
        "ans6 = _"
      ]
    },
    {
      "cell_type": "markdown",
      "id": "knowing-feelings",
      "metadata": {
        "id": "knowing-feelings"
      },
      "source": [
        "(OPTIONAL) Modify the above query to show the length of each track in the \"MM:SS\" format i.e. \"03:15\". Enter the updated query in the empty cell below."
      ]
    },
    {
      "cell_type": "code",
      "execution_count": null,
      "id": "bearing-iraqi",
      "metadata": {
        "id": "bearing-iraqi"
      },
      "outputs": [],
      "source": []
    },
    {
      "cell_type": "markdown",
      "id": "steady-redhead",
      "metadata": {
        "id": "steady-redhead"
      },
      "source": [
        "(OPTIONAL) Modify the above query to include the total revenue from the sales of each track. Enter the updated query in the empty cell below."
      ]
    },
    {
      "cell_type": "code",
      "execution_count": null,
      "id": "expected-scratch",
      "metadata": {
        "id": "expected-scratch"
      },
      "outputs": [],
      "source": []
    },
    {
      "cell_type": "markdown",
      "id": "endangered-horse",
      "metadata": {
        "id": "endangered-horse"
      },
      "source": [
        "Let's save our work before continuing."
      ]
    },
    {
      "cell_type": "code",
      "execution_count": null,
      "id": "framed-fountain",
      "metadata": {
        "id": "framed-fountain",
        "outputId": "13379d73-b730-45f5-85a9-5be6e723d392"
      },
      "outputs": [
        {
          "data": {
            "application/javascript": [
              "window.require && require([\"base/js/namespace\"],function(Jupyter){Jupyter.notebook.save_checkpoint()})"
            ],
            "text/plain": [
              "<IPython.core.display.Javascript object>"
            ]
          },
          "metadata": {},
          "output_type": "display_data"
        },
        {
          "name": "stdout",
          "output_type": "stream",
          "text": [
            "[jovian] Updating notebook \"zthoufiqz55/sql-practice-assignment\" on https://jovian.ai\u001b[0m\n",
            "[jovian] Committed successfully! https://jovian.ai/zthoufiqz55/sql-practice-assignment\u001b[0m\n"
          ]
        },
        {
          "data": {
            "text/plain": [
              "'https://jovian.ai/zthoufiqz55/sql-practice-assignment'"
            ]
          },
          "execution_count": 32,
          "metadata": {},
          "output_type": "execute_result"
        }
      ],
      "source": [
        "jovian.commit()"
      ]
    },
    {
      "cell_type": "markdown",
      "id": "declared-detroit",
      "metadata": {
        "id": "declared-detroit"
      },
      "source": [
        "## Table Creation  and Foreign Keys"
      ]
    },
    {
      "cell_type": "markdown",
      "id": "selected-browser",
      "metadata": {
        "id": "selected-browser"
      },
      "source": [
        "> **QUESTION 7**: Create a new table `HallOfFame` to track the list of artists who have been added into the Chinook Hall of Fame. The table should contain three columns: \n",
        ">\n",
        "> 1. `HallOfFameId` (int): Primary key with [Auto Increment](https://www.sqlite.org/autoinc.html)\n",
        "> 2. `ArtistId` (int): Foreign key (from the Artist table)\n",
        "> 3. `YearAdded` (int): The year the artist was added to the hall of fame \n",
        ">\n",
        "> Once created, add 5 entries to the table (any artists of your choice)."
      ]
    },
    {
      "cell_type": "code",
      "execution_count": null,
      "id": "nasty-intent",
      "metadata": {
        "id": "nasty-intent",
        "outputId": "d9345234-58dc-4456-b4c9-3f8d232761b8"
      },
      "outputs": [
        {
          "name": "stdout",
          "output_type": "stream",
          "text": [
            " * sqlite:///chinook.sqlite\n",
            "Done.\n"
          ]
        },
        {
          "data": {
            "text/plain": [
              "[]"
            ]
          },
          "execution_count": 33,
          "metadata": {},
          "output_type": "execute_result"
        }
      ],
      "source": [
        "%%sql\n",
        "\n",
        "CREATE TABLE HallOfFame(\n",
        "    HallOfFameId INTEGER PRIMARY KEY AUTOINCREMENT,\n",
        "    ArtistId INTEGER,\n",
        "    YearAdded INT,\n",
        "    FOREIGN KEY(ArtistId) REFERENCES artist(ArtistId))"
      ]
    },
    {
      "cell_type": "code",
      "execution_count": null,
      "id": "infectious-justice",
      "metadata": {
        "id": "infectious-justice",
        "outputId": "27174a3c-5927-4188-e357-4525041f71f9"
      },
      "outputs": [
        {
          "name": "stdout",
          "output_type": "stream",
          "text": [
            " * sqlite:///chinook.sqlite\n",
            "1 rows affected.\n",
            "1 rows affected.\n",
            "1 rows affected.\n",
            "1 rows affected.\n",
            "1 rows affected.\n"
          ]
        },
        {
          "data": {
            "text/plain": [
              "[]"
            ]
          },
          "execution_count": 34,
          "metadata": {},
          "output_type": "execute_result"
        }
      ],
      "source": [
        "%%sql\n",
        "\n",
        "INSERT INTO HallOfFame (HallOfFameId, ArtistId, YearAdded)\n",
        "VALUES (1, 1, 2000);\n",
        "INSERT INTO HallOfFame (HallOfFameId, ArtistId, YearAdded)\n",
        "VALUES (2, 2, 2001);\n",
        "INSERT INTO HallOfFame (HallOfFameId, ArtistId, YearAdded)\n",
        "VALUES (3, 3,2003);\n",
        "INSERT INTO HallOfFame (HallOfFameId, ArtistId, YearAdded)\n",
        "VALUES (4, 4, 2005);\n",
        "INSERT INTO HallOfFame (HallOfFameId, ArtistId, YearAdded)\n",
        "VALUES (5, 5, 2008);"
      ]
    },
    {
      "cell_type": "code",
      "execution_count": null,
      "id": "increasing-isolation",
      "metadata": {
        "id": "increasing-isolation",
        "outputId": "860ea181-3864-47db-e7d3-f941c54e42e7"
      },
      "outputs": [
        {
          "name": "stdout",
          "output_type": "stream",
          "text": [
            " * sqlite:///chinook.sqlite\n",
            "Done.\n"
          ]
        },
        {
          "data": {
            "text/html": [
              "<table>\n",
              "    <tr>\n",
              "        <th>HallOfFameId</th>\n",
              "        <th>ArtistId</th>\n",
              "        <th>YearAdded</th>\n",
              "    </tr>\n",
              "    <tr>\n",
              "        <td>1</td>\n",
              "        <td>1</td>\n",
              "        <td>2000</td>\n",
              "    </tr>\n",
              "    <tr>\n",
              "        <td>2</td>\n",
              "        <td>2</td>\n",
              "        <td>2001</td>\n",
              "    </tr>\n",
              "    <tr>\n",
              "        <td>3</td>\n",
              "        <td>3</td>\n",
              "        <td>2003</td>\n",
              "    </tr>\n",
              "    <tr>\n",
              "        <td>4</td>\n",
              "        <td>4</td>\n",
              "        <td>2005</td>\n",
              "    </tr>\n",
              "    <tr>\n",
              "        <td>5</td>\n",
              "        <td>5</td>\n",
              "        <td>2008</td>\n",
              "    </tr>\n",
              "</table>"
            ],
            "text/plain": [
              "[(1, 1, 2000), (2, 2, 2001), (3, 3, 2003), (4, 4, 2005), (5, 5, 2008)]"
            ]
          },
          "execution_count": 40,
          "metadata": {},
          "output_type": "execute_result"
        }
      ],
      "source": [
        "%%sql\n",
        "SELECT * FROM HallOfFame"
      ]
    },
    {
      "cell_type": "code",
      "execution_count": null,
      "id": "allied-bubble",
      "metadata": {
        "id": "allied-bubble"
      },
      "outputs": [],
      "source": []
    },
    {
      "cell_type": "markdown",
      "id": "through-approval",
      "metadata": {
        "id": "through-approval"
      },
      "source": [
        "Once the table is created and records have been inserted, you can view the list of artists in the hall of fame using the following query."
      ]
    },
    {
      "cell_type": "code",
      "execution_count": null,
      "id": "chicken-vertical",
      "metadata": {
        "id": "chicken-vertical",
        "outputId": "c117172b-be42-40d9-ac7b-d6557cad6d04"
      },
      "outputs": [
        {
          "name": "stdout",
          "output_type": "stream",
          "text": [
            " * sqlite:///chinook.sqlite\n",
            "Done.\n"
          ]
        },
        {
          "data": {
            "text/html": [
              "<table>\n",
              "    <tr>\n",
              "        <th>HallOfFameId</th>\n",
              "        <th>ArtistId</th>\n",
              "        <th>YearAdded</th>\n",
              "        <th>ArtistId_1</th>\n",
              "        <th>Name</th>\n",
              "    </tr>\n",
              "    <tr>\n",
              "        <td>1</td>\n",
              "        <td>1</td>\n",
              "        <td>2000</td>\n",
              "        <td>1</td>\n",
              "        <td>AC/DC</td>\n",
              "    </tr>\n",
              "    <tr>\n",
              "        <td>2</td>\n",
              "        <td>2</td>\n",
              "        <td>2001</td>\n",
              "        <td>2</td>\n",
              "        <td>Accept</td>\n",
              "    </tr>\n",
              "    <tr>\n",
              "        <td>3</td>\n",
              "        <td>3</td>\n",
              "        <td>2003</td>\n",
              "        <td>3</td>\n",
              "        <td>Aerosmith</td>\n",
              "    </tr>\n",
              "    <tr>\n",
              "        <td>4</td>\n",
              "        <td>4</td>\n",
              "        <td>2005</td>\n",
              "        <td>4</td>\n",
              "        <td>Alanis Morissette</td>\n",
              "    </tr>\n",
              "    <tr>\n",
              "        <td>5</td>\n",
              "        <td>5</td>\n",
              "        <td>2008</td>\n",
              "        <td>5</td>\n",
              "        <td>Alice In Chains</td>\n",
              "    </tr>\n",
              "</table>"
            ],
            "text/plain": [
              "[(1, 1, 2000, 1, 'AC/DC'),\n",
              " (2, 2, 2001, 2, 'Accept'),\n",
              " (3, 3, 2003, 3, 'Aerosmith'),\n",
              " (4, 4, 2005, 4, 'Alanis Morissette'),\n",
              " (5, 5, 2008, 5, 'Alice In Chains')]"
            ]
          },
          "execution_count": 41,
          "metadata": {},
          "output_type": "execute_result"
        }
      ],
      "source": [
        "%%sql\n",
        "\n",
        "SELECT * FROM HallOfFame JOIN Artist ON HallOfFame.ArtistId=Artist.ArtistId"
      ]
    },
    {
      "cell_type": "code",
      "execution_count": null,
      "id": "strange-potential",
      "metadata": {
        "id": "strange-potential"
      },
      "outputs": [],
      "source": [
        "# DON'T MODIFY OR MOVE THIS CELL! IT IS USED FOR EVALUATION.\n",
        "ans7 = _"
      ]
    },
    {
      "cell_type": "markdown",
      "id": "alone-bridges",
      "metadata": {
        "id": "alone-bridges"
      },
      "source": [
        "Let's save our work before continuing."
      ]
    },
    {
      "cell_type": "code",
      "execution_count": null,
      "id": "interstate-given",
      "metadata": {
        "id": "interstate-given",
        "outputId": "0d14ec7d-ec85-46ae-c5fa-82d65efcfbbd"
      },
      "outputs": [
        {
          "data": {
            "application/javascript": [
              "window.require && require([\"base/js/namespace\"],function(Jupyter){Jupyter.notebook.save_checkpoint()})"
            ],
            "text/plain": [
              "<IPython.core.display.Javascript object>"
            ]
          },
          "metadata": {},
          "output_type": "display_data"
        },
        {
          "name": "stdout",
          "output_type": "stream",
          "text": [
            "[jovian] Updating notebook \"zthoufiqz55/sql-practice-assignment\" on https://jovian.ai\u001b[0m\n",
            "[jovian] Committed successfully! https://jovian.ai/zthoufiqz55/sql-practice-assignment\u001b[0m\n"
          ]
        },
        {
          "data": {
            "text/plain": [
              "'https://jovian.ai/zthoufiqz55/sql-practice-assignment'"
            ]
          },
          "execution_count": 43,
          "metadata": {},
          "output_type": "execute_result"
        }
      ],
      "source": [
        "jovian.commit()"
      ]
    },
    {
      "cell_type": "markdown",
      "id": "existing-supervision",
      "metadata": {
        "id": "existing-supervision"
      },
      "source": [
        "## Inserting Data into Tables\n",
        "\n",
        "> **QUESTION 8**: Write SQL queries to insert the following records into the database:\n",
        "> \n",
        "> 1. A new artist called \"Linkin Park\"\n",
        "> 2. Two new albums for the artist Linkin Park:\n",
        ">     1. Hybrid Theory\n",
        ">     2. Meteora\n",
        "> 3. Six new tracks (come up with sensible values for columns like Composer, Milliseconds etc.):\n",
        ">     1. Papercut (in the album Hybrid Theory)\n",
        ">     2. In The End (in the album Hybrid Theory)\n",
        ">     3. Crawling (in the album Hybrid Theory)\n",
        ">     4. Somewhere I Belong (in the album Meteora)\n",
        ">     5. Numb (in the album Meteora)\n",
        ">     6. Breaking the Habit (in the album Meteora)\n",
        ">\n",
        "> *Hint*: You need not provide a value for the ID (primary key) columns while inserting these rows, because the ID columns are marked as [AUTO INCREMENT](https://www.sqlite.org/autoinc.html) and will automatically be assigned the next available numeric value."
      ]
    },
    {
      "cell_type": "markdown",
      "id": "hollywood-extra",
      "metadata": {
        "id": "hollywood-extra"
      },
      "source": [
        "Here's the query to insert a new artist:"
      ]
    },
    {
      "cell_type": "code",
      "execution_count": null,
      "id": "aggregate-composite",
      "metadata": {
        "id": "aggregate-composite",
        "outputId": "c4630c08-0c2c-4f85-960d-8d825ff22fa7"
      },
      "outputs": [
        {
          "name": "stdout",
          "output_type": "stream",
          "text": [
            " * sqlite:///chinook.sqlite\n",
            "1 rows affected.\n"
          ]
        },
        {
          "data": {
            "text/plain": [
              "[]"
            ]
          },
          "execution_count": 44,
          "metadata": {},
          "output_type": "execute_result"
        }
      ],
      "source": [
        "%%sql\n",
        "\n",
        "INSERT INTO Artist (Name) VALUES (\"Linkin Park\")"
      ]
    },
    {
      "cell_type": "markdown",
      "id": "wireless-comparative",
      "metadata": {
        "id": "wireless-comparative"
      },
      "source": [
        "Write the query to insert the new albums below:"
      ]
    },
    {
      "cell_type": "code",
      "execution_count": null,
      "id": "strong-plant",
      "metadata": {
        "id": "strong-plant",
        "outputId": "bfcc3ff0-3c9c-4ec6-9fb4-82fafebc6f4f"
      },
      "outputs": [
        {
          "name": "stdout",
          "output_type": "stream",
          "text": [
            " * sqlite:///chinook.sqlite\n",
            "1 rows affected.\n",
            "1 rows affected.\n"
          ]
        },
        {
          "data": {
            "text/plain": [
              "[]"
            ]
          },
          "execution_count": 45,
          "metadata": {},
          "output_type": "execute_result"
        }
      ],
      "source": [
        "%%sql\n",
        "\n",
        "INSERT INTO Album(Title, ArtistId) \n",
        "VALUES ('Hybrid Theory', (SELECT ArtistId FROM Artist WHERE Name = 'Linkin Park'));\n",
        "INSERT INTO Album(Title, ArtistId)\n",
        "VALUES ('Meteora', (SELECT ArtistId FROM Artist WHERE Name = 'Linkin Park'));"
      ]
    },
    {
      "cell_type": "markdown",
      "id": "dental-cabin",
      "metadata": {
        "id": "dental-cabin"
      },
      "source": [
        "Write the query to insert the new tracks below:"
      ]
    },
    {
      "cell_type": "code",
      "execution_count": null,
      "id": "linear-transportation",
      "metadata": {
        "id": "linear-transportation",
        "outputId": "c5aa4896-fe0e-47b5-84e9-033db84a7e27"
      },
      "outputs": [
        {
          "name": "stdout",
          "output_type": "stream",
          "text": [
            " * sqlite:///chinook.sqlite\n",
            "1 rows affected.\n",
            "1 rows affected.\n",
            "1 rows affected.\n",
            "1 rows affected.\n",
            "1 rows affected.\n",
            "1 rows affected.\n"
          ]
        },
        {
          "data": {
            "text/plain": [
              "[]"
            ]
          },
          "execution_count": 46,
          "metadata": {},
          "output_type": "execute_result"
        }
      ],
      "source": [
        "%%sql\n",
        "\n",
        "INSERT INTO TRACK(Name, AlbumId, MediaTypeId, GenreId, Composer, Milliseconds, Bytes, Unitprice) \n",
        "VALUES ('Papercut', (SELECT AlbumId FROM Album WHERE Title = 'Hybrid Theory'),3, 1,'Joe Hann, Mike Shinoda, Chester Bennington, Brad Delson, Rob Bourdon', 224640, 6146080, 0.99);\n",
        "INSERT INTO TRACK(Name, AlbumId, MediaTypeId, GenreId, Composer, Milliseconds, Bytes, Unitprice) \n",
        "VALUES ('In the End', (SELECT AlbumId FROM Album WHERE Title = 'Hybrid Theory'),3, 1,'Chester Bennington, Joe Hann, Mike Shinoda, Brad Delson, Rob Bourdon', 240560, 6579980, 1.99);\n",
        "INSERT INTO TRACK(Name, AlbumId, MediaTypeId, GenreId, Composer, Milliseconds, Bytes, Unitprice) \n",
        "VALUES ('Crawling', (SELECT AlbumId FROM Album WHERE Title = 'Hybrid Theory'),3, 1,'Chester Bennington, Joe Hann, Mike Shinoda, Brad Delson, Rob Bourdon', 272325, 6962570, 0.99);\n",
        "INSERT INTO TRACK(Name, AlbumId, MediaTypeId, GenreId, Composer, Milliseconds, Bytes, Unitprice) \n",
        "VALUES ('Somewhere I Belong', (SELECT AlbumId FROM Album WHERE Title = 'Meteora'),3, 1,'Dave Farrell', 268978, 6951753, 0.99);\n",
        "INSERT INTO TRACK(Name, AlbumId, MediaTypeId, GenreId, Composer, Milliseconds, Bytes, Unitprice) \n",
        "VALUES ('Numb', (SELECT AlbumId FROM Album WHERE Title = 'Meteora'),3, 1,'Dave Farrell, Chester Bennington, Joe Hann, Mike Shinoda, Brad Delson, Rob Bourdon', 295625, 6876543, 1.99);\n",
        "INSERT INTO TRACK(Name, AlbumId, MediaTypeId, GenreId, Composer, Milliseconds, Bytes, Unitprice) \n",
        "VALUES ('Breaking the Habit', (SELECT AlbumId FROM Album WHERE Title = 'Meteora'),3, 1,'Dave Farrell, Chester Bennington, Joe Hann, Mike Shinoda, Brad Delson, Rob Bourdon', 287634, 6852456, 1.99);"
      ]
    },
    {
      "cell_type": "code",
      "execution_count": null,
      "id": "annoying-bulgarian",
      "metadata": {
        "id": "annoying-bulgarian"
      },
      "outputs": [],
      "source": []
    },
    {
      "cell_type": "code",
      "execution_count": null,
      "id": "characteristic-exposure",
      "metadata": {
        "id": "characteristic-exposure"
      },
      "outputs": [],
      "source": []
    },
    {
      "cell_type": "code",
      "execution_count": null,
      "id": "three-toddler",
      "metadata": {
        "id": "three-toddler"
      },
      "outputs": [],
      "source": []
    },
    {
      "cell_type": "markdown",
      "id": "executive-investment",
      "metadata": {
        "id": "executive-investment"
      },
      "source": [
        "Make sure to insert exactly one copy of each of the above records. If you've inserted multiple copies, delete the extra rows before submitting.\n",
        "\n",
        "If the records were inserted properly, you should be able to retrieve them back using the following queries."
      ]
    },
    {
      "cell_type": "code",
      "execution_count": null,
      "id": "different-future",
      "metadata": {
        "id": "different-future",
        "outputId": "44c5fd11-4caa-40f0-8236-cf05d4b02940"
      },
      "outputs": [
        {
          "name": "stdout",
          "output_type": "stream",
          "text": [
            " * sqlite:///chinook.sqlite\n",
            "Done.\n"
          ]
        },
        {
          "data": {
            "text/html": [
              "<table>\n",
              "    <tr>\n",
              "        <th>ArtistId</th>\n",
              "        <th>Name</th>\n",
              "    </tr>\n",
              "    <tr>\n",
              "        <td>276</td>\n",
              "        <td>Linkin Park</td>\n",
              "    </tr>\n",
              "</table>"
            ],
            "text/plain": [
              "[(276, 'Linkin Park')]"
            ]
          },
          "execution_count": 47,
          "metadata": {},
          "output_type": "execute_result"
        }
      ],
      "source": [
        "%%sql\n",
        "\n",
        "SELECT * FROM Artist WHERE Name=\"Linkin Park\""
      ]
    },
    {
      "cell_type": "code",
      "execution_count": null,
      "id": "traditional-provincial",
      "metadata": {
        "id": "traditional-provincial"
      },
      "outputs": [],
      "source": [
        "# DON'T MODIFY OR MOVE THIS CELL! IT IS USED FOR EVALUATION.\n",
        "ans8a = _"
      ]
    },
    {
      "cell_type": "code",
      "execution_count": null,
      "id": "nearby-insurance",
      "metadata": {
        "id": "nearby-insurance",
        "outputId": "974f098b-fb73-44fb-e2d4-f6c46bba0fa6"
      },
      "outputs": [
        {
          "name": "stdout",
          "output_type": "stream",
          "text": [
            " * sqlite:///chinook.sqlite\n",
            "Done.\n"
          ]
        },
        {
          "data": {
            "text/html": [
              "<table>\n",
              "    <tr>\n",
              "        <th>AlbumId</th>\n",
              "        <th>Title</th>\n",
              "        <th>ArtistId</th>\n",
              "        <th>ArtistId_1</th>\n",
              "        <th>Name</th>\n",
              "    </tr>\n",
              "    <tr>\n",
              "        <td>348</td>\n",
              "        <td>Hybrid Theory</td>\n",
              "        <td>276</td>\n",
              "        <td>276</td>\n",
              "        <td>Linkin Park</td>\n",
              "    </tr>\n",
              "    <tr>\n",
              "        <td>349</td>\n",
              "        <td>Meteora</td>\n",
              "        <td>276</td>\n",
              "        <td>276</td>\n",
              "        <td>Linkin Park</td>\n",
              "    </tr>\n",
              "</table>"
            ],
            "text/plain": [
              "[(348, 'Hybrid Theory', 276, 276, 'Linkin Park'),\n",
              " (349, 'Meteora', 276, 276, 'Linkin Park')]"
            ]
          },
          "execution_count": 49,
          "metadata": {},
          "output_type": "execute_result"
        }
      ],
      "source": [
        "%%sql\n",
        "\n",
        "SELECT * FROM Album JOIN Artist on Album.ArtistId=Artist.ArtistId WHERE Artist.Name=\"Linkin Park\""
      ]
    },
    {
      "cell_type": "code",
      "execution_count": null,
      "id": "outside-pearl",
      "metadata": {
        "id": "outside-pearl"
      },
      "outputs": [],
      "source": [
        "# DON'T MODIFY OR MOVE THIS CELL! IT IS USED FOR EVALUATION.\n",
        "ans8b = _"
      ]
    },
    {
      "cell_type": "code",
      "execution_count": null,
      "id": "early-evaluation",
      "metadata": {
        "id": "early-evaluation",
        "outputId": "01dff0c5-24a5-4537-c2fd-901e6c1c269b"
      },
      "outputs": [
        {
          "name": "stdout",
          "output_type": "stream",
          "text": [
            " * sqlite:///chinook.sqlite\n",
            "Done.\n"
          ]
        },
        {
          "data": {
            "text/html": [
              "<table>\n",
              "    <tr>\n",
              "        <th>TrackId</th>\n",
              "        <th>Name</th>\n",
              "        <th>AlbumId</th>\n",
              "        <th>MediaTypeId</th>\n",
              "        <th>GenreId</th>\n",
              "        <th>Composer</th>\n",
              "        <th>Milliseconds</th>\n",
              "        <th>Bytes</th>\n",
              "        <th>UnitPrice</th>\n",
              "        <th>AlbumId_1</th>\n",
              "        <th>Title</th>\n",
              "        <th>ArtistId</th>\n",
              "        <th>ArtistId_1</th>\n",
              "        <th>Name_1</th>\n",
              "    </tr>\n",
              "    <tr>\n",
              "        <td>3504</td>\n",
              "        <td>Papercut</td>\n",
              "        <td>348</td>\n",
              "        <td>3</td>\n",
              "        <td>1</td>\n",
              "        <td>Joe Hann, Mike Shinoda, Chester Bennington, Brad Delson, Rob Bourdon</td>\n",
              "        <td>224640</td>\n",
              "        <td>6146080</td>\n",
              "        <td>0.99</td>\n",
              "        <td>348</td>\n",
              "        <td>Hybrid Theory</td>\n",
              "        <td>276</td>\n",
              "        <td>276</td>\n",
              "        <td>Linkin Park</td>\n",
              "    </tr>\n",
              "    <tr>\n",
              "        <td>3505</td>\n",
              "        <td>In the End</td>\n",
              "        <td>348</td>\n",
              "        <td>3</td>\n",
              "        <td>1</td>\n",
              "        <td>Chester Bennington, Joe Hann, Mike Shinoda, Brad Delson, Rob Bourdon</td>\n",
              "        <td>240560</td>\n",
              "        <td>6579980</td>\n",
              "        <td>1.99</td>\n",
              "        <td>348</td>\n",
              "        <td>Hybrid Theory</td>\n",
              "        <td>276</td>\n",
              "        <td>276</td>\n",
              "        <td>Linkin Park</td>\n",
              "    </tr>\n",
              "    <tr>\n",
              "        <td>3506</td>\n",
              "        <td>Crawling</td>\n",
              "        <td>348</td>\n",
              "        <td>3</td>\n",
              "        <td>1</td>\n",
              "        <td>Chester Bennington, Joe Hann, Mike Shinoda, Brad Delson, Rob Bourdon</td>\n",
              "        <td>272325</td>\n",
              "        <td>6962570</td>\n",
              "        <td>0.99</td>\n",
              "        <td>348</td>\n",
              "        <td>Hybrid Theory</td>\n",
              "        <td>276</td>\n",
              "        <td>276</td>\n",
              "        <td>Linkin Park</td>\n",
              "    </tr>\n",
              "    <tr>\n",
              "        <td>3507</td>\n",
              "        <td>Somewhere I Belong</td>\n",
              "        <td>349</td>\n",
              "        <td>3</td>\n",
              "        <td>1</td>\n",
              "        <td>Dave Farrell</td>\n",
              "        <td>268978</td>\n",
              "        <td>6951753</td>\n",
              "        <td>0.99</td>\n",
              "        <td>349</td>\n",
              "        <td>Meteora</td>\n",
              "        <td>276</td>\n",
              "        <td>276</td>\n",
              "        <td>Linkin Park</td>\n",
              "    </tr>\n",
              "    <tr>\n",
              "        <td>3508</td>\n",
              "        <td>Numb</td>\n",
              "        <td>349</td>\n",
              "        <td>3</td>\n",
              "        <td>1</td>\n",
              "        <td>Dave Farrell, Chester Bennington, Joe Hann, Mike Shinoda, Brad Delson, Rob Bourdon</td>\n",
              "        <td>295625</td>\n",
              "        <td>6876543</td>\n",
              "        <td>1.99</td>\n",
              "        <td>349</td>\n",
              "        <td>Meteora</td>\n",
              "        <td>276</td>\n",
              "        <td>276</td>\n",
              "        <td>Linkin Park</td>\n",
              "    </tr>\n",
              "    <tr>\n",
              "        <td>3509</td>\n",
              "        <td>Breaking the Habit</td>\n",
              "        <td>349</td>\n",
              "        <td>3</td>\n",
              "        <td>1</td>\n",
              "        <td>Dave Farrell, Chester Bennington, Joe Hann, Mike Shinoda, Brad Delson, Rob Bourdon</td>\n",
              "        <td>287634</td>\n",
              "        <td>6852456</td>\n",
              "        <td>1.99</td>\n",
              "        <td>349</td>\n",
              "        <td>Meteora</td>\n",
              "        <td>276</td>\n",
              "        <td>276</td>\n",
              "        <td>Linkin Park</td>\n",
              "    </tr>\n",
              "</table>"
            ],
            "text/plain": [
              "[(3504, 'Papercut', 348, 3, 1, 'Joe Hann, Mike Shinoda, Chester Bennington, Brad Delson, Rob Bourdon', 224640, 6146080, 0.99, 348, 'Hybrid Theory', 276, 276, 'Linkin Park'),\n",
              " (3505, 'In the End', 348, 3, 1, 'Chester Bennington, Joe Hann, Mike Shinoda, Brad Delson, Rob Bourdon', 240560, 6579980, 1.99, 348, 'Hybrid Theory', 276, 276, 'Linkin Park'),\n",
              " (3506, 'Crawling', 348, 3, 1, 'Chester Bennington, Joe Hann, Mike Shinoda, Brad Delson, Rob Bourdon', 272325, 6962570, 0.99, 348, 'Hybrid Theory', 276, 276, 'Linkin Park'),\n",
              " (3507, 'Somewhere I Belong', 349, 3, 1, 'Dave Farrell', 268978, 6951753, 0.99, 349, 'Meteora', 276, 276, 'Linkin Park'),\n",
              " (3508, 'Numb', 349, 3, 1, 'Dave Farrell, Chester Bennington, Joe Hann, Mike Shinoda, Brad Delson, Rob Bourdon', 295625, 6876543, 1.99, 349, 'Meteora', 276, 276, 'Linkin Park'),\n",
              " (3509, 'Breaking the Habit', 349, 3, 1, 'Dave Farrell, Chester Bennington, Joe Hann, Mike Shinoda, Brad Delson, Rob Bourdon', 287634, 6852456, 1.99, 349, 'Meteora', 276, 276, 'Linkin Park')]"
            ]
          },
          "execution_count": 51,
          "metadata": {},
          "output_type": "execute_result"
        }
      ],
      "source": [
        "%%sql\n",
        "\n",
        "SELECT * \n",
        "    FROM Track JOIN Album\n",
        "    ON Track.AlbumId=Album.AlbumId\n",
        "    JOIN Artist\n",
        "    ON Album.ArtistId=Artist.ArtistId \n",
        "    WHERE Artist.Name=\"Linkin Park\""
      ]
    },
    {
      "cell_type": "code",
      "execution_count": null,
      "id": "phantom-yorkshire",
      "metadata": {
        "id": "phantom-yorkshire"
      },
      "outputs": [],
      "source": [
        "# DON'T MODIFY OR MOVE THIS CELL! IT IS USED FOR EVALUATION.\n",
        "ans8c = _"
      ]
    },
    {
      "cell_type": "code",
      "execution_count": null,
      "id": "involved-report",
      "metadata": {
        "id": "involved-report"
      },
      "outputs": [],
      "source": []
    },
    {
      "cell_type": "code",
      "execution_count": null,
      "id": "outstanding-location",
      "metadata": {
        "id": "outstanding-location"
      },
      "outputs": [],
      "source": []
    },
    {
      "cell_type": "markdown",
      "id": "atlantic-sigma",
      "metadata": {
        "id": "atlantic-sigma"
      },
      "source": [
        "Let's save our work before continuing."
      ]
    },
    {
      "cell_type": "code",
      "execution_count": null,
      "id": "unable-staff",
      "metadata": {
        "id": "unable-staff",
        "outputId": "7d91dbda-147d-4200-f6aa-3ddd8b412c2f"
      },
      "outputs": [
        {
          "data": {
            "application/javascript": [
              "window.require && require([\"base/js/namespace\"],function(Jupyter){Jupyter.notebook.save_checkpoint()})"
            ],
            "text/plain": [
              "<IPython.core.display.Javascript object>"
            ]
          },
          "metadata": {},
          "output_type": "display_data"
        },
        {
          "name": "stdout",
          "output_type": "stream",
          "text": [
            "[jovian] Updating notebook \"zthoufiqz55/sql-practice-assignment\" on https://jovian.ai\u001b[0m\n",
            "[jovian] Committed successfully! https://jovian.ai/zthoufiqz55/sql-practice-assignment\u001b[0m\n"
          ]
        },
        {
          "data": {
            "text/plain": [
              "'https://jovian.ai/zthoufiqz55/sql-practice-assignment'"
            ]
          },
          "execution_count": 53,
          "metadata": {},
          "output_type": "execute_result"
        }
      ],
      "source": [
        "jovian.commit()"
      ]
    },
    {
      "cell_type": "markdown",
      "id": "indonesian-dealer",
      "metadata": {
        "id": "indonesian-dealer"
      },
      "source": [
        "## Make a Submission\n",
        "\n",
        "To make a submission, you can submit your Jovian notebook link on the assignment page.\n",
        "\n",
        "You can also make a submission from Jupyter by executing the following cell:"
      ]
    },
    {
      "cell_type": "code",
      "execution_count": null,
      "id": "affected-designation",
      "metadata": {
        "id": "affected-designation",
        "outputId": "66664c73-4034-467a-f42d-738778cf1eba"
      },
      "outputs": [
        {
          "data": {
            "application/javascript": [
              "window.require && require([\"base/js/namespace\"],function(Jupyter){Jupyter.notebook.save_checkpoint()})"
            ],
            "text/plain": [
              "<IPython.core.display.Javascript object>"
            ]
          },
          "metadata": {},
          "output_type": "display_data"
        }
      ],
      "source": [
        "jovian.submit('dsmlbootcamp-sql')"
      ]
    },
    {
      "cell_type": "markdown",
      "id": "toxic-checkout",
      "metadata": {
        "id": "toxic-checkout"
      },
      "source": [
        "You can make any number of submissions. Only your final submission will be considered for grading.\n",
        "\n",
        "Here are some more optional questions you can try solving: https://github.com/LucasMcL/15-sql_queries_02-chinook"
      ]
    }
  ],
  "metadata": {
    "kernelspec": {
      "display_name": "Python 3 (ipykernel)",
      "language": "python",
      "name": "python3"
    },
    "language_info": {
      "codemirror_mode": {
        "name": "ipython",
        "version": 3
      },
      "file_extension": ".py",
      "mimetype": "text/x-python",
      "name": "python",
      "nbconvert_exporter": "python",
      "pygments_lexer": "ipython3",
      "version": "3.9.6"
    },
    "colab": {
      "provenance": []
    }
  },
  "nbformat": 4,
  "nbformat_minor": 5
}